{
 "cells": [
  {
   "cell_type": "code",
   "execution_count": 1,
   "id": "065a9976-533c-40bd-a1d3-363e7f79d0c9",
   "metadata": {},
   "outputs": [],
   "source": [
    "import logging; logging.basicConfig(level=logging.INFO)\n",
    "import tensorflow as tf\n",
    "import numpy as np\n",
    "import matplotlib.pyplot as plt\n",
    "import logictensornetworks as ltn\n",
    "import pandas as pd\n",
    "from sklearn.model_selection import train_test_split"
   ]
  },
  {
   "cell_type": "code",
   "execution_count": 12,
   "id": "44637eda-3b4b-4ca3-af6e-173acfe34a27",
   "metadata": {},
   "outputs": [],
   "source": [
    "import matplotlib.pyplot as plt\n",
    "def plot_history(history):\n",
    "    plt.figure()\n",
    "    plt.xlabel('Epoch')\n",
    "    plt.ylabel('Mean Abs Error [1000$]')\n",
    "    plt.plot(history.epoch, np.array(history.history['mae']), \n",
    "           label='Train')\n",
    "    plt.plot(history.epoch, np.array(history.history['val_mae']),\n",
    "           label = 'Val')\n",
    "    plt.legend()\n",
    "    plt.ylim([0,max(history.history['val_mae'])])\n",
    "\n",
    "def plot_prediction(test_labels, test_predictions):\n",
    "    plt.figure()\n",
    "    plt.scatter(test_labels, test_predictions)\n",
    "    plt.xlabel('True Values [1000$]')\n",
    "    plt.ylabel('Predictions [1000$]')\n",
    "    plt.axis('equal')\n",
    "    plt.xlim(plt.xlim())\n",
    "    plt.ylim(plt.ylim())\n",
    "    _ = plt.plot([-100, 100],[-100,100])\n",
    "\n",
    "    plt.figure()\n",
    "    error = test_predictions - test_labels\n",
    "    plt.hist(error, bins = 50)\n",
    "    plt.xlabel(\"Prediction Error [1000$]\")\n",
    "    _ = plt.ylabel(\"Count\")"
   ]
  },
  {
   "cell_type": "code",
   "execution_count": 2,
   "id": "ba0f4e6e-f45a-48d1-af7d-c8f5a3445967",
   "metadata": {},
   "outputs": [
    {
     "name": "stdout",
     "output_type": "stream",
     "text": [
      "(36573, 11)\n"
     ]
    }
   ],
   "source": [
    "df = pd.read_csv(\"/Users/eduard.hogea/Documents/Facultate/Internship/explorare/KNN99---LTN/datesets/Cantilever/training_sectiune/tot.csv\", on_bad_lines='skip', skiprows=1)\n",
    "df = df.sample(frac=1) #shuffle\n",
    "print(df.shape)"
   ]
  },
  {
   "cell_type": "code",
   "execution_count": 3,
   "id": "ceb940b6-7050-4c87-b780-34344a58d5a8",
   "metadata": {},
   "outputs": [
    {
     "name": "stdout",
     "output_type": "stream",
     "text": [
      "Null values in dataset are 0\n"
     ]
    },
    {
     "data": {
      "text/plain": [
       "(36573, 11)"
      ]
     },
     "execution_count": 3,
     "metadata": {},
     "output_type": "execute_result"
    }
   ],
   "source": [
    "df.drop_duplicates(keep= 'first', inplace=True) #eliminarea dublurilor liniilor\n",
    "df.replace([np.inf, -np.inf], np.nan, inplace=True)\n",
    "df.dropna(inplace = True)\n",
    "print('Null values in dataset are',len(df[df.isnull().any(1)]))\n",
    "df.shape"
   ]
  },
  {
   "cell_type": "code",
   "execution_count": 4,
   "id": "409ed42b-2233-4566-9c40-d16fae9a8e60",
   "metadata": {},
   "outputs": [],
   "source": [
    "X = df[['Mod 1', 'Mod 2','Mod 3','Mod 4','Mod 5','Mod 6','Mod 7','Mod 8']].values\n",
    "y = df[['Pozitie']].values\n",
    "train_labels = ['Mod 1', 'Mod 2','Mod 3','Mod 4','Mod 5','Mod 6','Mod 7','Mod 8']"
   ]
  },
  {
   "cell_type": "code",
   "execution_count": 5,
   "id": "9968c475-8249-4bd7-ba81-dd3adf153bc0",
   "metadata": {},
   "outputs": [],
   "source": [
    "X_train, X_test, y_train, y_test = train_test_split(X, y, test_size=0.3, random_state=42)"
   ]
  },
  {
   "cell_type": "code",
   "execution_count": 6,
   "id": "c6c899a9-54d3-447d-8bde-00f1f5906237",
   "metadata": {},
   "outputs": [
    {
     "name": "stdout",
     "output_type": "stream",
     "text": [
      "After reshape train date set shape:\n",
      " (25601, 8, 1)\n",
      "1 Sample shape:\n",
      " (8, 1)\n",
      "An example sample:\n",
      " [[0.0015506 ]\n",
      " [0.00209404]\n",
      " [0.00170922]\n",
      " [0.00078763]\n",
      " [0.00298453]\n",
      " [0.00063082]\n",
      " [0.00207314]\n",
      " [0.0021649 ]]\n"
     ]
    }
   ],
   "source": [
    "sample_size = X_train.shape[0]\n",
    "time_steps = X_train.shape[1]\n",
    "input_dimensions = 1\n",
    "\n",
    "train_data_reshaped = X_train.reshape(sample_size, time_steps, input_dimensions)\n",
    "print(\"After reshape train date set shape:\\n\", train_data_reshaped.shape)\n",
    "print(\"1 Sample shape:\\n\", train_data_reshaped[0].shape)\n",
    "print(\"An example sample:\\n\", train_data_reshaped[0])"
   ]
  },
  {
   "cell_type": "code",
   "execution_count": 7,
   "id": "4d011e9f-aaf9-4d18-89c8-c68af0769e8e",
   "metadata": {},
   "outputs": [],
   "source": [
    "test_data_reshaped = X_test.reshape(X_test.shape[0], X_test.shape[1], 1)"
   ]
  },
  {
   "cell_type": "code",
   "execution_count": 8,
   "id": "5baf8a27-11a4-4acc-9776-c8d338bc8d14",
   "metadata": {},
   "outputs": [
    {
     "data": {
      "text/plain": [
       "1"
      ]
     },
     "execution_count": 8,
     "metadata": {},
     "output_type": "execute_result"
    }
   ],
   "source": [
    "train_data_reshaped.shape[2]"
   ]
  },
  {
   "cell_type": "code",
   "execution_count": 9,
   "id": "891c6b55-9ec1-4f7d-9ee5-3e497cb1c1b2",
   "metadata": {},
   "outputs": [
    {
     "name": "stdout",
     "output_type": "stream",
     "text": [
      "Metal device set to: Apple M1\n",
      "Model: \"model_conv1D\"\n",
      "_________________________________________________________________\n",
      " Layer (type)                Output Shape              Param #   \n",
      "=================================================================\n",
      " Conv1D_1 (Conv1D)           (None, 5, 64)             320       \n",
      "                                                                 \n",
      " dropout (Dropout)           (None, 5, 64)             0         \n",
      "                                                                 \n",
      " Conv1D_2 (Conv1D)           (None, 3, 32)             6176      \n",
      "                                                                 \n",
      " Conv1D_3 (Conv1D)           (None, 2, 16)             1040      \n",
      "                                                                 \n",
      " MaxPooling1D (MaxPooling1D)  (None, 1, 16)            0         \n",
      "                                                                 \n",
      " flatten (Flatten)           (None, 16)                0         \n",
      "                                                                 \n",
      " Dense_1 (Dense)             (None, 32)                544       \n",
      "                                                                 \n",
      " Dense_2 (Dense)             (None, 1)                 33        \n",
      "                                                                 \n",
      "=================================================================\n",
      "Total params: 8,113\n",
      "Trainable params: 8,113\n",
      "Non-trainable params: 0\n",
      "_________________________________________________________________\n"
     ]
    },
    {
     "name": "stderr",
     "output_type": "stream",
     "text": [
      "2022-07-18 14:01:53.382212: I tensorflow/core/common_runtime/pluggable_device/pluggable_device_factory.cc:305] Could not identify NUMA node of platform GPU ID 0, defaulting to 0. Your kernel may not have been built with NUMA support.\n",
      "2022-07-18 14:01:53.382296: I tensorflow/core/common_runtime/pluggable_device/pluggable_device_factory.cc:271] Created TensorFlow device (/job:localhost/replica:0/task:0/device:GPU:0 with 0 MB memory) -> physical PluggableDevice (device: 0, name: METAL, pci bus id: <undefined>)\n"
     ]
    }
   ],
   "source": [
    "import keras\n",
    "def build_conv1D_model():\n",
    "\n",
    "    n_timesteps = train_data_reshaped.shape[1] #13\n",
    "    n_features  = train_data_reshaped.shape[2] #1 \n",
    "    model = keras.Sequential(name=\"model_conv1D\")\n",
    "    model.add(keras.layers.Input(shape=(n_timesteps,n_features)))\n",
    "    model.add(keras.layers.Conv1D(filters=64, kernel_size=4, activation='relu', name=\"Conv1D_1\"))\n",
    "    model.add(keras.layers.Dropout(0.5))\n",
    "    model.add(keras.layers.Conv1D(filters=32, kernel_size=3, activation='relu', name=\"Conv1D_2\"))\n",
    "  \n",
    "    model.add(keras.layers.Conv1D(filters=16, kernel_size=2, activation='relu', name=\"Conv1D_3\"))\n",
    "  \n",
    "    model.add(keras.layers.MaxPooling1D(pool_size=2, name=\"MaxPooling1D\"))\n",
    "    model.add(keras.layers.Flatten())\n",
    "    model.add(keras.layers.Dense(32, activation='relu', name=\"Dense_1\"))\n",
    "    model.add(keras.layers.Dense(n_features, name=\"Dense_2\"))\n",
    "\n",
    "\n",
    "    optimizer = tf.keras.optimizers.RMSprop(0.001)\n",
    "\n",
    "    model.compile(loss='mse',optimizer=optimizer,metrics=['mae'])\n",
    "    return model\n",
    "\n",
    "model_conv1D = build_conv1D_model()\n",
    "model_conv1D.summary()"
   ]
  },
  {
   "cell_type": "code",
   "execution_count": 10,
   "id": "8a4bf77b-705f-4cc2-a567-1d0eb965647f",
   "metadata": {},
   "outputs": [
    {
     "name": "stdout",
     "output_type": "stream",
     "text": [
      "Epoch 1/100\n"
     ]
    },
    {
     "name": "stderr",
     "output_type": "stream",
     "text": [
      "2022-07-18 14:01:53.483493: W tensorflow/core/platform/profile_utils/cpu_utils.cc:128] Failed to get CPU frequency: 0 Hz\n",
      "2022-07-18 14:01:53.655572: I tensorflow/core/grappler/optimizers/custom_graph_optimizer_registry.cc:112] Plugin optimizer for device_type GPU is enabled.\n"
     ]
    },
    {
     "name": "stdout",
     "output_type": "stream",
     "text": [
      "637/640 [============================>.] - ETA: 0s - loss: 0.0824 - mae: 0.2471"
     ]
    },
    {
     "name": "stderr",
     "output_type": "stream",
     "text": [
      "2022-07-18 14:01:57.327961: I tensorflow/core/grappler/optimizers/custom_graph_optimizer_registry.cc:112] Plugin optimizer for device_type GPU is enabled.\n"
     ]
    },
    {
     "name": "stdout",
     "output_type": "stream",
     "text": [
      "640/640 [==============================] - 4s 6ms/step - loss: 0.0823 - mae: 0.2470 - val_loss: 0.0716 - val_mae: 0.2314\n",
      "Epoch 2/100\n",
      "640/640 [==============================] - 3s 5ms/step - loss: 0.0513 - mae: 0.1811 - val_loss: 0.0515 - val_mae: 0.1830\n",
      "Epoch 3/100\n",
      "640/640 [==============================] - 3s 5ms/step - loss: 0.0357 - mae: 0.1383 - val_loss: 0.0397 - val_mae: 0.1552\n",
      "Epoch 4/100\n",
      "640/640 [==============================] - 3s 5ms/step - loss: 0.0292 - mae: 0.1196 - val_loss: 0.0629 - val_mae: 0.1866\n",
      "Epoch 5/100\n",
      "640/640 [==============================] - 3s 5ms/step - loss: 0.0257 - mae: 0.1095 - val_loss: 0.0284 - val_mae: 0.1283\n",
      "Epoch 6/100\n",
      "640/640 [==============================] - 3s 5ms/step - loss: 0.0237 - mae: 0.1027 - val_loss: 0.0319 - val_mae: 0.1322\n",
      "Epoch 7/100\n",
      "640/640 [==============================] - 3s 5ms/step - loss: 0.0220 - mae: 0.0966 - val_loss: 0.0301 - val_mae: 0.1268\n",
      "Epoch 8/100\n",
      "640/640 [==============================] - 3s 5ms/step - loss: 0.0204 - mae: 0.0915 - val_loss: 0.0367 - val_mae: 0.1267\n",
      "Epoch 9/100\n",
      "640/640 [==============================] - 3s 5ms/step - loss: 0.0188 - mae: 0.0864 - val_loss: 0.0208 - val_mae: 0.0986\n",
      "Epoch 10/100\n",
      "640/640 [==============================] - 3s 5ms/step - loss: 0.0183 - mae: 0.0834 - val_loss: 0.0333 - val_mae: 0.1283\n",
      "Epoch 11/100\n",
      "640/640 [==============================] - 3s 5ms/step - loss: 0.0173 - mae: 0.0804 - val_loss: 0.0263 - val_mae: 0.1139\n",
      "Epoch 12/100\n",
      "640/640 [==============================] - 3s 5ms/step - loss: 0.0166 - mae: 0.0774 - val_loss: 0.0225 - val_mae: 0.1029\n",
      "Epoch 13/100\n",
      "640/640 [==============================] - 3s 5ms/step - loss: 0.0159 - mae: 0.0756 - val_loss: 0.0234 - val_mae: 0.1001\n",
      "Epoch 14/100\n",
      "640/640 [==============================] - 3s 5ms/step - loss: 0.0156 - mae: 0.0742 - val_loss: 0.0371 - val_mae: 0.1289\n",
      "Epoch 15/100\n",
      "640/640 [==============================] - 3s 5ms/step - loss: 0.0151 - mae: 0.0721 - val_loss: 0.0302 - val_mae: 0.1141\n",
      "Epoch 16/100\n",
      "640/640 [==============================] - 3s 5ms/step - loss: 0.0146 - mae: 0.0703 - val_loss: 0.0262 - val_mae: 0.1057\n",
      "Epoch 17/100\n",
      "640/640 [==============================] - 3s 5ms/step - loss: 0.0137 - mae: 0.0681 - val_loss: 0.0168 - val_mae: 0.0811\n",
      "Epoch 18/100\n",
      "640/640 [==============================] - 4s 6ms/step - loss: 0.0136 - mae: 0.0673 - val_loss: 0.0201 - val_mae: 0.0933\n",
      "Epoch 19/100\n",
      "640/640 [==============================] - 3s 5ms/step - loss: 0.0129 - mae: 0.0652 - val_loss: 0.0235 - val_mae: 0.0945\n",
      "Epoch 20/100\n",
      "640/640 [==============================] - 4s 6ms/step - loss: 0.0125 - mae: 0.0642 - val_loss: 0.0214 - val_mae: 0.0909\n",
      "Epoch 21/100\n",
      "640/640 [==============================] - 4s 6ms/step - loss: 0.0121 - mae: 0.0626 - val_loss: 0.0173 - val_mae: 0.0803\n",
      "Epoch 22/100\n",
      "640/640 [==============================] - 4s 5ms/step - loss: 0.0118 - mae: 0.0618 - val_loss: 0.0138 - val_mae: 0.0749\n",
      "Epoch 23/100\n",
      "640/640 [==============================] - 4s 6ms/step - loss: 0.0118 - mae: 0.0605 - val_loss: 0.0173 - val_mae: 0.0836\n",
      "Epoch 24/100\n",
      "640/640 [==============================] - 4s 6ms/step - loss: 0.0112 - mae: 0.0588 - val_loss: 0.0170 - val_mae: 0.0847\n",
      "Epoch 25/100\n",
      "640/640 [==============================] - 4s 6ms/step - loss: 0.0110 - mae: 0.0586 - val_loss: 0.0161 - val_mae: 0.0785\n",
      "Epoch 26/100\n",
      "640/640 [==============================] - 4s 6ms/step - loss: 0.0107 - mae: 0.0574 - val_loss: 0.0240 - val_mae: 0.0964\n",
      "Epoch 27/100\n",
      "640/640 [==============================] - 4s 6ms/step - loss: 0.0107 - mae: 0.0569 - val_loss: 0.0141 - val_mae: 0.0723\n",
      "Epoch 28/100\n",
      "640/640 [==============================] - 4s 6ms/step - loss: 0.0103 - mae: 0.0555 - val_loss: 0.0140 - val_mae: 0.0729\n",
      "Epoch 29/100\n",
      "640/640 [==============================] - 4s 6ms/step - loss: 0.0098 - mae: 0.0540 - val_loss: 0.0128 - val_mae: 0.0687\n",
      "Epoch 30/100\n",
      "640/640 [==============================] - 4s 6ms/step - loss: 0.0104 - mae: 0.0551 - val_loss: 0.0114 - val_mae: 0.0664\n",
      "Epoch 31/100\n",
      "640/640 [==============================] - 4s 6ms/step - loss: 0.0100 - mae: 0.0538 - val_loss: 0.0142 - val_mae: 0.0755\n",
      "Epoch 32/100\n",
      "640/640 [==============================] - 4s 6ms/step - loss: 0.0095 - mae: 0.0527 - val_loss: 0.0151 - val_mae: 0.0728\n",
      "Epoch 33/100\n",
      "640/640 [==============================] - 4s 6ms/step - loss: 0.0091 - mae: 0.0517 - val_loss: 0.0136 - val_mae: 0.0702\n",
      "Epoch 34/100\n",
      "640/640 [==============================] - 4s 6ms/step - loss: 0.0090 - mae: 0.0512 - val_loss: 0.0142 - val_mae: 0.0713\n",
      "Epoch 35/100\n",
      "640/640 [==============================] - 4s 6ms/step - loss: 0.0091 - mae: 0.0507 - val_loss: 0.0109 - val_mae: 0.0633\n",
      "Epoch 36/100\n",
      "640/640 [==============================] - 4s 6ms/step - loss: 0.0089 - mae: 0.0503 - val_loss: 0.0325 - val_mae: 0.1061\n",
      "Epoch 37/100\n",
      "640/640 [==============================] - 4s 6ms/step - loss: 0.0088 - mae: 0.0495 - val_loss: 0.0171 - val_mae: 0.0724\n",
      "Epoch 38/100\n",
      "640/640 [==============================] - 4s 5ms/step - loss: 0.0084 - mae: 0.0488 - val_loss: 0.0153 - val_mae: 0.0723\n",
      "Epoch 39/100\n",
      "640/640 [==============================] - 4s 6ms/step - loss: 0.0079 - mae: 0.0471 - val_loss: 0.0129 - val_mae: 0.0669\n",
      "Epoch 40/100\n",
      "640/640 [==============================] - 4s 5ms/step - loss: 0.0079 - mae: 0.0464 - val_loss: 0.0225 - val_mae: 0.0812\n",
      "Epoch 41/100\n",
      "640/640 [==============================] - 4s 5ms/step - loss: 0.0079 - mae: 0.0470 - val_loss: 0.0228 - val_mae: 0.0890\n",
      "Epoch 42/100\n",
      "640/640 [==============================] - 4s 6ms/step - loss: 0.0077 - mae: 0.0463 - val_loss: 0.0121 - val_mae: 0.0652\n",
      "Epoch 43/100\n",
      "640/640 [==============================] - 4s 5ms/step - loss: 0.0081 - mae: 0.0471 - val_loss: 0.0139 - val_mae: 0.0786\n",
      "Epoch 44/100\n",
      "640/640 [==============================] - 4s 6ms/step - loss: 0.0079 - mae: 0.0464 - val_loss: 0.0143 - val_mae: 0.0666\n",
      "Epoch 45/100\n",
      "640/640 [==============================] - 4s 6ms/step - loss: 0.0080 - mae: 0.0460 - val_loss: 0.0142 - val_mae: 0.0699\n",
      "Epoch 46/100\n",
      "640/640 [==============================] - 4s 5ms/step - loss: 0.0073 - mae: 0.0444 - val_loss: 0.0175 - val_mae: 0.0699\n",
      "Epoch 47/100\n",
      "640/640 [==============================] - 4s 6ms/step - loss: 0.0074 - mae: 0.0441 - val_loss: 0.0146 - val_mae: 0.0708\n",
      "Epoch 48/100\n",
      "640/640 [==============================] - 4s 6ms/step - loss: 0.0069 - mae: 0.0430 - val_loss: 0.0189 - val_mae: 0.0817\n",
      "Epoch 49/100\n",
      "640/640 [==============================] - 4s 6ms/step - loss: 0.0068 - mae: 0.0427 - val_loss: 0.0107 - val_mae: 0.0600\n",
      "Epoch 50/100\n",
      "640/640 [==============================] - 4s 6ms/step - loss: 0.0068 - mae: 0.0425 - val_loss: 0.0151 - val_mae: 0.0782\n",
      "Epoch 51/100\n",
      "640/640 [==============================] - 4s 5ms/step - loss: 0.0067 - mae: 0.0421 - val_loss: 0.0135 - val_mae: 0.0716\n",
      "Epoch 52/100\n",
      "640/640 [==============================] - 4s 6ms/step - loss: 0.0069 - mae: 0.0425 - val_loss: 0.0180 - val_mae: 0.0758\n",
      "Epoch 53/100\n",
      "640/640 [==============================] - 4s 5ms/step - loss: 0.0067 - mae: 0.0421 - val_loss: 0.0139 - val_mae: 0.0692\n",
      "Epoch 54/100\n",
      "640/640 [==============================] - 4s 6ms/step - loss: 0.0064 - mae: 0.0411 - val_loss: 0.0198 - val_mae: 0.0768\n",
      "Epoch 55/100\n",
      "640/640 [==============================] - 4s 5ms/step - loss: 0.0064 - mae: 0.0411 - val_loss: 0.0273 - val_mae: 0.0859\n",
      "Epoch 56/100\n",
      "640/640 [==============================] - 4s 5ms/step - loss: 0.0066 - mae: 0.0410 - val_loss: 0.0091 - val_mae: 0.0532\n",
      "Epoch 57/100\n",
      "640/640 [==============================] - 4s 6ms/step - loss: 0.0062 - mae: 0.0399 - val_loss: 0.0163 - val_mae: 0.0742\n",
      "Epoch 58/100\n",
      "640/640 [==============================] - 4s 6ms/step - loss: 0.0058 - mae: 0.0390 - val_loss: 0.0122 - val_mae: 0.0591\n",
      "Epoch 59/100\n",
      "640/640 [==============================] - 4s 6ms/step - loss: 0.0062 - mae: 0.0396 - val_loss: 0.0148 - val_mae: 0.0646\n",
      "Epoch 60/100\n",
      "640/640 [==============================] - 4s 6ms/step - loss: 0.0058 - mae: 0.0387 - val_loss: 0.0130 - val_mae: 0.0619\n",
      "Epoch 61/100\n",
      "640/640 [==============================] - 4s 6ms/step - loss: 0.0057 - mae: 0.0381 - val_loss: 0.0121 - val_mae: 0.0600\n",
      "Epoch 62/100\n",
      "640/640 [==============================] - 4s 6ms/step - loss: 0.0064 - mae: 0.0396 - val_loss: 0.0199 - val_mae: 0.0771\n",
      "Epoch 63/100\n",
      "640/640 [==============================] - 4s 5ms/step - loss: 0.0057 - mae: 0.0382 - val_loss: 0.0115 - val_mae: 0.0608\n",
      "Epoch 64/100\n",
      "640/640 [==============================] - 3s 5ms/step - loss: 0.0057 - mae: 0.0379 - val_loss: 0.0088 - val_mae: 0.0511\n",
      "Epoch 65/100\n",
      "640/640 [==============================] - 4s 6ms/step - loss: 0.0057 - mae: 0.0376 - val_loss: 0.0172 - val_mae: 0.0657\n",
      "Epoch 66/100\n",
      "640/640 [==============================] - 4s 6ms/step - loss: 0.0056 - mae: 0.0376 - val_loss: 0.0113 - val_mae: 0.0591\n",
      "Epoch 67/100\n",
      "640/640 [==============================] - 4s 6ms/step - loss: 0.0059 - mae: 0.0385 - val_loss: 0.0147 - val_mae: 0.0669\n",
      "Epoch 68/100\n",
      "640/640 [==============================] - 4s 6ms/step - loss: 0.0060 - mae: 0.0382 - val_loss: 0.0090 - val_mae: 0.0654\n",
      "Epoch 69/100\n",
      "640/640 [==============================] - 4s 6ms/step - loss: 0.0055 - mae: 0.0372 - val_loss: 0.0092 - val_mae: 0.0538\n",
      "Epoch 70/100\n",
      "640/640 [==============================] - 4s 6ms/step - loss: 0.0054 - mae: 0.0368 - val_loss: 0.0091 - val_mae: 0.0533\n",
      "Epoch 71/100\n",
      "640/640 [==============================] - 4s 6ms/step - loss: 0.0055 - mae: 0.0366 - val_loss: 0.0171 - val_mae: 0.0678\n",
      "Epoch 72/100\n",
      "640/640 [==============================] - 4s 6ms/step - loss: 0.0054 - mae: 0.0360 - val_loss: 0.0056 - val_mae: 0.0441\n",
      "Epoch 73/100\n",
      "640/640 [==============================] - 4s 6ms/step - loss: 0.0060 - mae: 0.0375 - val_loss: 0.0181 - val_mae: 0.0702\n",
      "Epoch 74/100\n",
      "640/640 [==============================] - 4s 6ms/step - loss: 0.0052 - mae: 0.0357 - val_loss: 0.0115 - val_mae: 0.0564\n",
      "Epoch 75/100\n",
      "640/640 [==============================] - 4s 6ms/step - loss: 0.0052 - mae: 0.0357 - val_loss: 0.0096 - val_mae: 0.0525\n",
      "Epoch 76/100\n",
      "640/640 [==============================] - 4s 6ms/step - loss: 0.0053 - mae: 0.0356 - val_loss: 0.0058 - val_mae: 0.0451\n",
      "Epoch 77/100\n",
      "640/640 [==============================] - 4s 6ms/step - loss: 0.0049 - mae: 0.0347 - val_loss: 0.0105 - val_mae: 0.0584\n",
      "Epoch 78/100\n",
      "640/640 [==============================] - 4s 6ms/step - loss: 0.0048 - mae: 0.0344 - val_loss: 0.0111 - val_mae: 0.0587\n",
      "Epoch 79/100\n",
      "640/640 [==============================] - 4s 6ms/step - loss: 0.0048 - mae: 0.0341 - val_loss: 0.0196 - val_mae: 0.0702\n",
      "Epoch 80/100\n",
      "640/640 [==============================] - 4s 6ms/step - loss: 0.0046 - mae: 0.0337 - val_loss: 0.0062 - val_mae: 0.0475\n",
      "Epoch 81/100\n",
      "640/640 [==============================] - 4s 6ms/step - loss: 0.0047 - mae: 0.0336 - val_loss: 0.0146 - val_mae: 0.0619\n",
      "Epoch 82/100\n",
      "640/640 [==============================] - 4s 6ms/step - loss: 0.0047 - mae: 0.0334 - val_loss: 0.0071 - val_mae: 0.0525\n",
      "Epoch 83/100\n",
      "640/640 [==============================] - 4s 6ms/step - loss: 0.0045 - mae: 0.0326 - val_loss: 0.0100 - val_mae: 0.0559\n",
      "Epoch 84/100\n",
      "640/640 [==============================] - 4s 6ms/step - loss: 0.0047 - mae: 0.0333 - val_loss: 0.0317 - val_mae: 0.0912\n",
      "Epoch 85/100\n",
      "640/640 [==============================] - 4s 6ms/step - loss: 0.0046 - mae: 0.0332 - val_loss: 0.0101 - val_mae: 0.0577\n",
      "Epoch 86/100\n",
      "640/640 [==============================] - 4s 6ms/step - loss: 0.0046 - mae: 0.0331 - val_loss: 0.0107 - val_mae: 0.0616\n",
      "Epoch 87/100\n",
      "640/640 [==============================] - 4s 6ms/step - loss: 0.0049 - mae: 0.0333 - val_loss: 0.0183 - val_mae: 0.0685\n",
      "Epoch 88/100\n",
      "640/640 [==============================] - 4s 6ms/step - loss: 0.0044 - mae: 0.0324 - val_loss: 0.0181 - val_mae: 0.0685\n",
      "Epoch 89/100\n",
      "640/640 [==============================] - 4s 6ms/step - loss: 0.0050 - mae: 0.0339 - val_loss: 0.0204 - val_mae: 0.0714\n",
      "Epoch 90/100\n",
      "640/640 [==============================] - 4s 6ms/step - loss: 0.0044 - mae: 0.0321 - val_loss: 0.0166 - val_mae: 0.0677\n",
      "Epoch 91/100\n",
      "640/640 [==============================] - 4s 6ms/step - loss: 0.0047 - mae: 0.0323 - val_loss: 0.0176 - val_mae: 0.0659\n",
      "Epoch 92/100\n",
      "640/640 [==============================] - 4s 6ms/step - loss: 0.0046 - mae: 0.0325 - val_loss: 0.0110 - val_mae: 0.0593\n",
      "Epoch 93/100\n",
      "640/640 [==============================] - 4s 6ms/step - loss: 0.0042 - mae: 0.0311 - val_loss: 0.0079 - val_mae: 0.0481\n",
      "Epoch 94/100\n",
      "640/640 [==============================] - 4s 6ms/step - loss: 0.0044 - mae: 0.0324 - val_loss: 0.0140 - val_mae: 0.0613\n",
      "Epoch 95/100\n",
      "640/640 [==============================] - 4s 6ms/step - loss: 0.0045 - mae: 0.0315 - val_loss: 0.0094 - val_mae: 0.0564\n",
      "Epoch 96/100\n",
      "640/640 [==============================] - 4s 6ms/step - loss: 0.0042 - mae: 0.0315 - val_loss: 0.0114 - val_mae: 0.0572\n",
      "Epoch 97/100\n",
      "640/640 [==============================] - 4s 6ms/step - loss: 0.0043 - mae: 0.0315 - val_loss: 0.0058 - val_mae: 0.0467\n",
      "Epoch 98/100\n",
      "640/640 [==============================] - 4s 6ms/step - loss: 0.0041 - mae: 0.0310 - val_loss: 0.0143 - val_mae: 0.0601\n",
      "Epoch 99/100\n",
      "640/640 [==============================] - 4s 6ms/step - loss: 0.0040 - mae: 0.0307 - val_loss: 0.0081 - val_mae: 0.0570\n",
      "Epoch 100/100\n",
      "640/640 [==============================] - 4s 6ms/step - loss: 0.0043 - mae: 0.0310 - val_loss: 0.0253 - val_mae: 0.0799\n"
     ]
    }
   ],
   "source": [
    "history = model_conv1D.fit(train_data_reshaped, y_train, epochs=100,\n",
    "                    validation_split=0.2, verbose=1)"
   ]
  },
  {
   "cell_type": "code",
   "execution_count": 13,
   "id": "ef7fc98e-598f-4693-bc89-2c8e968f4212",
   "metadata": {},
   "outputs": [
    {
     "data": {
      "image/png": "[encoded data removed]",
      "text/plain": [
       "<Figure size 432x288 with 1 Axes>"
      ]
     },
     "metadata": {
      "needs_background": "light"
     },
     "output_type": "display_data"
    }
   ],
   "source": [
    "plot_history(history)"
   ]
  },
  {
   "cell_type": "code",
   "execution_count": null,
   "id": "85ba8d8a-9bc4-4db7-b76e-23beab5c9b8a",
   "metadata": {},
   "outputs": [],
   "source": []
  }
 ],
 "metadata": {
  "kernelspec": {
   "display_name": "Python 3 (ipykernel)",
   "language": "python",
   "name": "python3"
  },
  "language_info": {
   "codemirror_mode": {
    "name": "ipython",
    "version": 3
   },
   "file_extension": ".py",
   "mimetype": "text/x-python",
   "name": "python",
   "nbconvert_exporter": "python",
   "pygments_lexer": "ipython3",
   "version": "3.9.7"
  }
 },
 "nbformat": 4,
 "nbformat_minor": 5
}
