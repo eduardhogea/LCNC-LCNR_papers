{
 "cells": [
  {
   "cell_type": "code",
   "execution_count": 1,
   "id": "65aa9325-dc61-402d-9175-41e2c54506df",
   "metadata": {},
   "outputs": [],
   "source": [
    "import logging; logging.basicConfig(level=logging.INFO)\n",
    "import tensorflow as tf\n",
    "import numpy as np\n",
    "import matplotlib.pyplot as plt\n",
    "import logictensornetworks as ltn\n",
    "import pandas as pd\n",
    "import seaborn as sns\n",
    "sns.set(font_scale=1.2)\n",
    "sns.set(rc={'figure.figsize':(11.7,8.27)})"
   ]
  },
  {
   "cell_type": "code",
   "execution_count": 2,
   "id": "f92d3c34-d97c-4095-9e82-219c5f2fc4cd",
   "metadata": {},
   "outputs": [
    {
     "name": "stdout",
     "output_type": "stream",
     "text": [
      "(36573, 11)\n"
     ]
    }
   ],
   "source": [
    "df = pd.read_csv(\"/Users/eduard.hogea/Documents/Facultate/Internship/explorare/KNN99---LTN/datesets/Cantilever/training_sectiune/tot.csv\", on_bad_lines='skip', skiprows=1)\n",
    "df = df.sample(frac=1) #shuffle\n",
    "print(df.shape)"
   ]
  },
  {
   "cell_type": "code",
   "execution_count": 3,
   "id": "efff6da7-3a50-4721-b174-4476e1b27c31",
   "metadata": {},
   "outputs": [
    {
     "name": "stdout",
     "output_type": "stream",
     "text": [
      "Null values in dataset are 0\n"
     ]
    },
    {
     "data": {
      "text/plain": [
       "(36573, 11)"
      ]
     },
     "execution_count": 3,
     "metadata": {},
     "output_type": "execute_result"
    }
   ],
   "source": [
    "df.drop_duplicates(keep= 'first', inplace=True) #eliminarea dublurilor liniilor\n",
    "df.replace([np.inf, -np.inf], np.nan, inplace=True)\n",
    "df.dropna(inplace = True)\n",
    "print('Null values in dataset are',len(df[df.isnull().any(1)]))\n",
    "df.shape"
   ]
  },
  {
   "cell_type": "code",
   "execution_count": 4,
   "id": "b05e6881-968f-42cf-8c46-07402209e9c0",
   "metadata": {},
   "outputs": [],
   "source": [
    "from sklearn.model_selection import KFold\n",
    "\n",
    "kf = KFold(n_splits = 4, shuffle = True, random_state = 42)\n",
    "listakf = list(kf.split(df))"
   ]
  },
  {
   "cell_type": "code",
   "execution_count": 5,
   "id": "c053ca28-2b13-493c-8823-0f42296787d8",
   "metadata": {},
   "outputs": [],
   "source": [
    "result = listakf[0]\n",
    "train = df.iloc[result[0]]\n",
    "test =  df.iloc[result[1]]\n",
    "result2 = listakf[1]\n",
    "train2 = df.iloc[result2[0]]\n",
    "test2 =  df.iloc[result2[1]]\n",
    "\n",
    "result3 = listakf[2]\n",
    "train3 = df.iloc[result3[0]]\n",
    "test3 =  df.iloc[result3[1]]\n",
    "result4 = listakf[3]\n",
    "train4 = df.iloc[result4[0]]\n",
    "test4 =  df.iloc[result4[1]]"
   ]
  },
  {
   "cell_type": "code",
   "execution_count": 6,
   "id": "f085c9d0-b188-4386-aa29-83e45ea1ac42",
   "metadata": {},
   "outputs": [
    {
     "data": {
      "text/plain": [
       "(27429, 11)"
      ]
     },
     "execution_count": 6,
     "metadata": {},
     "output_type": "execute_result"
    }
   ],
   "source": [
    "train.shape"
   ]
  },
  {
   "cell_type": "code",
   "execution_count": 7,
   "id": "9e47b2a3-3f27-4fa7-bfa3-c45c773727bc",
   "metadata": {},
   "outputs": [],
   "source": [
    "from sklearn.model_selection import train_test_split\n",
    "\n",
    "X_train = train[['Mod 1', 'Mod 2','Mod 3','Mod 4','Mod 5','Mod 6','Mod 7','Mod 8']].values\n",
    "y_train = train[['Severitate def', 'Severitate inc.','Pozitie']].values\n",
    "\n",
    "X_test = test[['Mod 1', 'Mod 2','Mod 3','Mod 4','Mod 5','Mod 6','Mod 7','Mod 8']].values\n",
    "y_test = test[['Severitate def', 'Severitate inc.','Pozitie']].values\n",
    "\n",
    "X_train2 = train2[['Mod 1', 'Mod 2','Mod 3','Mod 4','Mod 5','Mod 6','Mod 7','Mod 8']].values\n",
    "y_train2 = train2[['Severitate def', 'Severitate inc.','Pozitie']].values\n",
    "\n",
    "X_test2 = test2[['Mod 1', 'Mod 2','Mod 3','Mod 4','Mod 5','Mod 6','Mod 7','Mod 8']].values\n",
    "y_test2 = test2[['Severitate def', 'Severitate inc.','Pozitie']].values\n",
    "\n",
    "X_train3 = train3[['Mod 1', 'Mod 2','Mod 3','Mod 4','Mod 5','Mod 6','Mod 7','Mod 8']].values\n",
    "y_train3 = train3[['Severitate def', 'Severitate inc.','Pozitie']].values\n",
    "\n",
    "X_test3 = test3[['Mod 1', 'Mod 2','Mod 3','Mod 4','Mod 5','Mod 6','Mod 7','Mod 8']].values\n",
    "y_test3 = test3[['Severitate def', 'Severitate inc.','Pozitie']].values\n",
    "\n",
    "X_train4 = train4[['Mod 1', 'Mod 2','Mod 3','Mod 4','Mod 5','Mod 6','Mod 7','Mod 8']].values\n",
    "y_train4 = train4[['Severitate def', 'Severitate inc.','Pozitie']].values\n",
    "\n",
    "X_test4 = test4[['Mod 1', 'Mod 2','Mod 3','Mod 4','Mod 5','Mod 6','Mod 7','Mod 8']].values\n",
    "y_test4 = test4[['Severitate def', 'Severitate inc.','Pozitie']].values\n",
    "\n",
    "\n",
    "\n",
    "#x_train, x_test, y_train, y_test = train_test_split(x, y, test_size=.2)\n",
    "\n",
    "#x_comp_train, x_comp_test, y_comp_train, y_comp_test = train_test_split(x_comp, y_comp, test_size=.2)"
   ]
  },
  {
   "cell_type": "code",
   "execution_count": 8,
   "id": "862f59b3-104c-4ad5-ab1d-3e4e2f055c25",
   "metadata": {},
   "outputs": [
    {
     "name": "stdout",
     "output_type": "stream",
     "text": [
      "After reshape train date set shape:\n",
      " (27429, 8, 1)\n",
      "1 Sample shape:\n",
      " (8, 1)\n",
      "An example sample:\n",
      " [[0.00101954]\n",
      " [0.00102041]\n",
      " [0.0010257 ]\n",
      " [0.00104038]\n",
      " [0.00106918]\n",
      " [0.00111518]\n",
      " [0.001179  ]\n",
      " [0.00125849]]\n"
     ]
    }
   ],
   "source": [
    "sample_size = X_train.shape[0]\n",
    "time_steps = X_train.shape[1]\n",
    "input_dimensions = 1\n",
    "\n",
    "X_train_reshaped = X_train.reshape(sample_size, time_steps, input_dimensions)\n",
    "X_test_reshaped = X_test.reshape(X_test.shape[0], X_test.shape[1], 1)\n",
    "print(\"After reshape train date set shape:\\n\", X_train_reshaped.shape)\n",
    "print(\"1 Sample shape:\\n\", X_train_reshaped[0].shape)\n",
    "print(\"An example sample:\\n\", X_train_reshaped[0])"
   ]
  },
  {
   "cell_type": "code",
   "execution_count": 9,
   "id": "7d969b36-34c2-41dc-8770-f19fea866b76",
   "metadata": {},
   "outputs": [
    {
     "name": "stdout",
     "output_type": "stream",
     "text": [
      "After reshape train date set shape:\n",
      " (27430, 8, 1)\n",
      "1 Sample shape:\n",
      " (8, 1)\n",
      "An example sample:\n",
      " [[0.01624594]\n",
      " [0.01539433]\n",
      " [0.01464725]\n",
      " [0.01390095]\n",
      " [0.01317641]\n",
      " [0.01247213]\n",
      " [0.01178825]\n",
      " [0.0111248 ]]\n"
     ]
    }
   ],
   "source": [
    "sample_size = X_train2.shape[0]\n",
    "time_steps = X_train2.shape[1]\n",
    "input_dimensions = 1\n",
    "\n",
    "X_train_reshaped2 = X_train2.reshape(sample_size, time_steps, input_dimensions)\n",
    "X_test_reshaped2 = X_test2.reshape(X_test2.shape[0], X_test2.shape[1], 1)\n",
    "print(\"After reshape train date set shape:\\n\", X_train_reshaped2.shape)\n",
    "print(\"1 Sample shape:\\n\", X_train_reshaped2[0].shape)\n",
    "print(\"An example sample:\\n\", X_train_reshaped2[0])"
   ]
  },
  {
   "cell_type": "code",
   "execution_count": 10,
   "id": "798b6db9-38c5-427d-b5c0-c2738201f8ec",
   "metadata": {},
   "outputs": [
    {
     "name": "stdout",
     "output_type": "stream",
     "text": [
      "After reshape train date set shape:\n",
      " (27430, 8, 1)\n",
      "1 Sample shape:\n",
      " (8, 1)\n",
      "An example sample:\n",
      " [[0.00101954]\n",
      " [0.00102041]\n",
      " [0.0010257 ]\n",
      " [0.00104038]\n",
      " [0.00106918]\n",
      " [0.00111518]\n",
      " [0.001179  ]\n",
      " [0.00125849]]\n"
     ]
    }
   ],
   "source": [
    "sample_size = X_train3.shape[0]\n",
    "time_steps = X_train3.shape[1]\n",
    "input_dimensions = 1\n",
    "\n",
    "X_train_reshaped3 = X_train3.reshape(sample_size, time_steps, input_dimensions)\n",
    "X_test_reshaped3 = X_test3.reshape(X_test3.shape[0], X_test3.shape[1], 1)\n",
    "print(\"After reshape train date set shape:\\n\", X_train_reshaped3.shape)\n",
    "print(\"1 Sample shape:\\n\", X_train_reshaped3[0].shape)\n",
    "print(\"An example sample:\\n\", X_train_reshaped3[0])"
   ]
  },
  {
   "cell_type": "code",
   "execution_count": 11,
   "id": "1b9f6cce-95bf-4d6a-86b0-dfdd7b7604de",
   "metadata": {},
   "outputs": [
    {
     "name": "stdout",
     "output_type": "stream",
     "text": [
      "After reshape train date set shape:\n",
      " (27430, 8, 1)\n",
      "1 Sample shape:\n",
      " (8, 1)\n",
      "An example sample:\n",
      " [[0.00101954]\n",
      " [0.00102041]\n",
      " [0.0010257 ]\n",
      " [0.00104038]\n",
      " [0.00106918]\n",
      " [0.00111518]\n",
      " [0.001179  ]\n",
      " [0.00125849]]\n"
     ]
    }
   ],
   "source": [
    "sample_size = X_train4.shape[0]\n",
    "time_steps = X_train4.shape[1]\n",
    "input_dimensions = 1\n",
    "\n",
    "X_train_reshaped4 = X_train4.reshape(sample_size, time_steps, input_dimensions)\n",
    "X_test_reshaped4 = X_test4.reshape(X_test4.shape[0], X_test4.shape[1], 1)\n",
    "print(\"After reshape train date set shape:\\n\", X_train_reshaped4.shape)\n",
    "print(\"1 Sample shape:\\n\", X_train_reshaped4[0].shape)\n",
    "print(\"An example sample:\\n\", X_train_reshaped4[0])"
   ]
  },
  {
   "cell_type": "code",
   "execution_count": 12,
   "id": "838bb1ac-5e3d-40f9-ada9-0056edf46985",
   "metadata": {},
   "outputs": [
    {
     "name": "stdout",
     "output_type": "stream",
     "text": [
      "Metal device set to: Apple M1\n"
     ]
    },
    {
     "name": "stderr",
     "output_type": "stream",
     "text": [
      "2022-09-01 15:33:39.957965: I tensorflow/core/common_runtime/pluggable_device/pluggable_device_factory.cc:305] Could not identify NUMA node of platform GPU ID 0, defaulting to 0. Your kernel may not have been built with NUMA support.\n",
      "2022-09-01 15:33:39.958260: I tensorflow/core/common_runtime/pluggable_device/pluggable_device_factory.cc:271] Created TensorFlow device (/job:localhost/replica:0/task:0/device:GPU:0 with 0 MB memory) -> physical PluggableDevice (device: 0, name: METAL, pci bus id: <undefined>)\n"
     ]
    }
   ],
   "source": [
    "batch_size= 2000\n",
    "ds_train = tf.data.Dataset.from_tensor_slices((X_train_reshaped,y_train)).batch(batch_size)\n",
    "ds_test = tf.data.Dataset.from_tensor_slices((X_test_reshaped,y_test)).batch(batch_size)\n",
    "\n",
    "ds_train_2 = tf.data.Dataset.from_tensor_slices((X_train_reshaped2,y_train2)).batch(batch_size)\n",
    "ds_test_2 = tf.data.Dataset.from_tensor_slices((X_test_reshaped2,y_test2)).batch(batch_size)\n",
    "\n",
    "ds_train_3 = tf.data.Dataset.from_tensor_slices((X_train_reshaped3,y_train3)).batch(batch_size)\n",
    "ds_test_3 = tf.data.Dataset.from_tensor_slices((X_test_reshaped3,y_test3)).batch(batch_size)\n",
    "\n",
    "ds_train_4 = tf.data.Dataset.from_tensor_slices((X_train_reshaped4,y_train4)).batch(batch_size)\n",
    "ds_test_4 = tf.data.Dataset.from_tensor_slices((X_test_reshaped4,y_test4)).batch(batch_size)\n",
    "\n",
    "#ds_comp_train = tf.data.Dataset.from_tensor_slices((x_comp_train,y_comp_train)).batch(batch_size)\n",
    "#ds_comp_test = tf.data.Dataset.from_tensor_slices((x_comp,y_comp)).batch(batch_size)"
   ]
  },
  {
   "cell_type": "code",
   "execution_count": 13,
   "id": "2bf0bf64-6b2e-4a9f-85b3-00dfa6ad3c3b",
   "metadata": {},
   "outputs": [
    {
     "data": {
      "text/plain": [
       "Pozitie            float64\n",
       "Severitate def     float64\n",
       "Severitate inc.    float64\n",
       "Mod 1              float64\n",
       "Mod 2              float64\n",
       "Mod 3              float64\n",
       "Mod 4              float64\n",
       "Mod 5              float64\n",
       "Mod 6              float64\n",
       "Mod 7              float64\n",
       "Mod 8              float64\n",
       "dtype: object"
      ]
     },
     "execution_count": 13,
     "metadata": {},
     "output_type": "execute_result"
    }
   ],
   "source": [
    "#df['Freq 1    f1 [Hz]'] = df['Freq 1    f1 [Hz]'].astype(float, errors = 'raise')\n",
    "df.dtypes"
   ]
  },
  {
   "cell_type": "markdown",
   "id": "42f2d37e-8877-4e72-85fb-30759d3be8b3",
   "metadata": {},
   "source": [
    "# Fold 1"
   ]
  },
  {
   "cell_type": "code",
   "execution_count": 14,
   "id": "d9a68331-310f-490d-875d-d29659ef79a2",
   "metadata": {},
   "outputs": [
    {
     "name": "stdout",
     "output_type": "stream",
     "text": [
      "Model: \"model_conv1D\"\n",
      "_________________________________________________________________\n",
      " Layer (type)                Output Shape              Param #   \n",
      "=================================================================\n",
      " Conv1D_1 (Conv1D)           (None, 5, 64)             320       \n",
      "                                                                 \n",
      " dropout (Dropout)           (None, 5, 64)             0         \n",
      "                                                                 \n",
      " Conv1D_2 (Conv1D)           (None, 3, 32)             6176      \n",
      "                                                                 \n",
      " Conv1D_3 (Conv1D)           (None, 2, 16)             1040      \n",
      "                                                                 \n",
      " MaxPooling1D (MaxPooling1D)  (None, 1, 16)            0         \n",
      "                                                                 \n",
      " flatten (Flatten)           (None, 16)                0         \n",
      "                                                                 \n",
      " Dense_1 (Dense)             (None, 8)                 136       \n",
      "                                                                 \n",
      " Dense_2 (Dense)             (None, 3)                 27        \n",
      "                                                                 \n",
      "=================================================================\n",
      "Total params: 7,699\n",
      "Trainable params: 7,699\n",
      "Non-trainable params: 0\n",
      "_________________________________________________________________\n"
     ]
    }
   ],
   "source": [
    "import keras\n",
    "def build_conv1D_model():\n",
    "\n",
    "    n_timesteps = X_train_reshaped.shape[1] #13\n",
    "    n_features  = X_train_reshaped.shape[2] #1 \n",
    "    model = keras.Sequential(name=\"model_conv1D\")\n",
    "    model.add(keras.layers.Input(shape=(n_timesteps,n_features)))\n",
    "    model.add(keras.layers.Conv1D(filters=64, kernel_size=4, activation='relu', name=\"Conv1D_1\"))\n",
    "    model.add(keras.layers.Dropout(0.5))\n",
    "    model.add(keras.layers.Conv1D(filters=32, kernel_size=3, activation='relu', name=\"Conv1D_2\"))\n",
    "  \n",
    "    model.add(keras.layers.Conv1D(filters=16, kernel_size=2, activation='relu', name=\"Conv1D_3\"))\n",
    "  \n",
    "    model.add(keras.layers.MaxPooling1D(pool_size=2, name=\"MaxPooling1D\"))\n",
    "    model.add(keras.layers.Flatten())\n",
    "    model.add(keras.layers.Dense(8, activation='relu', name=\"Dense_1\"))\n",
    "    model.add(keras.layers.Dense(3, name=\"Dense_2\"))\n",
    "\n",
    "    return model\n",
    "\n",
    "# logits_model = build_conv1D_model()\n",
    "# f = ltn.Predicate(ltn.utils.LogitsToPredicateModel(logits_model,single_label=True))\n",
    "# logits_model.summary()\n",
    "model_conv = build_conv1D_model()\n",
    "model_conv.summary()\n",
    "f = ltn.Function(model_conv)"
   ]
  },
  {
   "cell_type": "code",
   "execution_count": 15,
   "id": "bf67f783-a79b-4f18-b98d-fae3af503e73",
   "metadata": {},
   "outputs": [],
   "source": [
    "eq = ltn.Predicate.Lambda(\n",
    "    #lambda args: tf.exp(-0.05*tf.sqrt(tf.reduce_sum(tf.square(args[0]-args[1]),axis=1)))        \n",
    "    lambda args: 1/(1+0.5*tf.sqrt(tf.reduce_sum(tf.square(args[0]-args[1]),axis=1)))\n",
    ")"
   ]
  },
  {
   "cell_type": "code",
   "execution_count": 16,
   "id": "2eb0af52-f081-4d41-908b-1d8bbbf7a4c3",
   "metadata": {},
   "outputs": [],
   "source": [
    "Not = ltn.Wrapper_Connective(ltn.fuzzy_ops.Not_Std())\n",
    "And = ltn.Wrapper_Connective(ltn.fuzzy_ops.And_Prod())\n",
    "Or = ltn.Wrapper_Connective(ltn.fuzzy_ops.Or_ProbSum())\n",
    "Implies = ltn.Wrapper_Connective(ltn.fuzzy_ops.Implies_Reichenbach())\n",
    "Forall = ltn.Wrapper_Quantifier(ltn.fuzzy_ops.Aggreg_pMeanError(p=2),semantics=\"forall\")\n",
    "Exists = ltn.Wrapper_Quantifier(ltn.fuzzy_ops.Aggreg_pMean(p=2),semantics=\"exists\")"
   ]
  },
  {
   "cell_type": "code",
   "execution_count": 17,
   "id": "07a3d6d6-a072-41fc-9af0-dbb84ceab774",
   "metadata": {},
   "outputs": [],
   "source": [
    "@tf.function\n",
    "def axioms(x_data, y_data):\n",
    "    x = ltn.Variable(\"x\", x_data)\n",
    "    y = ltn.Variable(\"y\", y_data)\n",
    "    return Forall(ltn.diag(x,y), eq([f(x),y])).tensor"
   ]
  },
  {
   "cell_type": "code",
   "execution_count": 18,
   "id": "c6732d31-0b31-49c4-ad80-ec80fb0e8524",
   "metadata": {},
   "outputs": [
    {
     "name": "stdout",
     "output_type": "stream",
     "text": [
      "Initial sat level 0.78603\n"
     ]
    },
    {
     "name": "stderr",
     "output_type": "stream",
     "text": [
      "2022-09-01 15:33:40.715022: W tensorflow/core/platform/profile_utils/cpu_utils.cc:128] Failed to get CPU frequency: 0 Hz\n",
      "2022-09-01 15:33:40.715376: I tensorflow/core/grappler/optimizers/custom_graph_optimizer_registry.cc:112] Plugin optimizer for device_type GPU is enabled.\n"
     ]
    }
   ],
   "source": [
    "for x, y in ds_test:\n",
    "    print(\"Initial sat level %.5f\"%axioms(x,y))\n",
    "    break"
   ]
  },
  {
   "cell_type": "code",
   "execution_count": 19,
   "id": "b23fd2dc-c1c1-49d5-8332-807578663f8d",
   "metadata": {},
   "outputs": [],
   "source": [
    "metrics_dict = {\n",
    "    'train_sat': tf.keras.metrics.Mean(name='train_sat'),\n",
    "    'test_sat': tf.keras.metrics.Mean(name='test_sat'),\n",
    "    'train_accuracy': tf.keras.metrics.RootMeanSquaredError(name=\"train_accuracy\"),\n",
    "    'test_accuracy': tf.keras.metrics.RootMeanSquaredError(name=\"test_accuracy\")\n",
    "}"
   ]
  },
  {
   "cell_type": "code",
   "execution_count": 20,
   "id": "49ca2f66-ad7b-4110-8e5b-9ed73680f610",
   "metadata": {},
   "outputs": [],
   "source": [
    "optimizer = tf.keras.optimizers.RMSprop(learning_rate=0.001)\n",
    "@tf.function\n",
    "def train_step(x, y):\n",
    "    # sat and update\n",
    "    with tf.GradientTape() as tape:\n",
    "        sat = axioms(x, y)\n",
    "        loss = 1.-sat\n",
    "    gradients = tape.gradient(loss, f.trainable_variables)\n",
    "    optimizer.apply_gradients(zip(gradients, f.trainable_variables))\n",
    "    sat = axioms(x, y)\n",
    "    metrics_dict['train_sat'](sat)\n",
    "    # accuracy\n",
    "    metrics_dict['train_accuracy'](y,f.model(x))\n",
    "    \n",
    "@tf.function\n",
    "def test_step(x, y):\n",
    "    # sat\n",
    "    sat = axioms(x, y)\n",
    "    metrics_dict['test_sat'](sat)\n",
    "    # accuracy\n",
    "    metrics_dict['test_accuracy'](y,f.model(x))"
   ]
  },
  {
   "cell_type": "code",
   "execution_count": 21,
   "id": "4f4b8cf5-4626-4c6d-93f4-5480de07b8a9",
   "metadata": {},
   "outputs": [],
   "source": [
    "from collections import defaultdict\n",
    "\n",
    "def train(\n",
    "        epochs,\n",
    "        metrics_dict, \n",
    "        ds_train, \n",
    "        ds_test, \n",
    "        train_step, \n",
    "        test_step,\n",
    "        track_metrics=1,\n",
    "        csv_path=None,\n",
    "        scheduled_parameters=defaultdict(lambda : {})\n",
    "    ):\n",
    "    \"\"\"\n",
    "    Args:\n",
    "        epochs: int, number of training epochs.\n",
    "        metrics_dict: dict, {\"metrics_label\": tf.keras.metrics instance}.\n",
    "        ds_train: iterable dataset, e.g. using tf.data.Dataset.\n",
    "        ds_test: iterable dataset, e.g. using tf.data.Dataset.\n",
    "        train_step: callable function. the arguments passed to the function\n",
    "            are the itered elements of ds_train.\n",
    "        test_step: callable function. the arguments passed to the function\n",
    "            are the itered elements of ds_test.\n",
    "        csv_path: (optional) path to create a csv file, to save the metrics.\n",
    "        scheduled_parameters: (optional) a dictionary that returns kwargs for\n",
    "            the train_step and test_step functions, for each epoch.\n",
    "            Call using scheduled_parameters[epoch].\n",
    "    \"\"\"\n",
    "    template = \"Epoch {}\"\n",
    "    for metrics_label in metrics_dict.keys():\n",
    "        template += \", %s: {:.4f}\" % metrics_label\n",
    "    if csv_path is not None:\n",
    "        csv_file = open(csv_path,\"w+\")\n",
    "        headers = \",\".join([\"Epoch\"]+list(metrics_dict.keys()))\n",
    "        csv_template = \",\".join([\"{}\" for _ in range(len(metrics_dict)+1)])\n",
    "        csv_file.write(headers+\"\\n\")\n",
    "    \n",
    "    for epoch in range(epochs):\n",
    "        for metrics in metrics_dict.values():\n",
    "            metrics.reset_states()\n",
    "\n",
    "        for batch_elements in ds_train:\n",
    "            train_step(*batch_elements,**scheduled_parameters[epoch])\n",
    "        for batch_elements in ds_test:\n",
    "            test_step(*batch_elements,**scheduled_parameters[epoch])\n",
    "\n",
    "        metrics_results = [metrics.result() for metrics in metrics_dict.values()]\n",
    "        if epoch%track_metrics == 0:\n",
    "            print(template.format(epoch,*metrics_results))\n",
    "        if csv_path is not None:\n",
    "            csv_file.write(csv_template.format(epoch,*metrics_results)+\"\\n\")\n",
    "            csv_file.flush()\n",
    "    if csv_path is not None:\n",
    "        csv_file.close()"
   ]
  },
  {
   "cell_type": "code",
   "execution_count": 22,
   "id": "59dc367f-c0b5-4e5e-99cd-47fdf8d0a41c",
   "metadata": {},
   "outputs": [
    {
     "name": "stderr",
     "output_type": "stream",
     "text": [
      "2022-09-01 15:33:41.016202: I tensorflow/core/grappler/optimizers/custom_graph_optimizer_registry.cc:112] Plugin optimizer for device_type GPU is enabled.\n",
      "2022-09-01 15:33:41.637624: I tensorflow/core/grappler/optimizers/custom_graph_optimizer_registry.cc:112] Plugin optimizer for device_type GPU is enabled.\n",
      "2022-09-01 15:33:41.948357: I tensorflow/core/grappler/optimizers/custom_graph_optimizer_registry.cc:112] Plugin optimizer for device_type GPU is enabled.\n",
      "2022-09-01 15:33:42.071295: I tensorflow/core/grappler/optimizers/custom_graph_optimizer_registry.cc:112] Plugin optimizer for device_type GPU is enabled.\n"
     ]
    },
    {
     "name": "stdout",
     "output_type": "stream",
     "text": [
      "Epoch 0, train_sat: 0.8323, test_sat: 0.8710, train_accuracy: 0.2576, test_accuracy: 0.1791\n",
      "Epoch 200, train_sat: 0.9523, test_sat: 0.9528, train_accuracy: 0.0622, test_accuracy: 0.0615\n",
      "Epoch 400, train_sat: 0.9733, test_sat: 0.9731, train_accuracy: 0.0338, test_accuracy: 0.0340\n",
      "Epoch 600, train_sat: 0.9833, test_sat: 0.9841, train_accuracy: 0.0216, test_accuracy: 0.0195\n",
      "Epoch 800, train_sat: 0.9851, test_sat: 0.9887, train_accuracy: 0.0194, test_accuracy: 0.0146\n",
      "Epoch 1000, train_sat: 0.9867, test_sat: 0.9882, train_accuracy: 0.0176, test_accuracy: 0.0146\n",
      "Epoch 1200, train_sat: 0.9880, test_sat: 0.9892, train_accuracy: 0.0158, test_accuracy: 0.0145\n",
      "Epoch 1400, train_sat: 0.9885, test_sat: 0.9909, train_accuracy: 0.0154, test_accuracy: 0.0127\n",
      "Epoch 1600, train_sat: 0.9893, test_sat: 0.9900, train_accuracy: 0.0140, test_accuracy: 0.0136\n",
      "Epoch 1800, train_sat: 0.9889, test_sat: 0.9861, train_accuracy: 0.0145, test_accuracy: 0.0175\n",
      "Epoch 2000, train_sat: 0.9900, test_sat: 0.9925, train_accuracy: 0.0133, test_accuracy: 0.0110\n",
      "Epoch 2200, train_sat: 0.9907, test_sat: 0.9933, train_accuracy: 0.0124, test_accuracy: 0.0092\n",
      "Epoch 2400, train_sat: 0.9908, test_sat: 0.9937, train_accuracy: 0.0123, test_accuracy: 0.0088\n",
      "Epoch 2600, train_sat: 0.9910, test_sat: 0.9940, train_accuracy: 0.0121, test_accuracy: 0.0086\n",
      "Epoch 2800, train_sat: 0.9916, test_sat: 0.9933, train_accuracy: 0.0113, test_accuracy: 0.0098\n",
      "Epoch 3000, train_sat: 0.9915, test_sat: 0.9929, train_accuracy: 0.0117, test_accuracy: 0.0094\n",
      "Epoch 3200, train_sat: 0.9907, test_sat: 0.9942, train_accuracy: 0.0137, test_accuracy: 0.0085\n",
      "Epoch 3400, train_sat: 0.9910, test_sat: 0.9941, train_accuracy: 0.0127, test_accuracy: 0.0084\n",
      "Epoch 3600, train_sat: 0.9922, test_sat: 0.9943, train_accuracy: 0.0105, test_accuracy: 0.0082\n",
      "Epoch 3800, train_sat: 0.9922, test_sat: 0.9945, train_accuracy: 0.0105, test_accuracy: 0.0080\n",
      "Epoch 4000, train_sat: 0.9911, test_sat: 0.9944, train_accuracy: 0.0126, test_accuracy: 0.0082\n",
      "Epoch 4200, train_sat: 0.9920, test_sat: 0.9942, train_accuracy: 0.0110, test_accuracy: 0.0087\n",
      "Epoch 4400, train_sat: 0.9919, test_sat: 0.9941, train_accuracy: 0.0109, test_accuracy: 0.0087\n",
      "Epoch 4600, train_sat: 0.9920, test_sat: 0.9944, train_accuracy: 0.0115, test_accuracy: 0.0082\n",
      "Epoch 4800, train_sat: 0.9922, test_sat: 0.9947, train_accuracy: 0.0111, test_accuracy: 0.0078\n"
     ]
    }
   ],
   "source": [
    "EPOCHS = 5000\n",
    "\n",
    "modelul = train(\n",
    "    EPOCHS,\n",
    "    metrics_dict,\n",
    "    ds_train,\n",
    "    ds_test,\n",
    "    train_step,\n",
    "    test_step,\n",
    "    csv_path=\"regression_results_kfold4_1.csv\",\n",
    "    track_metrics=200\n",
    ")"
   ]
  },
  {
   "cell_type": "code",
   "execution_count": 23,
   "id": "3d8920f2-689a-474f-bc49-1d39deba97a8",
   "metadata": {},
   "outputs": [],
   "source": [
    "import seaborn as sns\n",
    "sns.set(font_scale=1.2)"
   ]
  },
  {
   "cell_type": "code",
   "execution_count": 24,
   "id": "1acda274-adbb-4557-9beb-e51aba177b8c",
   "metadata": {},
   "outputs": [
    {
     "name": "stderr",
     "output_type": "stream",
     "text": [
      "/Users/eduard.hogea/miniforge3/envs/tensorflow/lib/python3.9/site-packages/seaborn/_decorators.py:36: FutureWarning: Pass the following variables as keyword args: x, y. From version 0.12, the only valid positional argument will be `data`, and passing other arguments without an explicit keyword will result in an error or misinterpretation.\n",
      "  warnings.warn(\n",
      "/Users/eduard.hogea/miniforge3/envs/tensorflow/lib/python3.9/site-packages/seaborn/_decorators.py:36: FutureWarning: Pass the following variables as keyword args: x, y. From version 0.12, the only valid positional argument will be `data`, and passing other arguments without an explicit keyword will result in an error or misinterpretation.\n",
      "  warnings.warn(\n"
     ]
    },
    {
     "data": {
      "image/png": "[encoded data removed]",
      "text/plain": [
       "<Figure size 864x432 with 2 Axes>"
      ]
     },
     "metadata": {},
     "output_type": "display_data"
    }
   ],
   "source": [
    "fig, axs = plt.subplots(1,2,figsize=(12,6))\n",
    "ax = axs[0]\n",
    "data = {'y_pred':[],'y_true':[]}\n",
    "for x,y in ds_train:\n",
    "    data['y_pred'].extend(f.model(x)[:,2].numpy())\n",
    "    data['y_true'].extend(y[:,2].numpy())\n",
    "df = pd.DataFrame(data,columns=['y_pred','y_true'])\n",
    "ax.set_xlim(0,80)\n",
    "ax.set_ylim(0,80)\n",
    "sns.regplot(\"y_true\",\"y_pred\",data=df,ax=ax,truncate=False,\n",
    "            scatter_kws={'alpha':0.5},line_kws={'color':'r','alpha':0.3,'linestyle':'--','linewidth':2})\n",
    "ax.plot([0,100],[0,100],color=\"gray\",linestyle=\"--\")\n",
    "ax.set_xlabel(\"Actual y values\")\n",
    "ax.set_ylabel(\"Fitted y values\")\n",
    "ax.set_title(\"Training Data\")\n",
    "\n",
    "ax = axs[1]\n",
    "data = {'y_pred':[],'y_true':[]}\n",
    "for x,y in ds_test:\n",
    "    data['y_pred'].extend(f.model(x)[:,2].numpy())\n",
    "    data['y_true'].extend(y[:,2].numpy())\n",
    "df = pd.DataFrame(data,columns=['y_pred','y_true'])\n",
    "ax.set_ylim(0,80)\n",
    "ax.set_xlim(0,80)\n",
    "sns.regplot(\"y_true\",\"y_pred\",data=df,ax=ax,truncate=False,\n",
    "            scatter_kws={'alpha':0.5},line_kws={'color':'r','alpha':0.3,'linestyle':'--','linewidth':2})\n",
    "ax.plot([0,100],[0,100],color=\"gray\",linestyle=\"--\")\n",
    "ax.set_xlabel(\"Actual y values\")\n",
    "ax.set_ylabel(\"Fitted y values\")\n",
    "ax.set_title(\"Test Data\")\n",
    "plt.tight_layout()\n",
    "plt.savefig(\"LTN_regresie_kfold4_1_1.png\")"
   ]
  },
  {
   "cell_type": "code",
   "execution_count": 25,
   "id": "2234560e-d9a7-4fb1-888c-c34c9ecccc56",
   "metadata": {},
   "outputs": [
    {
     "data": {
      "image/png": "[encoded data removed]",
      "text/plain": [
       "<Figure size 720x720 with 1 Axes>"
      ]
     },
     "metadata": {},
     "output_type": "display_data"
    }
   ],
   "source": [
    "plt.figure(figsize=(10,10))\n",
    "plt.scatter(df['y_true'], df['y_pred'], c='crimson')\n",
    "plt.yscale('log')\n",
    "plt.xscale('log')\n",
    "\n",
    "p1 = max(max(df['y_pred']), max(df['y_true']))\n",
    "p2 = min(min(df['y_pred']), min(df['y_true']))\n",
    "plt.plot([p1, p2], [p1, p2], 'b-')\n",
    "plt.xlabel('True Values', fontsize=15)\n",
    "plt.ylabel('Predictions', fontsize=15)\n",
    "plt.axis('equal')\n",
    "plt.savefig(\"LTN_regresie_kfold4_1_2.png\")\n",
    "plt.show()"
   ]
  },
  {
   "cell_type": "code",
   "execution_count": 26,
   "id": "b79b5d27-7741-4c02-87f8-ccc8e5363d10",
   "metadata": {},
   "outputs": [],
   "source": [
    "df = pd.read_csv(\"/Users/eduard.hogea/Documents/Facultate/Internship/explorare/KNN99---LTN/datesets/Cantilever/date_test_corectate.csv\", on_bad_lines='skip')"
   ]
  },
  {
   "cell_type": "code",
   "execution_count": 27,
   "id": "31d82e36-d843-4868-8ce0-1a98df04c9ab",
   "metadata": {},
   "outputs": [],
   "source": [
    "df = df.sample(frac=1) #shuffle\n",
    "x = df[['Mod 1', 'Mod 2','Mod 3','Mod 4','Mod 5','Mod 6','Mod 7','Mod 8']]\n",
    "y = df[['Severitate def', 'Severitate inc.','Pozitie']]\n",
    "batch_size= 32\n",
    "ds_test = tf.data.Dataset.from_tensor_slices((x,y)).batch(batch_size)\n",
    "\n",
    "data = {'y_pred':[],'y_true':[],'def':[],'inc':[],'Mod 1':[],'Mod 2':[],'Mod 3':[],'Mod 4':[],'Mod 5':[],'Mod 6':[],'Mod 7':[],'Mod 8':[]}\n",
    "for x,y in ds_test:\n",
    "    data['y_pred'].extend(f.model(x)[:,2].numpy())\n",
    "    data['y_true'].extend(y[:,2].numpy())\n",
    "    data['def'].extend(y[:,0].numpy())\n",
    "    data['inc'].extend(y[:,1].numpy())\n",
    "    data['Mod 1'].extend(x[:,0].numpy())\n",
    "    data['Mod 2'].extend(x[:,1].numpy())\n",
    "    data['Mod 3'].extend(x[:,2].numpy())\n",
    "    data['Mod 4'].extend(x[:,3].numpy())\n",
    "    data['Mod 5'].extend(x[:,4].numpy())\n",
    "    data['Mod 6'].extend(x[:,5].numpy())\n",
    "    data['Mod 7'].extend(x[:,6].numpy())\n",
    "    data['Mod 8'].extend(x[:,7].numpy())\n",
    "#'Severitate def', 'Severitate inc.'"
   ]
  },
  {
   "cell_type": "code",
   "execution_count": 28,
   "id": "b64c6ac1-8207-4c08-b91f-299bf9e0486d",
   "metadata": {},
   "outputs": [],
   "source": [
    "data_plot = pd.DataFrame(data,columns=['y_pred','y_true','def','inc','Mod 1', 'Mod 2','Mod 3','Mod 4','Mod 5','Mod 6','Mod 7','Mod 8'])"
   ]
  },
  {
   "cell_type": "code",
   "execution_count": 29,
   "id": "7c1cd0ea-7b0c-422f-a687-089cd34abfa7",
   "metadata": {},
   "outputs": [],
   "source": [
    "dif =data_plot[\"y_true\"] - data_plot[\"y_pred\"]"
   ]
  },
  {
   "cell_type": "code",
   "execution_count": 30,
   "id": "773fcabd-7b97-4006-9454-da0c45a8f670",
   "metadata": {},
   "outputs": [
    {
     "data": {
      "image/png": "[encoded data removed]",
      "text/plain": [
       "<Figure size 842.4x595.44 with 1 Axes>"
      ]
     },
     "metadata": {},
     "output_type": "display_data"
    }
   ],
   "source": [
    "plt.stem(dif)\n",
    "plt.xlabel(\"Predicted values\", size = \"20\")\n",
    "plt.ylabel(\"Residuals\", size = \"20\")\n",
    "plt.savefig(\"residuals_kfold4_1.png\")"
   ]
  },
  {
   "cell_type": "code",
   "execution_count": 31,
   "id": "98e1553e-5f16-40e5-a152-1fc7ebc308ab",
   "metadata": {},
   "outputs": [
    {
     "name": "stdout",
     "output_type": "stream",
     "text": [
      "Requirement already satisfied: openpyxl in /Users/eduard.hogea/miniforge3/envs/tensorflow/lib/python3.9/site-packages (3.0.10)\n",
      "Requirement already satisfied: et-xmlfile in /Users/eduard.hogea/miniforge3/envs/tensorflow/lib/python3.9/site-packages (from openpyxl) (1.1.0)\n"
     ]
    }
   ],
   "source": [
    "from openpyxl import Workbook\n",
    "!pip install openpyxl\n",
    "data_plot.to_excel(\"output_kfold4_1.xlsx\")"
   ]
  },
  {
   "cell_type": "markdown",
   "id": "530ed0ff-fdb8-4601-adc2-cc497cbd33eb",
   "metadata": {},
   "source": [
    "# Fold 2"
   ]
  },
  {
   "cell_type": "code",
   "execution_count": 32,
   "id": "c6260ccf-effe-484a-b539-27a511950446",
   "metadata": {},
   "outputs": [
    {
     "name": "stdout",
     "output_type": "stream",
     "text": [
      "Model: \"model_conv1D\"\n",
      "_________________________________________________________________\n",
      " Layer (type)                Output Shape              Param #   \n",
      "=================================================================\n",
      " Conv1D_1 (Conv1D)           (None, 5, 64)             320       \n",
      "                                                                 \n",
      " dropout_1 (Dropout)         (None, 5, 64)             0         \n",
      "                                                                 \n",
      " Conv1D_2 (Conv1D)           (None, 3, 32)             6176      \n",
      "                                                                 \n",
      " Conv1D_3 (Conv1D)           (None, 2, 16)             1040      \n",
      "                                                                 \n",
      " MaxPooling1D (MaxPooling1D)  (None, 1, 16)            0         \n",
      "                                                                 \n",
      " flatten_1 (Flatten)         (None, 16)                0         \n",
      "                                                                 \n",
      " Dense_1 (Dense)             (None, 8)                 136       \n",
      "                                                                 \n",
      " Dense_2 (Dense)             (None, 3)                 27        \n",
      "                                                                 \n",
      "=================================================================\n",
      "Total params: 7,699\n",
      "Trainable params: 7,699\n",
      "Non-trainable params: 0\n",
      "_________________________________________________________________\n"
     ]
    }
   ],
   "source": [
    "import keras\n",
    "def build_conv1D_model():\n",
    "\n",
    "    n_timesteps = X_train_reshaped.shape[1] #13\n",
    "    n_features  = X_train_reshaped.shape[2] #1 \n",
    "    model = keras.Sequential(name=\"model_conv1D\")\n",
    "    model.add(keras.layers.Input(shape=(n_timesteps,n_features)))\n",
    "    model.add(keras.layers.Conv1D(filters=64, kernel_size=4, activation='relu', name=\"Conv1D_1\"))\n",
    "    model.add(keras.layers.Dropout(0.5))\n",
    "    model.add(keras.layers.Conv1D(filters=32, kernel_size=3, activation='relu', name=\"Conv1D_2\"))\n",
    "  \n",
    "    model.add(keras.layers.Conv1D(filters=16, kernel_size=2, activation='relu', name=\"Conv1D_3\"))\n",
    "  \n",
    "    model.add(keras.layers.MaxPooling1D(pool_size=2, name=\"MaxPooling1D\"))\n",
    "    model.add(keras.layers.Flatten())\n",
    "    model.add(keras.layers.Dense(8, activation='relu', name=\"Dense_1\"))\n",
    "    model.add(keras.layers.Dense(3, name=\"Dense_2\"))\n",
    "\n",
    "    return model\n",
    "\n",
    "# logits_model = build_conv1D_model()\n",
    "# f = ltn.Predicate(ltn.utils.LogitsToPredicateModel(logits_model,single_label=True))\n",
    "# logits_model.summary()\n",
    "model_conv = build_conv1D_model()\n",
    "model_conv.summary()\n",
    "f = ltn.Function(model_conv)"
   ]
  },
  {
   "cell_type": "code",
   "execution_count": 33,
   "id": "0d70a809-3485-44f1-8613-cd209c78a93c",
   "metadata": {},
   "outputs": [],
   "source": [
    "eq = ltn.Predicate.Lambda(\n",
    "    #lambda args: tf.exp(-0.05*tf.sqrt(tf.reduce_sum(tf.square(args[0]-args[1]),axis=1)))        \n",
    "    lambda args: 1/(1+0.5*tf.sqrt(tf.reduce_sum(tf.square(args[0]-args[1]),axis=1)))\n",
    ")"
   ]
  },
  {
   "cell_type": "code",
   "execution_count": 34,
   "id": "762872b6-06a7-47e6-9e53-23d4be34457e",
   "metadata": {},
   "outputs": [],
   "source": [
    "Not = ltn.Wrapper_Connective(ltn.fuzzy_ops.Not_Std())\n",
    "And = ltn.Wrapper_Connective(ltn.fuzzy_ops.And_Prod())\n",
    "Or = ltn.Wrapper_Connective(ltn.fuzzy_ops.Or_ProbSum())\n",
    "Implies = ltn.Wrapper_Connective(ltn.fuzzy_ops.Implies_Reichenbach())\n",
    "Forall = ltn.Wrapper_Quantifier(ltn.fuzzy_ops.Aggreg_pMeanError(p=2),semantics=\"forall\")\n",
    "Exists = ltn.Wrapper_Quantifier(ltn.fuzzy_ops.Aggreg_pMean(p=2),semantics=\"exists\")"
   ]
  },
  {
   "cell_type": "code",
   "execution_count": 35,
   "id": "4cdbd3a9-1c63-4523-9cc8-6677865cd886",
   "metadata": {},
   "outputs": [],
   "source": [
    "@tf.function\n",
    "def axioms(x_data, y_data):\n",
    "    x = ltn.Variable(\"x\", x_data)\n",
    "    y = ltn.Variable(\"y\", y_data)\n",
    "    return Forall(ltn.diag(x,y), eq([f(x),y])).tensor"
   ]
  },
  {
   "cell_type": "code",
   "execution_count": 36,
   "id": "a94b9e94-f02d-4c83-89ce-904fc970b3dc",
   "metadata": {},
   "outputs": [
    {
     "name": "stdout",
     "output_type": "stream",
     "text": [
      "Initial sat level 0.78970\n"
     ]
    },
    {
     "name": "stderr",
     "output_type": "stream",
     "text": [
      "2022-09-01 15:51:57.312031: I tensorflow/core/grappler/optimizers/custom_graph_optimizer_registry.cc:112] Plugin optimizer for device_type GPU is enabled.\n"
     ]
    }
   ],
   "source": [
    "for x, y in ds_test_2:\n",
    "    print(\"Initial sat level %.5f\"%axioms(x,y))\n",
    "    break"
   ]
  },
  {
   "cell_type": "code",
   "execution_count": 37,
   "id": "d55a99ed-0110-4ce0-830c-d2ff1ce3d1d2",
   "metadata": {},
   "outputs": [],
   "source": [
    "metrics_dict = {\n",
    "    'train_sat': tf.keras.metrics.Mean(name='train_sat'),\n",
    "    'test_sat': tf.keras.metrics.Mean(name='test_sat'),\n",
    "    'train_accuracy': tf.keras.metrics.RootMeanSquaredError(name=\"train_accuracy\"),\n",
    "    'test_accuracy': tf.keras.metrics.RootMeanSquaredError(name=\"test_accuracy\")\n",
    "}"
   ]
  },
  {
   "cell_type": "code",
   "execution_count": 38,
   "id": "f91184bd-851b-4665-a663-4a6beb4d0686",
   "metadata": {},
   "outputs": [],
   "source": [
    "optimizer = tf.keras.optimizers.RMSprop(learning_rate=0.001)\n",
    "@tf.function\n",
    "def train_step(x, y):\n",
    "    # sat and update\n",
    "    with tf.GradientTape() as tape:\n",
    "        sat = axioms(x, y)\n",
    "        loss = 1.-sat\n",
    "    gradients = tape.gradient(loss, f.trainable_variables)\n",
    "    optimizer.apply_gradients(zip(gradients, f.trainable_variables))\n",
    "    sat = axioms(x, y)\n",
    "    metrics_dict['train_sat'](sat)\n",
    "    # accuracy\n",
    "    metrics_dict['train_accuracy'](y,f.model(x))\n",
    "    \n",
    "@tf.function\n",
    "def test_step(x, y):\n",
    "    # sat\n",
    "    sat = axioms(x, y)\n",
    "    metrics_dict['test_sat'](sat)\n",
    "    # accuracy\n",
    "    metrics_dict['test_accuracy'](y,f.model(x))"
   ]
  },
  {
   "cell_type": "code",
   "execution_count": 39,
   "id": "0b5731f5-9c15-493a-a2aa-9d47f1acd47d",
   "metadata": {},
   "outputs": [],
   "source": [
    "from collections import defaultdict\n",
    "\n",
    "def train(\n",
    "        epochs,\n",
    "        metrics_dict, \n",
    "        ds_train_2, \n",
    "        ds_test_2, \n",
    "        train_step, \n",
    "        test_step,\n",
    "        track_metrics=1,\n",
    "        csv_path=None,\n",
    "        scheduled_parameters=defaultdict(lambda : {})\n",
    "    ):\n",
    "    \"\"\"\n",
    "    Args:\n",
    "        epochs: int, number of training epochs.\n",
    "        metrics_dict: dict, {\"metrics_label\": tf.keras.metrics instance}.\n",
    "        ds_train: iterable dataset, e.g. using tf.data.Dataset.\n",
    "        ds_test: iterable dataset, e.g. using tf.data.Dataset.\n",
    "        train_step: callable function. the arguments passed to the function\n",
    "            are the itered elements of ds_train.\n",
    "        test_step: callable function. the arguments passed to the function\n",
    "            are the itered elements of ds_test.\n",
    "        csv_path: (optional) path to create a csv file, to save the metrics.\n",
    "        scheduled_parameters: (optional) a dictionary that returns kwargs for\n",
    "            the train_step and test_step functions, for each epoch.\n",
    "            Call using scheduled_parameters[epoch].\n",
    "    \"\"\"\n",
    "    template = \"Epoch {}\"\n",
    "    for metrics_label in metrics_dict.keys():\n",
    "        template += \", %s: {:.4f}\" % metrics_label\n",
    "    if csv_path is not None:\n",
    "        csv_file = open(csv_path,\"w+\")\n",
    "        headers = \",\".join([\"Epoch\"]+list(metrics_dict.keys()))\n",
    "        csv_template = \",\".join([\"{}\" for _ in range(len(metrics_dict)+1)])\n",
    "        csv_file.write(headers+\"\\n\")\n",
    "    \n",
    "    for epoch in range(epochs):\n",
    "        for metrics in metrics_dict.values():\n",
    "            metrics.reset_states()\n",
    "\n",
    "        for batch_elements in ds_train_2:\n",
    "            train_step(*batch_elements,**scheduled_parameters[epoch])\n",
    "        for batch_elements in ds_test_2:\n",
    "            test_step(*batch_elements,**scheduled_parameters[epoch])\n",
    "\n",
    "        metrics_results = [metrics.result() for metrics in metrics_dict.values()]\n",
    "        if epoch%track_metrics == 0:\n",
    "            print(template.format(epoch,*metrics_results))\n",
    "        if csv_path is not None:\n",
    "            csv_file.write(csv_template.format(epoch,*metrics_results)+\"\\n\")\n",
    "            csv_file.flush()\n",
    "    if csv_path is not None:\n",
    "        csv_file.close()"
   ]
  },
  {
   "cell_type": "code",
   "execution_count": 40,
   "id": "6e95c08e-2bdc-451d-a26a-22f65115aa18",
   "metadata": {},
   "outputs": [
    {
     "name": "stderr",
     "output_type": "stream",
     "text": [
      "2022-09-01 15:51:57.692223: I tensorflow/core/grappler/optimizers/custom_graph_optimizer_registry.cc:112] Plugin optimizer for device_type GPU is enabled.\n",
      "2022-09-01 15:51:58.256944: I tensorflow/core/grappler/optimizers/custom_graph_optimizer_registry.cc:112] Plugin optimizer for device_type GPU is enabled.\n",
      "2022-09-01 15:51:58.593532: I tensorflow/core/grappler/optimizers/custom_graph_optimizer_registry.cc:112] Plugin optimizer for device_type GPU is enabled.\n",
      "2022-09-01 15:51:58.728599: I tensorflow/core/grappler/optimizers/custom_graph_optimizer_registry.cc:112] Plugin optimizer for device_type GPU is enabled.\n"
     ]
    },
    {
     "name": "stdout",
     "output_type": "stream",
     "text": [
      "Epoch 0, train_sat: 0.8315, test_sat: 0.8735, train_accuracy: 0.2589, test_accuracy: 0.1757\n",
      "Epoch 200, train_sat: 0.9571, test_sat: 0.9589, train_accuracy: 0.0553, test_accuracy: 0.0526\n",
      "Epoch 400, train_sat: 0.9751, test_sat: 0.9765, train_accuracy: 0.0312, test_accuracy: 0.0305\n",
      "Epoch 600, train_sat: 0.9823, test_sat: 0.9829, train_accuracy: 0.0224, test_accuracy: 0.0216\n",
      "Epoch 800, train_sat: 0.9849, test_sat: 0.9875, train_accuracy: 0.0193, test_accuracy: 0.0169\n",
      "Epoch 1000, train_sat: 0.9862, test_sat: 0.9875, train_accuracy: 0.0177, test_accuracy: 0.0176\n",
      "Epoch 1200, train_sat: 0.9878, test_sat: 0.9893, train_accuracy: 0.0159, test_accuracy: 0.0156\n",
      "Epoch 1400, train_sat: 0.9889, test_sat: 0.9899, train_accuracy: 0.0143, test_accuracy: 0.0134\n",
      "Epoch 1600, train_sat: 0.9897, test_sat: 0.9899, train_accuracy: 0.0130, test_accuracy: 0.0133\n",
      "Epoch 1800, train_sat: 0.9900, test_sat: 0.9906, train_accuracy: 0.0129, test_accuracy: 0.0141\n",
      "Epoch 2000, train_sat: 0.9900, test_sat: 0.9902, train_accuracy: 0.0134, test_accuracy: 0.0150\n",
      "Epoch 2200, train_sat: 0.9903, test_sat: 0.9907, train_accuracy: 0.0128, test_accuracy: 0.0138\n",
      "Epoch 2400, train_sat: 0.9913, test_sat: 0.9914, train_accuracy: 0.0113, test_accuracy: 0.0115\n",
      "Epoch 2600, train_sat: 0.9914, test_sat: 0.9930, train_accuracy: 0.0113, test_accuracy: 0.0106\n",
      "Epoch 2800, train_sat: 0.9909, test_sat: 0.9930, train_accuracy: 0.0125, test_accuracy: 0.0108\n",
      "Epoch 3000, train_sat: 0.9901, test_sat: 0.9927, train_accuracy: 0.0158, test_accuracy: 0.0115\n",
      "Epoch 3200, train_sat: 0.9916, test_sat: 0.9928, train_accuracy: 0.0115, test_accuracy: 0.0110\n",
      "Epoch 3400, train_sat: 0.9912, test_sat: 0.9931, train_accuracy: 0.0122, test_accuracy: 0.0106\n",
      "Epoch 3600, train_sat: 0.9905, test_sat: 0.9923, train_accuracy: 0.0144, test_accuracy: 0.0126\n",
      "Epoch 3800, train_sat: 0.9926, test_sat: 0.9937, train_accuracy: 0.0097, test_accuracy: 0.0101\n",
      "Epoch 4000, train_sat: 0.9903, test_sat: 0.9923, train_accuracy: 0.0147, test_accuracy: 0.0129\n",
      "Epoch 4200, train_sat: 0.9924, test_sat: 0.9931, train_accuracy: 0.0103, test_accuracy: 0.0114\n",
      "Epoch 4400, train_sat: 0.9919, test_sat: 0.9924, train_accuracy: 0.0112, test_accuracy: 0.0124\n",
      "Epoch 4600, train_sat: 0.9930, test_sat: 0.9942, train_accuracy: 0.0094, test_accuracy: 0.0097\n",
      "Epoch 4800, train_sat: 0.9915, test_sat: 0.9940, train_accuracy: 0.0139, test_accuracy: 0.0096\n"
     ]
    }
   ],
   "source": [
    "EPOCHS = 5000\n",
    "\n",
    "modelul2 = train(\n",
    "    EPOCHS,\n",
    "    metrics_dict,\n",
    "    ds_train_2,\n",
    "    ds_test_2,\n",
    "    train_step,\n",
    "    test_step,\n",
    "    csv_path=\"regression_results_kfold4_2.csv\",\n",
    "    track_metrics=200\n",
    ")"
   ]
  },
  {
   "cell_type": "code",
   "execution_count": 41,
   "id": "e458aab5-3d7a-4d93-ba9a-e714c903a3eb",
   "metadata": {},
   "outputs": [
    {
     "name": "stderr",
     "output_type": "stream",
     "text": [
      "/Users/eduard.hogea/miniforge3/envs/tensorflow/lib/python3.9/site-packages/seaborn/_decorators.py:36: FutureWarning: Pass the following variables as keyword args: x, y. From version 0.12, the only valid positional argument will be `data`, and passing other arguments without an explicit keyword will result in an error or misinterpretation.\n",
      "  warnings.warn(\n",
      "/Users/eduard.hogea/miniforge3/envs/tensorflow/lib/python3.9/site-packages/seaborn/_decorators.py:36: FutureWarning: Pass the following variables as keyword args: x, y. From version 0.12, the only valid positional argument will be `data`, and passing other arguments without an explicit keyword will result in an error or misinterpretation.\n",
      "  warnings.warn(\n"
     ]
    },
    {
     "data": {
      "image/png": "[encoded data removed]",
      "text/plain": [
       "<Figure size 864x432 with 2 Axes>"
      ]
     },
     "metadata": {},
     "output_type": "display_data"
    }
   ],
   "source": [
    "fig, axs = plt.subplots(1,2,figsize=(12,6))\n",
    "ax = axs[0]\n",
    "data = {'y_pred':[],'y_true':[]}\n",
    "for x,y in ds_train_2:\n",
    "    data['y_pred'].extend(f.model(x)[:,2].numpy())\n",
    "    data['y_true'].extend(y[:,2].numpy())\n",
    "df = pd.DataFrame(data,columns=['y_pred','y_true'])\n",
    "ax.set_xlim(0,80)\n",
    "ax.set_ylim(0,80)\n",
    "sns.regplot(\"y_true\",\"y_pred\",data=df,ax=ax,truncate=False,\n",
    "            scatter_kws={'alpha':0.5},line_kws={'color':'r','alpha':0.3,'linestyle':'--','linewidth':2})\n",
    "ax.plot([0,100],[0,100],color=\"gray\",linestyle=\"--\")\n",
    "ax.set_xlabel(\"Actual y values\")\n",
    "ax.set_ylabel(\"Fitted y values\")\n",
    "ax.set_title(\"Training Data\")\n",
    "\n",
    "ax = axs[1]\n",
    "data = {'y_pred':[],'y_true':[]}\n",
    "for x,y in ds_test_2:\n",
    "    data['y_pred'].extend(f.model(x)[:,2].numpy())\n",
    "    data['y_true'].extend(y[:,2].numpy())\n",
    "df = pd.DataFrame(data,columns=['y_pred','y_true'])\n",
    "ax.set_ylim(0,80)\n",
    "ax.set_xlim(0,80)\n",
    "sns.regplot(\"y_true\",\"y_pred\",data=df,ax=ax,truncate=False,\n",
    "            scatter_kws={'alpha':0.5},line_kws={'color':'r','alpha':0.3,'linestyle':'--','linewidth':2})\n",
    "ax.plot([0,100],[0,100],color=\"gray\",linestyle=\"--\")\n",
    "ax.set_xlabel(\"Actual y values\")\n",
    "ax.set_ylabel(\"Fitted y values\")\n",
    "ax.set_title(\"Test Data\")\n",
    "plt.tight_layout()\n",
    "plt.savefig(\"LTN_regresie_kfold4_2_1.png\")"
   ]
  },
  {
   "cell_type": "code",
   "execution_count": 42,
   "id": "17debd27-cde9-43ee-a0fa-1f67411dbea7",
   "metadata": {},
   "outputs": [
    {
     "data": {
      "image/png": "[encoded data removed]",
      "text/plain": [
       "<Figure size 720x720 with 1 Axes>"
      ]
     },
     "metadata": {},
     "output_type": "display_data"
    }
   ],
   "source": [
    "plt.figure(figsize=(10,10))\n",
    "plt.scatter(df['y_true'], df['y_pred'], c='crimson')\n",
    "plt.yscale('log')\n",
    "plt.xscale('log')\n",
    "\n",
    "p1 = max(max(df['y_pred']), max(df['y_true']))\n",
    "p2 = min(min(df['y_pred']), min(df['y_true']))\n",
    "plt.plot([p1, p2], [p1, p2], 'b-')\n",
    "plt.xlabel('True Values', fontsize=15)\n",
    "plt.ylabel('Predictions', fontsize=15)\n",
    "plt.axis('equal')\n",
    "plt.savefig(\"LTN_regresie_kfold4_2_2.png\")\n",
    "plt.show()"
   ]
  },
  {
   "cell_type": "code",
   "execution_count": 43,
   "id": "48807abe-e891-4fd6-9994-9b3406bf91e5",
   "metadata": {},
   "outputs": [],
   "source": [
    "df = pd.read_csv(\"/Users/eduard.hogea/Documents/Facultate/Internship/explorare/KNN99---LTN/datesets/Cantilever/date_test_corectate.csv\", on_bad_lines='skip')"
   ]
  },
  {
   "cell_type": "code",
   "execution_count": 44,
   "id": "1e0ba9d6-0e75-426a-82fd-1ba5491d9ec9",
   "metadata": {},
   "outputs": [],
   "source": [
    "df = df.sample(frac=1) #shuffle\n",
    "x = df[['Mod 1', 'Mod 2','Mod 3','Mod 4','Mod 5','Mod 6','Mod 7','Mod 8']]\n",
    "y = df[['Severitate def', 'Severitate inc.','Pozitie']]\n",
    "batch_size= 32\n",
    "ds_test = tf.data.Dataset.from_tensor_slices((x,y)).batch(batch_size)\n",
    "\n",
    "data = {'y_pred':[],'y_true':[],'def':[],'inc':[],'Mod 1':[],'Mod 2':[],'Mod 3':[],'Mod 4':[],'Mod 5':[],'Mod 6':[],'Mod 7':[],'Mod 8':[]}\n",
    "for x,y in ds_test:\n",
    "    data['y_pred'].extend(f.model(x)[:,2].numpy())\n",
    "    data['y_true'].extend(y[:,2].numpy())\n",
    "    data['def'].extend(y[:,0].numpy())\n",
    "    data['inc'].extend(y[:,1].numpy())\n",
    "    data['Mod 1'].extend(x[:,0].numpy())\n",
    "    data['Mod 2'].extend(x[:,1].numpy())\n",
    "    data['Mod 3'].extend(x[:,2].numpy())\n",
    "    data['Mod 4'].extend(x[:,3].numpy())\n",
    "    data['Mod 5'].extend(x[:,4].numpy())\n",
    "    data['Mod 6'].extend(x[:,5].numpy())\n",
    "    data['Mod 7'].extend(x[:,6].numpy())\n",
    "    data['Mod 8'].extend(x[:,7].numpy())\n",
    "#'Severitate def', 'Severitate inc.'"
   ]
  },
  {
   "cell_type": "code",
   "execution_count": 45,
   "id": "0069fe39-3f46-433f-be4c-c8ba27bb838a",
   "metadata": {},
   "outputs": [],
   "source": [
    "data_plot = pd.DataFrame(data,columns=['y_pred','y_true','def','inc','Mod 1', 'Mod 2','Mod 3','Mod 4','Mod 5','Mod 6','Mod 7','Mod 8'])"
   ]
  },
  {
   "cell_type": "code",
   "execution_count": 46,
   "id": "fe297431-0f4f-4bda-865a-2f44073eb496",
   "metadata": {},
   "outputs": [],
   "source": [
    "dif =data_plot[\"y_true\"] - data_plot[\"y_pred\"]"
   ]
  },
  {
   "cell_type": "code",
   "execution_count": 47,
   "id": "2a80a368-5695-4238-8be7-ef528abb3840",
   "metadata": {},
   "outputs": [
    {
     "data": {
      "image/png": "[encoded data removed]",
      "text/plain": [
       "<Figure size 842.4x595.44 with 1 Axes>"
      ]
     },
     "metadata": {},
     "output_type": "display_data"
    }
   ],
   "source": [
    "plt.stem(dif)\n",
    "plt.xlabel(\"Predicted values\", size = \"20\")\n",
    "plt.ylabel(\"Residuals\", size = \"20\")\n",
    "plt.savefig(\"residuals_kfold4_2.png\")"
   ]
  },
  {
   "cell_type": "code",
   "execution_count": 48,
   "id": "b8672c3d-f54d-4c28-925e-a310efc4e73e",
   "metadata": {},
   "outputs": [
    {
     "name": "stdout",
     "output_type": "stream",
     "text": [
      "Requirement already satisfied: openpyxl in /Users/eduard.hogea/miniforge3/envs/tensorflow/lib/python3.9/site-packages (3.0.10)\n",
      "Requirement already satisfied: et-xmlfile in /Users/eduard.hogea/miniforge3/envs/tensorflow/lib/python3.9/site-packages (from openpyxl) (1.1.0)\n"
     ]
    }
   ],
   "source": [
    "from openpyxl import Workbook\n",
    "!pip install openpyxl\n",
    "data_plot.to_excel(\"output_kfold4_2.xlsx\")"
   ]
  },
  {
   "cell_type": "markdown",
   "id": "e35949f8-ed79-499b-9cae-e71159df78fa",
   "metadata": {},
   "source": [
    "# Fold 3"
   ]
  },
  {
   "cell_type": "code",
   "execution_count": 49,
   "id": "ef931bec-8761-4192-9c2e-d691931ad2d5",
   "metadata": {},
   "outputs": [
    {
     "name": "stdout",
     "output_type": "stream",
     "text": [
      "Model: \"model_conv1D\"\n",
      "_________________________________________________________________\n",
      " Layer (type)                Output Shape              Param #   \n",
      "=================================================================\n",
      " Conv1D_1 (Conv1D)           (None, 5, 64)             320       \n",
      "                                                                 \n",
      " dropout_2 (Dropout)         (None, 5, 64)             0         \n",
      "                                                                 \n",
      " Conv1D_2 (Conv1D)           (None, 3, 32)             6176      \n",
      "                                                                 \n",
      " Conv1D_3 (Conv1D)           (None, 2, 16)             1040      \n",
      "                                                                 \n",
      " MaxPooling1D (MaxPooling1D)  (None, 1, 16)            0         \n",
      "                                                                 \n",
      " flatten_2 (Flatten)         (None, 16)                0         \n",
      "                                                                 \n",
      " Dense_1 (Dense)             (None, 8)                 136       \n",
      "                                                                 \n",
      " Dense_2 (Dense)             (None, 3)                 27        \n",
      "                                                                 \n",
      "=================================================================\n",
      "Total params: 7,699\n",
      "Trainable params: 7,699\n",
      "Non-trainable params: 0\n",
      "_________________________________________________________________\n"
     ]
    }
   ],
   "source": [
    "import keras\n",
    "def build_conv1D_model():\n",
    "\n",
    "    n_timesteps = X_train_reshaped.shape[1] #13\n",
    "    n_features  = X_train_reshaped.shape[2] #1 \n",
    "    model = keras.Sequential(name=\"model_conv1D\")\n",
    "    model.add(keras.layers.Input(shape=(n_timesteps,n_features)))\n",
    "    model.add(keras.layers.Conv1D(filters=64, kernel_size=4, activation='relu', name=\"Conv1D_1\"))\n",
    "    model.add(keras.layers.Dropout(0.5))\n",
    "    model.add(keras.layers.Conv1D(filters=32, kernel_size=3, activation='relu', name=\"Conv1D_2\"))\n",
    "  \n",
    "    model.add(keras.layers.Conv1D(filters=16, kernel_size=2, activation='relu', name=\"Conv1D_3\"))\n",
    "  \n",
    "    model.add(keras.layers.MaxPooling1D(pool_size=2, name=\"MaxPooling1D\"))\n",
    "    model.add(keras.layers.Flatten())\n",
    "    model.add(keras.layers.Dense(8, activation='relu', name=\"Dense_1\"))\n",
    "    model.add(keras.layers.Dense(3, name=\"Dense_2\"))\n",
    "\n",
    "    return model\n",
    "\n",
    "# logits_model = build_conv1D_model()\n",
    "# f = ltn.Predicate(ltn.utils.LogitsToPredicateModel(logits_model,single_label=True))\n",
    "# logits_model.summary()\n",
    "model_conv = build_conv1D_model()\n",
    "model_conv.summary()\n",
    "f = ltn.Function(model_conv)"
   ]
  },
  {
   "cell_type": "code",
   "execution_count": 50,
   "id": "693ff0f3-3b0f-4ee9-b79d-be3805ddd373",
   "metadata": {},
   "outputs": [],
   "source": [
    "eq = ltn.Predicate.Lambda(\n",
    "    #lambda args: tf.exp(-0.05*tf.sqrt(tf.reduce_sum(tf.square(args[0]-args[1]),axis=1)))        \n",
    "    lambda args: 1/(1+0.5*tf.sqrt(tf.reduce_sum(tf.square(args[0]-args[1]),axis=1)))\n",
    ")"
   ]
  },
  {
   "cell_type": "code",
   "execution_count": 51,
   "id": "ed38a9db-2a02-4bd7-844c-2583dfd60aa2",
   "metadata": {},
   "outputs": [],
   "source": [
    "Not = ltn.Wrapper_Connective(ltn.fuzzy_ops.Not_Std())\n",
    "And = ltn.Wrapper_Connective(ltn.fuzzy_ops.And_Prod())\n",
    "Or = ltn.Wrapper_Connective(ltn.fuzzy_ops.Or_ProbSum())\n",
    "Implies = ltn.Wrapper_Connective(ltn.fuzzy_ops.Implies_Reichenbach())\n",
    "Forall = ltn.Wrapper_Quantifier(ltn.fuzzy_ops.Aggreg_pMeanError(p=2),semantics=\"forall\")\n",
    "Exists = ltn.Wrapper_Quantifier(ltn.fuzzy_ops.Aggreg_pMean(p=2),semantics=\"exists\")"
   ]
  },
  {
   "cell_type": "code",
   "execution_count": 52,
   "id": "7a16f2bf-0312-4bd3-8a65-14f1707d5218",
   "metadata": {},
   "outputs": [],
   "source": [
    "@tf.function\n",
    "def axioms(x_data, y_data):\n",
    "    x = ltn.Variable(\"x\", x_data)\n",
    "    y = ltn.Variable(\"y\", y_data)\n",
    "    return Forall(ltn.diag(x,y), eq([f(x),y])).tensor"
   ]
  },
  {
   "cell_type": "code",
   "execution_count": 53,
   "id": "62a58c8f-1df9-45fd-b067-9b3b658cbc90",
   "metadata": {},
   "outputs": [
    {
     "name": "stdout",
     "output_type": "stream",
     "text": [
      "Initial sat level 0.78572\n"
     ]
    },
    {
     "name": "stderr",
     "output_type": "stream",
     "text": [
      "2022-09-01 16:11:20.380132: I tensorflow/core/grappler/optimizers/custom_graph_optimizer_registry.cc:112] Plugin optimizer for device_type GPU is enabled.\n"
     ]
    }
   ],
   "source": [
    "for x, y in ds_test_3:\n",
    "    print(\"Initial sat level %.5f\"%axioms(x,y))\n",
    "    break"
   ]
  },
  {
   "cell_type": "code",
   "execution_count": 54,
   "id": "cd07edca-4904-4d39-bdc5-9f3608e0f034",
   "metadata": {},
   "outputs": [],
   "source": [
    "metrics_dict = {\n",
    "    'train_sat': tf.keras.metrics.Mean(name='train_sat'),\n",
    "    'test_sat': tf.keras.metrics.Mean(name='test_sat'),\n",
    "    'train_accuracy': tf.keras.metrics.RootMeanSquaredError(name=\"train_accuracy\"),\n",
    "    'test_accuracy': tf.keras.metrics.RootMeanSquaredError(name=\"test_accuracy\")\n",
    "}"
   ]
  },
  {
   "cell_type": "code",
   "execution_count": 55,
   "id": "276cdf01-e127-4141-85a5-e01910b3acf0",
   "metadata": {},
   "outputs": [],
   "source": [
    "optimizer = tf.keras.optimizers.RMSprop(learning_rate=0.001)\n",
    "@tf.function\n",
    "def train_step(x, y):\n",
    "    # sat and update\n",
    "    with tf.GradientTape() as tape:\n",
    "        sat = axioms(x, y)\n",
    "        loss = 1.-sat\n",
    "    gradients = tape.gradient(loss, f.trainable_variables)\n",
    "    optimizer.apply_gradients(zip(gradients, f.trainable_variables))\n",
    "    sat = axioms(x, y)\n",
    "    metrics_dict['train_sat'](sat)\n",
    "    # accuracy\n",
    "    metrics_dict['train_accuracy'](y,f.model(x))\n",
    "    \n",
    "@tf.function\n",
    "def test_step(x, y):\n",
    "    # sat\n",
    "    sat = axioms(x, y)\n",
    "    metrics_dict['test_sat'](sat)\n",
    "    # accuracy\n",
    "    metrics_dict['test_accuracy'](y,f.model(x))"
   ]
  },
  {
   "cell_type": "code",
   "execution_count": 56,
   "id": "715c7652-86b9-4bc7-905e-6124c3c79fd4",
   "metadata": {},
   "outputs": [],
   "source": [
    "from collections import defaultdict\n",
    "\n",
    "def train(\n",
    "        epochs,\n",
    "        metrics_dict, \n",
    "        ds_train_3, \n",
    "        ds_test_3, \n",
    "        train_step, \n",
    "        test_step,\n",
    "        track_metrics=1,\n",
    "        csv_path=None,\n",
    "        scheduled_parameters=defaultdict(lambda : {})\n",
    "    ):\n",
    "    \"\"\"\n",
    "    Args:\n",
    "        epochs: int, number of training epochs.\n",
    "        metrics_dict: dict, {\"metrics_label\": tf.keras.metrics instance}.\n",
    "        ds_train: iterable dataset, e.g. using tf.data.Dataset.\n",
    "        ds_test: iterable dataset, e.g. using tf.data.Dataset.\n",
    "        train_step: callable function. the arguments passed to the function\n",
    "            are the itered elements of ds_train.\n",
    "        test_step: callable function. the arguments passed to the function\n",
    "            are the itered elements of ds_test.\n",
    "        csv_path: (optional) path to create a csv file, to save the metrics.\n",
    "        scheduled_parameters: (optional) a dictionary that returns kwargs for\n",
    "            the train_step and test_step functions, for each epoch.\n",
    "            Call using scheduled_parameters[epoch].\n",
    "    \"\"\"\n",
    "    template = \"Epoch {}\"\n",
    "    for metrics_label in metrics_dict.keys():\n",
    "        template += \", %s: {:.4f}\" % metrics_label\n",
    "    if csv_path is not None:\n",
    "        csv_file = open(csv_path,\"w+\")\n",
    "        headers = \",\".join([\"Epoch\"]+list(metrics_dict.keys()))\n",
    "        csv_template = \",\".join([\"{}\" for _ in range(len(metrics_dict)+1)])\n",
    "        csv_file.write(headers+\"\\n\")\n",
    "    \n",
    "    for epoch in range(epochs):\n",
    "        for metrics in metrics_dict.values():\n",
    "            metrics.reset_states()\n",
    "\n",
    "        for batch_elements in ds_train_3:\n",
    "            train_step(*batch_elements,**scheduled_parameters[epoch])\n",
    "        for batch_elements in ds_test_3:\n",
    "            test_step(*batch_elements,**scheduled_parameters[epoch])\n",
    "\n",
    "        metrics_results = [metrics.result() for metrics in metrics_dict.values()]\n",
    "        if epoch%track_metrics == 0:\n",
    "            print(template.format(epoch,*metrics_results))\n",
    "        if csv_path is not None:\n",
    "            csv_file.write(csv_template.format(epoch,*metrics_results)+\"\\n\")\n",
    "            csv_file.flush()\n",
    "    if csv_path is not None:\n",
    "        csv_file.close()"
   ]
  },
  {
   "cell_type": "code",
   "execution_count": 57,
   "id": "da22e9c6-6581-4537-bf1f-83c23da969e9",
   "metadata": {},
   "outputs": [
    {
     "name": "stderr",
     "output_type": "stream",
     "text": [
      "2022-09-01 16:11:20.754095: I tensorflow/core/grappler/optimizers/custom_graph_optimizer_registry.cc:112] Plugin optimizer for device_type GPU is enabled.\n",
      "2022-09-01 16:11:21.329971: I tensorflow/core/grappler/optimizers/custom_graph_optimizer_registry.cc:112] Plugin optimizer for device_type GPU is enabled.\n",
      "2022-09-01 16:11:21.667540: I tensorflow/core/grappler/optimizers/custom_graph_optimizer_registry.cc:112] Plugin optimizer for device_type GPU is enabled.\n",
      "2022-09-01 16:11:21.800634: I tensorflow/core/grappler/optimizers/custom_graph_optimizer_registry.cc:112] Plugin optimizer for device_type GPU is enabled.\n"
     ]
    },
    {
     "name": "stdout",
     "output_type": "stream",
     "text": [
      "Epoch 0, train_sat: 0.8321, test_sat: 0.8719, train_accuracy: 0.2579, test_accuracy: 0.1778\n",
      "Epoch 200, train_sat: 0.9523, test_sat: 0.9539, train_accuracy: 0.0618, test_accuracy: 0.0591\n",
      "Epoch 400, train_sat: 0.9729, test_sat: 0.9733, train_accuracy: 0.0343, test_accuracy: 0.0332\n",
      "Epoch 600, train_sat: 0.9819, test_sat: 0.9817, train_accuracy: 0.0230, test_accuracy: 0.0237\n",
      "Epoch 800, train_sat: 0.9846, test_sat: 0.9817, train_accuracy: 0.0198, test_accuracy: 0.0251\n",
      "Epoch 1000, train_sat: 0.9863, test_sat: 0.9853, train_accuracy: 0.0178, test_accuracy: 0.0182\n",
      "Epoch 1200, train_sat: 0.9874, test_sat: 0.9886, train_accuracy: 0.0168, test_accuracy: 0.0151\n",
      "Epoch 1400, train_sat: 0.9881, test_sat: 0.9875, train_accuracy: 0.0153, test_accuracy: 0.0158\n",
      "Epoch 1600, train_sat: 0.9886, test_sat: 0.9880, train_accuracy: 0.0145, test_accuracy: 0.0151\n",
      "Epoch 1800, train_sat: 0.9886, test_sat: 0.9881, train_accuracy: 0.0151, test_accuracy: 0.0165\n",
      "Epoch 2000, train_sat: 0.9897, test_sat: 0.9888, train_accuracy: 0.0134, test_accuracy: 0.0140\n",
      "Epoch 2200, train_sat: 0.9895, test_sat: 0.9878, train_accuracy: 0.0138, test_accuracy: 0.0167\n",
      "Epoch 2400, train_sat: 0.9884, test_sat: 0.9887, train_accuracy: 0.0161, test_accuracy: 0.0166\n",
      "Epoch 2600, train_sat: 0.9890, test_sat: 0.9841, train_accuracy: 0.0150, test_accuracy: 0.0203\n",
      "Epoch 2800, train_sat: 0.9876, test_sat: 0.9860, train_accuracy: 0.0179, test_accuracy: 0.0206\n",
      "Epoch 3000, train_sat: 0.9896, test_sat: 0.9905, train_accuracy: 0.0149, test_accuracy: 0.0124\n",
      "Epoch 3200, train_sat: 0.9874, test_sat: 0.9602, train_accuracy: 0.0203, test_accuracy: 0.0611\n",
      "Epoch 3400, train_sat: 0.9888, test_sat: 0.9889, train_accuracy: 0.0157, test_accuracy: 0.0161\n",
      "Epoch 3600, train_sat: 0.9885, test_sat: 0.9878, train_accuracy: 0.0179, test_accuracy: 0.0178\n",
      "Epoch 3800, train_sat: 0.9903, test_sat: 0.9892, train_accuracy: 0.0140, test_accuracy: 0.0162\n",
      "Epoch 4000, train_sat: 0.9894, test_sat: 0.9896, train_accuracy: 0.0179, test_accuracy: 0.0137\n",
      "Epoch 4200, train_sat: 0.9900, test_sat: 0.9909, train_accuracy: 0.0163, test_accuracy: 0.0121\n",
      "Epoch 4400, train_sat: 0.9902, test_sat: 0.9911, train_accuracy: 0.0174, test_accuracy: 0.0120\n",
      "Epoch 4600, train_sat: 0.9921, test_sat: 0.9905, train_accuracy: 0.0104, test_accuracy: 0.0123\n",
      "Epoch 4800, train_sat: 0.9922, test_sat: 0.9900, train_accuracy: 0.0105, test_accuracy: 0.0131\n"
     ]
    }
   ],
   "source": [
    "EPOCHS = 5000\n",
    "\n",
    "modelul3 = train(\n",
    "    EPOCHS,\n",
    "    metrics_dict,\n",
    "    ds_train_3,\n",
    "    ds_test_3,\n",
    "    train_step,\n",
    "    test_step,\n",
    "    csv_path=\"regression_results_kfold4_3.csv\",\n",
    "    track_metrics=200\n",
    ")"
   ]
  },
  {
   "cell_type": "code",
   "execution_count": 58,
   "id": "45816c63-3b0d-4d28-b9f3-bea385b69426",
   "metadata": {},
   "outputs": [
    {
     "name": "stderr",
     "output_type": "stream",
     "text": [
      "/Users/eduard.hogea/miniforge3/envs/tensorflow/lib/python3.9/site-packages/seaborn/_decorators.py:36: FutureWarning: Pass the following variables as keyword args: x, y. From version 0.12, the only valid positional argument will be `data`, and passing other arguments without an explicit keyword will result in an error or misinterpretation.\n",
      "  warnings.warn(\n",
      "/Users/eduard.hogea/miniforge3/envs/tensorflow/lib/python3.9/site-packages/seaborn/_decorators.py:36: FutureWarning: Pass the following variables as keyword args: x, y. From version 0.12, the only valid positional argument will be `data`, and passing other arguments without an explicit keyword will result in an error or misinterpretation.\n",
      "  warnings.warn(\n"
     ]
    },
    {
     "data": {
      "image/png": "[encoded data removed]",
      "text/plain": [
       "<Figure size 864x432 with 2 Axes>"
      ]
     },
     "metadata": {},
     "output_type": "display_data"
    }
   ],
   "source": [
    "fig, axs = plt.subplots(1,2,figsize=(12,6))\n",
    "ax = axs[0]\n",
    "data = {'y_pred':[],'y_true':[]}\n",
    "for x,y in ds_train_3:\n",
    "    data['y_pred'].extend(f.model(x)[:,2].numpy())\n",
    "    data['y_true'].extend(y[:,2].numpy())\n",
    "df = pd.DataFrame(data,columns=['y_pred','y_true'])\n",
    "ax.set_xlim(0,80)\n",
    "ax.set_ylim(0,80)\n",
    "sns.regplot(\"y_true\",\"y_pred\",data=df,ax=ax,truncate=False,\n",
    "            scatter_kws={'alpha':0.5},line_kws={'color':'r','alpha':0.3,'linestyle':'--','linewidth':2})\n",
    "ax.plot([0,100],[0,100],color=\"gray\",linestyle=\"--\")\n",
    "ax.set_xlabel(\"Actual y values\")\n",
    "ax.set_ylabel(\"Fitted y values\")\n",
    "ax.set_title(\"Training Data\")\n",
    "\n",
    "ax = axs[1]\n",
    "data = {'y_pred':[],'y_true':[]}\n",
    "for x,y in ds_test_3:\n",
    "    data['y_pred'].extend(f.model(x)[:,2].numpy())\n",
    "    data['y_true'].extend(y[:,2].numpy())\n",
    "df = pd.DataFrame(data,columns=['y_pred','y_true'])\n",
    "ax.set_ylim(0,80)\n",
    "ax.set_xlim(0,80)\n",
    "sns.regplot(\"y_true\",\"y_pred\",data=df,ax=ax,truncate=False,\n",
    "            scatter_kws={'alpha':0.5},line_kws={'color':'r','alpha':0.3,'linestyle':'--','linewidth':2})\n",
    "ax.plot([0,100],[0,100],color=\"gray\",linestyle=\"--\")\n",
    "ax.set_xlabel(\"Actual y values\")\n",
    "ax.set_ylabel(\"Fitted y values\")\n",
    "ax.set_title(\"Test Data\")\n",
    "plt.tight_layout()\n",
    "plt.savefig(\"LTN_regresie_kfold4_3_1.png\")"
   ]
  },
  {
   "cell_type": "code",
   "execution_count": 59,
   "id": "5aaaab0c-abc0-4486-b1cb-a9ee3c46a793",
   "metadata": {},
   "outputs": [
    {
     "data": {
      "image/png": "[encoded data removed]",
      "text/plain": [
       "<Figure size 720x720 with 1 Axes>"
      ]
     },
     "metadata": {},
     "output_type": "display_data"
    }
   ],
   "source": [
    "plt.figure(figsize=(10,10))\n",
    "plt.scatter(df['y_true'], df['y_pred'], c='crimson')\n",
    "plt.yscale('log')\n",
    "plt.xscale('log')\n",
    "\n",
    "p1 = max(max(df['y_pred']), max(df['y_true']))\n",
    "p2 = min(min(df['y_pred']), min(df['y_true']))\n",
    "plt.plot([p1, p2], [p1, p2], 'b-')\n",
    "plt.xlabel('True Values', fontsize=15)\n",
    "plt.ylabel('Predictions', fontsize=15)\n",
    "plt.axis('equal')\n",
    "plt.savefig(\"LTN_regresie_kfold4_3_2.png\")\n",
    "plt.show()"
   ]
  },
  {
   "cell_type": "code",
   "execution_count": 60,
   "id": "4c5ead5e-f646-4dd1-b758-3b821026d9d2",
   "metadata": {},
   "outputs": [],
   "source": [
    "df = pd.read_csv(\"/Users/eduard.hogea/Documents/Facultate/Internship/explorare/KNN99---LTN/datesets/Cantilever/date_test_corectate.csv\", on_bad_lines='skip')"
   ]
  },
  {
   "cell_type": "code",
   "execution_count": 61,
   "id": "46679b8a-71c9-4d54-8793-ce8b76197d27",
   "metadata": {},
   "outputs": [],
   "source": [
    "df = df.sample(frac=1) #shuffle\n",
    "x = df[['Mod 1', 'Mod 2','Mod 3','Mod 4','Mod 5','Mod 6','Mod 7','Mod 8']]\n",
    "y = df[['Severitate def', 'Severitate inc.','Pozitie']]\n",
    "batch_size= 32\n",
    "ds_test = tf.data.Dataset.from_tensor_slices((x,y)).batch(batch_size)\n",
    "\n",
    "data = {'y_pred':[],'y_true':[],'def':[],'inc':[],'Mod 1':[],'Mod 2':[],'Mod 3':[],'Mod 4':[],'Mod 5':[],'Mod 6':[],'Mod 7':[],'Mod 8':[]}\n",
    "for x,y in ds_test:\n",
    "    data['y_pred'].extend(f.model(x)[:,2].numpy())\n",
    "    data['y_true'].extend(y[:,2].numpy())\n",
    "    data['def'].extend(y[:,0].numpy())\n",
    "    data['inc'].extend(y[:,1].numpy())\n",
    "    data['Mod 1'].extend(x[:,0].numpy())\n",
    "    data['Mod 2'].extend(x[:,1].numpy())\n",
    "    data['Mod 3'].extend(x[:,2].numpy())\n",
    "    data['Mod 4'].extend(x[:,3].numpy())\n",
    "    data['Mod 5'].extend(x[:,4].numpy())\n",
    "    data['Mod 6'].extend(x[:,5].numpy())\n",
    "    data['Mod 7'].extend(x[:,6].numpy())\n",
    "    data['Mod 8'].extend(x[:,7].numpy())\n",
    "#'Severitate def', 'Severitate inc.'"
   ]
  },
  {
   "cell_type": "code",
   "execution_count": 62,
   "id": "762d1a81-56c2-4024-b5cb-c56d2dde5e72",
   "metadata": {},
   "outputs": [],
   "source": [
    "data_plot = pd.DataFrame(data,columns=['y_pred','y_true','def','inc','Mod 1', 'Mod 2','Mod 3','Mod 4','Mod 5','Mod 6','Mod 7','Mod 8'])"
   ]
  },
  {
   "cell_type": "code",
   "execution_count": 63,
   "id": "e27934f0-76c4-42ec-8c50-c27633c2bdc7",
   "metadata": {},
   "outputs": [],
   "source": [
    "dif =data_plot[\"y_true\"] - data_plot[\"y_pred\"]"
   ]
  },
  {
   "cell_type": "code",
   "execution_count": 64,
   "id": "c24532a3-63a6-4296-a338-d8e71d8b4dbc",
   "metadata": {},
   "outputs": [
    {
     "data": {
      "image/png": "[encoded data removed]",
      "text/plain": [
       "<Figure size 842.4x595.44 with 1 Axes>"
      ]
     },
     "metadata": {},
     "output_type": "display_data"
    }
   ],
   "source": [
    "plt.stem(dif)\n",
    "plt.xlabel(\"Predicted values\", size = \"20\")\n",
    "plt.ylabel(\"Residuals\", size = \"20\")\n",
    "plt.savefig(\"residuals_kfold4_3.png\")"
   ]
  },
  {
   "cell_type": "code",
   "execution_count": 65,
   "id": "77623335-7cac-4a76-8a36-a9a97f9c9c06",
   "metadata": {},
   "outputs": [
    {
     "name": "stdout",
     "output_type": "stream",
     "text": [
      "Requirement already satisfied: openpyxl in /Users/eduard.hogea/miniforge3/envs/tensorflow/lib/python3.9/site-packages (3.0.10)\n",
      "Requirement already satisfied: et-xmlfile in /Users/eduard.hogea/miniforge3/envs/tensorflow/lib/python3.9/site-packages (from openpyxl) (1.1.0)\n"
     ]
    }
   ],
   "source": [
    "from openpyxl import Workbook\n",
    "!pip install openpyxl\n",
    "data_plot.to_excel(\"output_kfold4_3.xlsx\")"
   ]
  },
  {
   "cell_type": "markdown",
   "id": "d77dcd07-ed23-4aa1-bcae-b077a8573949",
   "metadata": {},
   "source": [
    "# Fold 4"
   ]
  },
  {
   "cell_type": "code",
   "execution_count": null,
   "id": "81f547d9-1588-4be7-94a5-133ba99d367a",
   "metadata": {},
   "outputs": [],
   "source": []
  },
  {
   "cell_type": "code",
   "execution_count": 66,
   "id": "1c924dd6-6a92-42ea-a88c-a7e69be3791a",
   "metadata": {},
   "outputs": [
    {
     "name": "stdout",
     "output_type": "stream",
     "text": [
      "Model: \"model_conv1D\"\n",
      "_________________________________________________________________\n",
      " Layer (type)                Output Shape              Param #   \n",
      "=================================================================\n",
      " Conv1D_1 (Conv1D)           (None, 5, 64)             320       \n",
      "                                                                 \n",
      " dropout_3 (Dropout)         (None, 5, 64)             0         \n",
      "                                                                 \n",
      " Conv1D_2 (Conv1D)           (None, 3, 32)             6176      \n",
      "                                                                 \n",
      " Conv1D_3 (Conv1D)           (None, 2, 16)             1040      \n",
      "                                                                 \n",
      " MaxPooling1D (MaxPooling1D)  (None, 1, 16)            0         \n",
      "                                                                 \n",
      " flatten_3 (Flatten)         (None, 16)                0         \n",
      "                                                                 \n",
      " Dense_1 (Dense)             (None, 8)                 136       \n",
      "                                                                 \n",
      " Dense_2 (Dense)             (None, 3)                 27        \n",
      "                                                                 \n",
      "=================================================================\n",
      "Total params: 7,699\n",
      "Trainable params: 7,699\n",
      "Non-trainable params: 0\n",
      "_________________________________________________________________\n"
     ]
    }
   ],
   "source": [
    "import keras\n",
    "def build_conv1D_model():\n",
    "\n",
    "    n_timesteps = X_train_reshaped.shape[1] #13\n",
    "    n_features  = X_train_reshaped.shape[2] #1 \n",
    "    model = keras.Sequential(name=\"model_conv1D\")\n",
    "    model.add(keras.layers.Input(shape=(n_timesteps,n_features)))\n",
    "    model.add(keras.layers.Conv1D(filters=64, kernel_size=4, activation='relu', name=\"Conv1D_1\"))\n",
    "    model.add(keras.layers.Dropout(0.5))\n",
    "    model.add(keras.layers.Conv1D(filters=32, kernel_size=3, activation='relu', name=\"Conv1D_2\"))\n",
    "  \n",
    "    model.add(keras.layers.Conv1D(filters=16, kernel_size=2, activation='relu', name=\"Conv1D_3\"))\n",
    "  \n",
    "    model.add(keras.layers.MaxPooling1D(pool_size=2, name=\"MaxPooling1D\"))\n",
    "    model.add(keras.layers.Flatten())\n",
    "    model.add(keras.layers.Dense(8, activation='relu', name=\"Dense_1\"))\n",
    "    model.add(keras.layers.Dense(3, name=\"Dense_2\"))\n",
    "\n",
    "    return model\n",
    "\n",
    "# logits_model = build_conv1D_model()\n",
    "# f = ltn.Predicate(ltn.utils.LogitsToPredicateModel(logits_model,single_label=True))\n",
    "# logits_model.summary()\n",
    "model_conv = build_conv1D_model()\n",
    "model_conv.summary()\n",
    "f = ltn.Function(model_conv)"
   ]
  },
  {
   "cell_type": "code",
   "execution_count": 67,
   "id": "510e2cc5-1a2f-4624-a8bd-bc571f982ddc",
   "metadata": {},
   "outputs": [],
   "source": [
    "eq = ltn.Predicate.Lambda(\n",
    "    #lambda args: tf.exp(-0.05*tf.sqrt(tf.reduce_sum(tf.square(args[0]-args[1]),axis=1)))        \n",
    "    lambda args: 1/(1+0.5*tf.sqrt(tf.reduce_sum(tf.square(args[0]-args[1]),axis=1)))\n",
    ")"
   ]
  },
  {
   "cell_type": "code",
   "execution_count": 68,
   "id": "24515692-4ca2-4e93-8f42-f3eb234a2d72",
   "metadata": {},
   "outputs": [],
   "source": [
    "Not = ltn.Wrapper_Connective(ltn.fuzzy_ops.Not_Std())\n",
    "And = ltn.Wrapper_Connective(ltn.fuzzy_ops.And_Prod())\n",
    "Or = ltn.Wrapper_Connective(ltn.fuzzy_ops.Or_ProbSum())\n",
    "Implies = ltn.Wrapper_Connective(ltn.fuzzy_ops.Implies_Reichenbach())\n",
    "Forall = ltn.Wrapper_Quantifier(ltn.fuzzy_ops.Aggreg_pMeanError(p=2),semantics=\"forall\")\n",
    "Exists = ltn.Wrapper_Quantifier(ltn.fuzzy_ops.Aggreg_pMean(p=2),semantics=\"exists\")"
   ]
  },
  {
   "cell_type": "code",
   "execution_count": 69,
   "id": "2c00745e-6114-4f9e-91ee-28acf035ebe0",
   "metadata": {},
   "outputs": [],
   "source": [
    "@tf.function\n",
    "def axioms(x_data, y_data):\n",
    "    x = ltn.Variable(\"x\", x_data)\n",
    "    y = ltn.Variable(\"y\", y_data)\n",
    "    return Forall(ltn.diag(x,y), eq([f(x),y])).tensor"
   ]
  },
  {
   "cell_type": "code",
   "execution_count": 70,
   "id": "cf68bdba-3702-4707-9f75-8873d72c58a8",
   "metadata": {},
   "outputs": [
    {
     "name": "stdout",
     "output_type": "stream",
     "text": [
      "Initial sat level 0.78605\n"
     ]
    },
    {
     "name": "stderr",
     "output_type": "stream",
     "text": [
      "2022-09-01 16:32:34.247463: I tensorflow/core/grappler/optimizers/custom_graph_optimizer_registry.cc:112] Plugin optimizer for device_type GPU is enabled.\n"
     ]
    }
   ],
   "source": [
    "for x, y in ds_test_4:\n",
    "    print(\"Initial sat level %.5f\"%axioms(x,y))\n",
    "    break"
   ]
  },
  {
   "cell_type": "code",
   "execution_count": 71,
   "id": "c065cb8c-8665-424b-a11a-695e0b9d4935",
   "metadata": {},
   "outputs": [],
   "source": [
    "metrics_dict = {\n",
    "    'train_sat': tf.keras.metrics.Mean(name='train_sat'),\n",
    "    'test_sat': tf.keras.metrics.Mean(name='test_sat'),\n",
    "    'train_accuracy': tf.keras.metrics.RootMeanSquaredError(name=\"train_accuracy\"),\n",
    "    'test_accuracy': tf.keras.metrics.RootMeanSquaredError(name=\"test_accuracy\")\n",
    "}"
   ]
  },
  {
   "cell_type": "code",
   "execution_count": 72,
   "id": "7e16bbd2-58a8-436f-a887-4b9d81a20070",
   "metadata": {},
   "outputs": [],
   "source": [
    "optimizer = tf.keras.optimizers.RMSprop(learning_rate=0.001)\n",
    "@tf.function\n",
    "def train_step(x, y):\n",
    "    # sat and update\n",
    "    with tf.GradientTape() as tape:\n",
    "        sat = axioms(x, y)\n",
    "        loss = 1.-sat\n",
    "    gradients = tape.gradient(loss, f.trainable_variables)\n",
    "    optimizer.apply_gradients(zip(gradients, f.trainable_variables))\n",
    "    sat = axioms(x, y)\n",
    "    metrics_dict['train_sat'](sat)\n",
    "    # accuracy\n",
    "    metrics_dict['train_accuracy'](y,f.model(x))\n",
    "    \n",
    "@tf.function\n",
    "def test_step(x, y):\n",
    "    # sat\n",
    "    sat = axioms(x, y)\n",
    "    metrics_dict['test_sat'](sat)\n",
    "    # accuracy\n",
    "    metrics_dict['test_accuracy'](y,f.model(x))"
   ]
  },
  {
   "cell_type": "code",
   "execution_count": 73,
   "id": "132e5756-3afe-495b-9223-17fc3d4551fe",
   "metadata": {},
   "outputs": [],
   "source": [
    "from collections import defaultdict\n",
    "\n",
    "def train(\n",
    "        epochs,\n",
    "        metrics_dict, \n",
    "        ds_train_4, \n",
    "        ds_test_4, \n",
    "        train_step, \n",
    "        test_step,\n",
    "        track_metrics=1,\n",
    "        csv_path=None,\n",
    "        scheduled_parameters=defaultdict(lambda : {})\n",
    "    ):\n",
    "    \"\"\"\n",
    "    Args:\n",
    "        epochs: int, number of training epochs.\n",
    "        metrics_dict: dict, {\"metrics_label\": tf.keras.metrics instance}.\n",
    "        ds_train: iterable dataset, e.g. using tf.data.Dataset.\n",
    "        ds_test: iterable dataset, e.g. using tf.data.Dataset.\n",
    "        train_step: callable function. the arguments passed to the function\n",
    "            are the itered elements of ds_train.\n",
    "        test_step: callable function. the arguments passed to the function\n",
    "            are the itered elements of ds_test.\n",
    "        csv_path: (optional) path to create a csv file, to save the metrics.\n",
    "        scheduled_parameters: (optional) a dictionary that returns kwargs for\n",
    "            the train_step and test_step functions, for each epoch.\n",
    "            Call using scheduled_parameters[epoch].\n",
    "    \"\"\"\n",
    "    template = \"Epoch {}\"\n",
    "    for metrics_label in metrics_dict.keys():\n",
    "        template += \", %s: {:.4f}\" % metrics_label\n",
    "    if csv_path is not None:\n",
    "        csv_file = open(csv_path,\"w+\")\n",
    "        headers = \",\".join([\"Epoch\"]+list(metrics_dict.keys()))\n",
    "        csv_template = \",\".join([\"{}\" for _ in range(len(metrics_dict)+1)])\n",
    "        csv_file.write(headers+\"\\n\")\n",
    "    \n",
    "    for epoch in range(epochs):\n",
    "        for metrics in metrics_dict.values():\n",
    "            metrics.reset_states()\n",
    "\n",
    "        for batch_elements in ds_train_4:\n",
    "            train_step(*batch_elements,**scheduled_parameters[epoch])\n",
    "        for batch_elements in ds_test_4:\n",
    "            test_step(*batch_elements,**scheduled_parameters[epoch])\n",
    "\n",
    "        metrics_results = [metrics.result() for metrics in metrics_dict.values()]\n",
    "        if epoch%track_metrics == 0:\n",
    "            print(template.format(epoch,*metrics_results))\n",
    "        if csv_path is not None:\n",
    "            csv_file.write(csv_template.format(epoch,*metrics_results)+\"\\n\")\n",
    "            csv_file.flush()\n",
    "    if csv_path is not None:\n",
    "        csv_file.close()"
   ]
  },
  {
   "cell_type": "code",
   "execution_count": 74,
   "id": "fac6064a-c4c8-41e0-8ac1-97f39940993c",
   "metadata": {},
   "outputs": [
    {
     "name": "stderr",
     "output_type": "stream",
     "text": [
      "2022-09-01 16:32:34.634297: I tensorflow/core/grappler/optimizers/custom_graph_optimizer_registry.cc:112] Plugin optimizer for device_type GPU is enabled.\n",
      "2022-09-01 16:32:35.237086: I tensorflow/core/grappler/optimizers/custom_graph_optimizer_registry.cc:112] Plugin optimizer for device_type GPU is enabled.\n",
      "2022-09-01 16:32:35.583097: I tensorflow/core/grappler/optimizers/custom_graph_optimizer_registry.cc:112] Plugin optimizer for device_type GPU is enabled.\n",
      "2022-09-01 16:32:35.727841: I tensorflow/core/grappler/optimizers/custom_graph_optimizer_registry.cc:112] Plugin optimizer for device_type GPU is enabled.\n"
     ]
    },
    {
     "name": "stdout",
     "output_type": "stream",
     "text": [
      "Epoch 0, train_sat: 0.8321, test_sat: 0.8714, train_accuracy: 0.2577, test_accuracy: 0.1792\n",
      "Epoch 200, train_sat: 0.9505, test_sat: 0.9509, train_accuracy: 0.0647, test_accuracy: 0.0645\n",
      "Epoch 400, train_sat: 0.9735, test_sat: 0.9692, train_accuracy: 0.0334, test_accuracy: 0.0399\n",
      "Epoch 600, train_sat: 0.9816, test_sat: 0.9826, train_accuracy: 0.0236, test_accuracy: 0.0220\n",
      "Epoch 800, train_sat: 0.9849, test_sat: 0.9812, train_accuracy: 0.0194, test_accuracy: 0.0244\n",
      "Epoch 1000, train_sat: 0.9865, test_sat: 0.9863, train_accuracy: 0.0175, test_accuracy: 0.0183\n",
      "Epoch 1200, train_sat: 0.9875, test_sat: 0.9878, train_accuracy: 0.0161, test_accuracy: 0.0156\n",
      "Epoch 1400, train_sat: 0.9885, test_sat: 0.9894, train_accuracy: 0.0149, test_accuracy: 0.0136\n",
      "Epoch 1600, train_sat: 0.9883, test_sat: 0.9888, train_accuracy: 0.0152, test_accuracy: 0.0153\n",
      "Epoch 1800, train_sat: 0.9893, test_sat: 0.9886, train_accuracy: 0.0139, test_accuracy: 0.0156\n",
      "Epoch 2000, train_sat: 0.9892, test_sat: 0.9893, train_accuracy: 0.0143, test_accuracy: 0.0150\n",
      "Epoch 2200, train_sat: 0.9901, test_sat: 0.9914, train_accuracy: 0.0131, test_accuracy: 0.0117\n",
      "Epoch 2400, train_sat: 0.9902, test_sat: 0.9911, train_accuracy: 0.0129, test_accuracy: 0.0115\n",
      "Epoch 2600, train_sat: 0.9900, test_sat: 0.9900, train_accuracy: 0.0132, test_accuracy: 0.0141\n",
      "Epoch 2800, train_sat: 0.9896, test_sat: 0.9915, train_accuracy: 0.0150, test_accuracy: 0.0121\n",
      "Epoch 3000, train_sat: 0.9910, test_sat: 0.9907, train_accuracy: 0.0120, test_accuracy: 0.0131\n",
      "Epoch 3200, train_sat: 0.9912, test_sat: 0.9918, train_accuracy: 0.0117, test_accuracy: 0.0111\n",
      "Epoch 3400, train_sat: 0.9913, test_sat: 0.9926, train_accuracy: 0.0117, test_accuracy: 0.0096\n",
      "Epoch 3600, train_sat: 0.9915, test_sat: 0.9917, train_accuracy: 0.0114, test_accuracy: 0.0119\n",
      "Epoch 3800, train_sat: 0.9913, test_sat: 0.9914, train_accuracy: 0.0117, test_accuracy: 0.0124\n",
      "Epoch 4000, train_sat: 0.9917, test_sat: 0.9930, train_accuracy: 0.0114, test_accuracy: 0.0097\n",
      "Epoch 4200, train_sat: 0.9920, test_sat: 0.9920, train_accuracy: 0.0108, test_accuracy: 0.0117\n",
      "Epoch 4400, train_sat: 0.9919, test_sat: 0.9938, train_accuracy: 0.0111, test_accuracy: 0.0078\n",
      "Epoch 4600, train_sat: 0.9921, test_sat: 0.9920, train_accuracy: 0.0108, test_accuracy: 0.0120\n",
      "Epoch 4800, train_sat: 0.9918, test_sat: 0.9924, train_accuracy: 0.0110, test_accuracy: 0.0110\n"
     ]
    }
   ],
   "source": [
    "EPOCHS = 5000\n",
    "\n",
    "modelul4 = train(\n",
    "    EPOCHS,\n",
    "    metrics_dict,\n",
    "    ds_train_4,\n",
    "    ds_test_4,\n",
    "    train_step,\n",
    "    test_step,\n",
    "    csv_path=\"regression_results_kfold4_4.csv\",\n",
    "    track_metrics=200\n",
    ")"
   ]
  },
  {
   "cell_type": "code",
   "execution_count": 75,
   "id": "4ea0baf9-a0c2-474c-a43e-1398c9ebdf1c",
   "metadata": {},
   "outputs": [
    {
     "name": "stderr",
     "output_type": "stream",
     "text": [
      "/Users/eduard.hogea/miniforge3/envs/tensorflow/lib/python3.9/site-packages/seaborn/_decorators.py:36: FutureWarning: Pass the following variables as keyword args: x, y. From version 0.12, the only valid positional argument will be `data`, and passing other arguments without an explicit keyword will result in an error or misinterpretation.\n",
      "  warnings.warn(\n",
      "/Users/eduard.hogea/miniforge3/envs/tensorflow/lib/python3.9/site-packages/seaborn/_decorators.py:36: FutureWarning: Pass the following variables as keyword args: x, y. From version 0.12, the only valid positional argument will be `data`, and passing other arguments without an explicit keyword will result in an error or misinterpretation.\n",
      "  warnings.warn(\n"
     ]
    },
    {
     "data": {
      "image/png": "[encoded data removed]",
      "text/plain": [
       "<Figure size 864x432 with 2 Axes>"
      ]
     },
     "metadata": {},
     "output_type": "display_data"
    }
   ],
   "source": [
    "fig, axs = plt.subplots(1,2,figsize=(12,6))\n",
    "ax = axs[0]\n",
    "data = {'y_pred':[],'y_true':[]}\n",
    "for x,y in ds_train_4:\n",
    "    data['y_pred'].extend(f.model(x)[:,2].numpy())\n",
    "    data['y_true'].extend(y[:,2].numpy())\n",
    "df = pd.DataFrame(data,columns=['y_pred','y_true'])\n",
    "ax.set_xlim(0,80)\n",
    "ax.set_ylim(0,80)\n",
    "sns.regplot(\"y_true\",\"y_pred\",data=df,ax=ax,truncate=False,\n",
    "            scatter_kws={'alpha':0.5},line_kws={'color':'r','alpha':0.3,'linestyle':'--','linewidth':2})\n",
    "ax.plot([0,100],[0,100],color=\"gray\",linestyle=\"--\")\n",
    "ax.set_xlabel(\"Actual y values\")\n",
    "ax.set_ylabel(\"Fitted y values\")\n",
    "ax.set_title(\"Training Data\")\n",
    "\n",
    "ax = axs[1]\n",
    "data = {'y_pred':[],'y_true':[]}\n",
    "for x,y in ds_test_4:\n",
    "    data['y_pred'].extend(f.model(x)[:,2].numpy())\n",
    "    data['y_true'].extend(y[:,2].numpy())\n",
    "df = pd.DataFrame(data,columns=['y_pred','y_true'])\n",
    "ax.set_ylim(0,80)\n",
    "ax.set_xlim(0,80)\n",
    "sns.regplot(\"y_true\",\"y_pred\",data=df,ax=ax,truncate=False,\n",
    "            scatter_kws={'alpha':0.5},line_kws={'color':'r','alpha':0.3,'linestyle':'--','linewidth':2})\n",
    "ax.plot([0,100],[0,100],color=\"gray\",linestyle=\"--\")\n",
    "ax.set_xlabel(\"Actual y values\")\n",
    "ax.set_ylabel(\"Fitted y values\")\n",
    "ax.set_title(\"Test Data\")\n",
    "plt.tight_layout()\n",
    "plt.savefig(\"LTN_regresie_kfold4_4_1.png\")"
   ]
  },
  {
   "cell_type": "code",
   "execution_count": 76,
   "id": "c0bd58d6-5389-46fa-9466-18f5a5b7f6d1",
   "metadata": {},
   "outputs": [
    {
     "data": {
      "image/png": "[encoded data removed]",
      "text/plain": [
       "<Figure size 720x720 with 1 Axes>"
      ]
     },
     "metadata": {},
     "output_type": "display_data"
    }
   ],
   "source": [
    "plt.figure(figsize=(10,10))\n",
    "plt.scatter(df['y_true'], df['y_pred'], c='crimson')\n",
    "plt.yscale('log')\n",
    "plt.xscale('log')\n",
    "\n",
    "p1 = max(max(df['y_pred']), max(df['y_true']))\n",
    "p2 = min(min(df['y_pred']), min(df['y_true']))\n",
    "plt.plot([p1, p2], [p1, p2], 'b-')\n",
    "plt.xlabel('True Values', fontsize=15)\n",
    "plt.ylabel('Predictions', fontsize=15)\n",
    "plt.axis('equal')\n",
    "plt.savefig(\"LTN_regresie_kfold4_4_2.png\")\n",
    "plt.show()"
   ]
  },
  {
   "cell_type": "code",
   "execution_count": 77,
   "id": "7f7a2d26-7b48-4c12-8e83-02d4d38cf44e",
   "metadata": {},
   "outputs": [],
   "source": [
    "df = pd.read_csv(\"/Users/eduard.hogea/Documents/Facultate/Internship/explorare/KNN99---LTN/datesets/Cantilever/date_test_corectate.csv\", on_bad_lines='skip')"
   ]
  },
  {
   "cell_type": "code",
   "execution_count": 78,
   "id": "23301180-8b6b-4304-959b-a181c2a1255d",
   "metadata": {},
   "outputs": [],
   "source": [
    "df = df.sample(frac=1) #shuffle\n",
    "x = df[['Mod 1', 'Mod 2','Mod 3','Mod 4','Mod 5','Mod 6','Mod 7','Mod 8']]\n",
    "y = df[['Severitate def', 'Severitate inc.','Pozitie']]\n",
    "batch_size= 32\n",
    "ds_test = tf.data.Dataset.from_tensor_slices((x,y)).batch(batch_size)\n",
    "\n",
    "data = {'y_pred':[],'y_true':[],'def':[],'inc':[],'Mod 1':[],'Mod 2':[],'Mod 3':[],'Mod 4':[],'Mod 5':[],'Mod 6':[],'Mod 7':[],'Mod 8':[]}\n",
    "for x,y in ds_test:\n",
    "    data['y_pred'].extend(f.model(x)[:,2].numpy())\n",
    "    data['y_true'].extend(y[:,2].numpy())\n",
    "    data['def'].extend(y[:,0].numpy())\n",
    "    data['inc'].extend(y[:,1].numpy())\n",
    "    data['Mod 1'].extend(x[:,0].numpy())\n",
    "    data['Mod 2'].extend(x[:,1].numpy())\n",
    "    data['Mod 3'].extend(x[:,2].numpy())\n",
    "    data['Mod 4'].extend(x[:,3].numpy())\n",
    "    data['Mod 5'].extend(x[:,4].numpy())\n",
    "    data['Mod 6'].extend(x[:,5].numpy())\n",
    "    data['Mod 7'].extend(x[:,6].numpy())\n",
    "    data['Mod 8'].extend(x[:,7].numpy())\n",
    "#'Severitate def', 'Severitate inc.'"
   ]
  },
  {
   "cell_type": "code",
   "execution_count": 79,
   "id": "cb41b86b-2d33-43ce-b0cb-14c245b71fbe",
   "metadata": {},
   "outputs": [],
   "source": [
    "data_plot = pd.DataFrame(data,columns=['y_pred','y_true','def','inc','Mod 1', 'Mod 2','Mod 3','Mod 4','Mod 5','Mod 6','Mod 7','Mod 8'])"
   ]
  },
  {
   "cell_type": "code",
   "execution_count": 80,
   "id": "a5d61da4-b0be-44fd-b633-6c5848ab6033",
   "metadata": {},
   "outputs": [],
   "source": [
    "dif =data_plot[\"y_true\"] - data_plot[\"y_pred\"]"
   ]
  },
  {
   "cell_type": "code",
   "execution_count": 81,
   "id": "a35c8020-54d7-4b50-8033-6e6d279d0550",
   "metadata": {},
   "outputs": [
    {
     "data": {
      "image/png": "[encoded data removed]",
      "text/plain": [
       "<Figure size 842.4x595.44 with 1 Axes>"
      ]
     },
     "metadata": {},
     "output_type": "display_data"
    }
   ],
   "source": [
    "plt.stem(dif)\n",
    "plt.xlabel(\"Predicted values\", size = \"20\")\n",
    "plt.ylabel(\"Residuals\", size = \"20\")\n",
    "plt.savefig(\"residuals_kfold4_4.png\")"
   ]
  },
  {
   "cell_type": "code",
   "execution_count": 82,
   "id": "f4a4c0b2-97a5-4fc1-b5e9-4dcc2669b15c",
   "metadata": {},
   "outputs": [
    {
     "name": "stdout",
     "output_type": "stream",
     "text": [
      "Requirement already satisfied: openpyxl in /Users/eduard.hogea/miniforge3/envs/tensorflow/lib/python3.9/site-packages (3.0.10)\n",
      "Requirement already satisfied: et-xmlfile in /Users/eduard.hogea/miniforge3/envs/tensorflow/lib/python3.9/site-packages (from openpyxl) (1.1.0)\n"
     ]
    }
   ],
   "source": [
    "from openpyxl import Workbook\n",
    "!pip install openpyxl\n",
    "data_plot.to_excel(\"output_kfold4_4.xlsx\")"
   ]
  }
 ],
 "metadata": {
  "kernelspec": {
   "display_name": "Python 3 (ipykernel)",
   "language": "python",
   "name": "python3"
  },
  "language_info": {
   "codemirror_mode": {
    "name": "ipython",
    "version": 3
   },
   "file_extension": ".py",
   "mimetype": "text/x-python",
   "name": "python",
   "nbconvert_exporter": "python",
   "pygments_lexer": "ipython3",
   "version": "3.9.7"
  }
 },
 "nbformat": 4,
 "nbformat_minor": 5
}
