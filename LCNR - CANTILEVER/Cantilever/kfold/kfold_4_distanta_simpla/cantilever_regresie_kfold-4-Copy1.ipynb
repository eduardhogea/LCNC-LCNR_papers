{
 "cells": [
  {
   "cell_type": "code",
   "execution_count": 1,
   "id": "65aa9325-dc61-402d-9175-41e2c54506df",
   "metadata": {},
   "outputs": [],
   "source": [
    "import logging; logging.basicConfig(level=logging.INFO)\n",
    "import tensorflow as tf\n",
    "import numpy as np\n",
    "import matplotlib.pyplot as plt\n",
    "import logictensornetworks as ltn\n",
    "import pandas as pd\n",
    "import seaborn as sns\n",
    "sns.set(font_scale=1.2)\n",
    "sns.set(rc={'figure.figsize':(11.7,8.27)})"
   ]
  },
  {
   "cell_type": "code",
   "execution_count": 2,
   "id": "f92d3c34-d97c-4095-9e82-219c5f2fc4cd",
   "metadata": {},
   "outputs": [
    {
     "name": "stdout",
     "output_type": "stream",
     "text": [
      "(36573, 11)\n"
     ]
    }
   ],
   "source": [
    "df = pd.read_csv(\"/Users/eduard.hogea/Documents/Facultate/Internship/explorare/KNN99---LTN/datesets/Cantilever/training_sectiune/tot.csv\", on_bad_lines='skip', skiprows=1)\n",
    "df = df.sample(frac=1) #shuffle\n",
    "#df_comp = df.sample(50) # un numar de valori random sa vedem acuratetea\n",
    "#df.sample(5)\n",
    "#df.shape\n",
    "df = df.sample(int(len(df)*(100/100)))\n",
    "print(df.shape)"
   ]
  },
  {
   "cell_type": "code",
   "execution_count": 3,
   "id": "8fea17f1-d3dd-4e05-a411-1631c98e83e7",
   "metadata": {},
   "outputs": [],
   "source": [
    "# from sklearn.preprocessing import MinMaxScaler\n",
    "# scaler = MinMaxScaler() \n",
    "# #df = scaler.fit_transform(df)"
   ]
  },
  {
   "cell_type": "code",
   "execution_count": 4,
   "id": "efff6da7-3a50-4721-b174-4476e1b27c31",
   "metadata": {},
   "outputs": [
    {
     "name": "stdout",
     "output_type": "stream",
     "text": [
      "Null values in dataset are 0\n"
     ]
    },
    {
     "data": {
      "text/plain": [
       "(36573, 11)"
      ]
     },
     "execution_count": 4,
     "metadata": {},
     "output_type": "execute_result"
    }
   ],
   "source": [
    "df.drop_duplicates(keep= 'first', inplace=True) #eliminarea dublurilor liniilor\n",
    "df.replace([np.inf, -np.inf], np.nan, inplace=True)\n",
    "df.dropna(inplace = True)\n",
    "print('Null values in dataset are',len(df[df.isnull().any(1)]))\n",
    "df.shape"
   ]
  },
  {
   "cell_type": "code",
   "execution_count": 5,
   "id": "fa00e155-e22e-4437-b0fa-efd5a1041d71",
   "metadata": {},
   "outputs": [],
   "source": [
    "# df_comp.drop_duplicates(keep= 'first', inplace=True) #eliminarea dublurilor liniilor\n",
    "# df_comp.replace([np.inf, -np.inf], np.nan, inplace=True)\n",
    "# df_comp.dropna(inplace = True)\n",
    "# print('Null values in dataset are',len(df[df.isnull().any(1)]))\n",
    "# df_comp.shape"
   ]
  },
  {
   "cell_type": "code",
   "execution_count": 6,
   "id": "b05e6881-968f-42cf-8c46-07402209e9c0",
   "metadata": {},
   "outputs": [],
   "source": [
    "from sklearn.model_selection import KFold\n",
    "\n",
    "kf = KFold(n_splits = 4, shuffle = True, random_state = 42)\n",
    "listakf = list(kf.split(df))"
   ]
  },
  {
   "cell_type": "code",
   "execution_count": 7,
   "id": "c053ca28-2b13-493c-8823-0f42296787d8",
   "metadata": {},
   "outputs": [],
   "source": [
    "result = listakf[0]\n",
    "train = df.iloc[result[0]]\n",
    "test =  df.iloc[result[1]]\n",
    "result2 = listakf[1]\n",
    "train2 = df.iloc[result2[0]]\n",
    "test2 =  df.iloc[result2[1]]\n",
    "\n",
    "result3 = listakf[2]\n",
    "train3 = df.iloc[result3[0]]\n",
    "test3 =  df.iloc[result3[1]]\n",
    "result4 = listakf[3]\n",
    "train4 = df.iloc[result4[0]]\n",
    "test4 =  df.iloc[result4[1]]"
   ]
  },
  {
   "cell_type": "code",
   "execution_count": 8,
   "id": "f085c9d0-b188-4386-aa29-83e45ea1ac42",
   "metadata": {},
   "outputs": [
    {
     "data": {
      "text/plain": [
       "(27429, 11)"
      ]
     },
     "execution_count": 8,
     "metadata": {},
     "output_type": "execute_result"
    }
   ],
   "source": [
    "train.shape"
   ]
  },
  {
   "cell_type": "code",
   "execution_count": 9,
   "id": "9e47b2a3-3f27-4fa7-bfa3-c45c773727bc",
   "metadata": {},
   "outputs": [],
   "source": [
    "from sklearn.model_selection import train_test_split\n",
    "\n",
    "x = train[['Mod 1', 'Mod 2','Mod 3','Mod 4','Mod 5','Mod 6','Mod 7','Mod 8']]\n",
    "y = train[['Severitate def', 'Severitate inc.','Pozitie']]\n",
    "\n",
    "x_test = test[['Mod 1', 'Mod 2','Mod 3','Mod 4','Mod 5','Mod 6','Mod 7','Mod 8']]\n",
    "y_test = test[['Severitate def', 'Severitate inc.','Pozitie']]\n",
    "\n",
    "x2 = train2[['Mod 1', 'Mod 2','Mod 3','Mod 4','Mod 5','Mod 6','Mod 7','Mod 8']]\n",
    "y2 = train2[['Severitate def', 'Severitate inc.','Pozitie']]\n",
    "\n",
    "x2_test = test2[['Mod 1', 'Mod 2','Mod 3','Mod 4','Mod 5','Mod 6','Mod 7','Mod 8']]\n",
    "y2_test = test2[['Severitate def', 'Severitate inc.','Pozitie']]\n",
    "\n",
    "x3 = train3[['Mod 1', 'Mod 2','Mod 3','Mod 4','Mod 5','Mod 6','Mod 7','Mod 8']]\n",
    "y3 = train3[['Severitate def', 'Severitate inc.','Pozitie']]\n",
    "\n",
    "x3_test = test3[['Mod 1', 'Mod 2','Mod 3','Mod 4','Mod 5','Mod 6','Mod 7','Mod 8']]\n",
    "y3_test = test3[['Severitate def', 'Severitate inc.','Pozitie']]\n",
    "\n",
    "x4 = train4[['Mod 1', 'Mod 2','Mod 3','Mod 4','Mod 5','Mod 6','Mod 7','Mod 8']]\n",
    "y4 = train4[['Severitate def', 'Severitate inc.','Pozitie']]\n",
    "\n",
    "x4_test = test4[['Mod 1', 'Mod 2','Mod 3','Mod 4','Mod 5','Mod 6','Mod 7','Mod 8']]\n",
    "y4_test = test4[['Severitate def', 'Severitate inc.','Pozitie']]\n",
    "\n",
    "\n",
    "\n",
    "#x_train, x_test, y_train, y_test = train_test_split(x, y, test_size=.2)\n",
    "\n",
    "#x_comp_train, x_comp_test, y_comp_train, y_comp_test = train_test_split(x_comp, y_comp, test_size=.2)"
   ]
  },
  {
   "cell_type": "code",
   "execution_count": 10,
   "id": "838bb1ac-5e3d-40f9-ada9-0056edf46985",
   "metadata": {},
   "outputs": [
    {
     "name": "stdout",
     "output_type": "stream",
     "text": [
      "Metal device set to: Apple M1\n"
     ]
    },
    {
     "name": "stderr",
     "output_type": "stream",
     "text": [
      "2022-06-16 13:04:08.769144: I tensorflow/core/common_runtime/pluggable_device/pluggable_device_factory.cc:305] Could not identify NUMA node of platform GPU ID 0, defaulting to 0. Your kernel may not have been built with NUMA support.\n",
      "2022-06-16 13:04:08.769253: I tensorflow/core/common_runtime/pluggable_device/pluggable_device_factory.cc:271] Created TensorFlow device (/job:localhost/replica:0/task:0/device:GPU:0 with 0 MB memory) -> physical PluggableDevice (device: 0, name: METAL, pci bus id: <undefined>)\n"
     ]
    }
   ],
   "source": [
    "batch_size= 2000\n",
    "ds_train = tf.data.Dataset.from_tensor_slices((x,y)).batch(batch_size)\n",
    "ds_test = tf.data.Dataset.from_tensor_slices((x_test,y_test)).batch(batch_size)\n",
    "\n",
    "ds_train_2 = tf.data.Dataset.from_tensor_slices((x2,y2)).batch(batch_size)\n",
    "ds_test_2 = tf.data.Dataset.from_tensor_slices((x2_test,y2_test)).batch(batch_size)\n",
    "\n",
    "ds_train_3 = tf.data.Dataset.from_tensor_slices((x3,y3)).batch(batch_size)\n",
    "ds_test_3 = tf.data.Dataset.from_tensor_slices((x3_test,y3_test)).batch(batch_size)\n",
    "\n",
    "ds_train_4 = tf.data.Dataset.from_tensor_slices((x4,y4)).batch(batch_size)\n",
    "ds_test_4 = tf.data.Dataset.from_tensor_slices((x4_test,y4_test)).batch(batch_size)\n",
    "\n",
    "#ds_comp_train = tf.data.Dataset.from_tensor_slices((x_comp_train,y_comp_train)).batch(batch_size)\n",
    "#ds_comp_test = tf.data.Dataset.from_tensor_slices((x_comp,y_comp)).batch(batch_size)"
   ]
  },
  {
   "cell_type": "code",
   "execution_count": 11,
   "id": "2bf0bf64-6b2e-4a9f-85b3-00dfa6ad3c3b",
   "metadata": {},
   "outputs": [
    {
     "data": {
      "text/plain": [
       "Pozitie            float64\n",
       "Severitate def     float64\n",
       "Severitate inc.    float64\n",
       "Mod 1              float64\n",
       "Mod 2              float64\n",
       "Mod 3              float64\n",
       "Mod 4              float64\n",
       "Mod 5              float64\n",
       "Mod 6              float64\n",
       "Mod 7              float64\n",
       "Mod 8              float64\n",
       "dtype: object"
      ]
     },
     "execution_count": 11,
     "metadata": {},
     "output_type": "execute_result"
    }
   ],
   "source": [
    "#df['Freq 1    f1 [Hz]'] = df['Freq 1    f1 [Hz]'].astype(float, errors = 'raise')\n",
    "df.dtypes"
   ]
  },
  {
   "cell_type": "markdown",
   "id": "42f2d37e-8877-4e72-85fb-30759d3be8b3",
   "metadata": {},
   "source": [
    "# Fold 1"
   ]
  },
  {
   "cell_type": "code",
   "execution_count": 12,
   "id": "d9a68331-310f-490d-875d-d29659ef79a2",
   "metadata": {},
   "outputs": [],
   "source": [
    "f = ltn.Function.MLP(input_shapes=[8],output_shape=[3],hidden_layer_sizes=(100,100,50))"
   ]
  },
  {
   "cell_type": "code",
   "execution_count": 13,
   "id": "bf67f783-a79b-4f18-b98d-fae3af503e73",
   "metadata": {},
   "outputs": [],
   "source": [
    "eq = ltn.Predicate.Lambda(\n",
    "    #lambda args: tf.exp(-0.05*tf.sqrt(tf.reduce_sum(tf.square(args[0]-args[1]),axis=1)))        \n",
    "    lambda args: 1/(1+(tf.reduce_sum(abs(args[0]-args[1]),axis=1)))\n",
    ")"
   ]
  },
  {
   "cell_type": "code",
   "execution_count": 14,
   "id": "2eb0af52-f081-4d41-908b-1d8bbbf7a4c3",
   "metadata": {},
   "outputs": [],
   "source": [
    "Not = ltn.Wrapper_Connective(ltn.fuzzy_ops.Not_Std())\n",
    "And = ltn.Wrapper_Connective(ltn.fuzzy_ops.And_Prod())\n",
    "Or = ltn.Wrapper_Connective(ltn.fuzzy_ops.Or_ProbSum())\n",
    "Implies = ltn.Wrapper_Connective(ltn.fuzzy_ops.Implies_Reichenbach())\n",
    "Forall = ltn.Wrapper_Quantifier(ltn.fuzzy_ops.Aggreg_pMeanError(p=2),semantics=\"forall\")\n",
    "Exists = ltn.Wrapper_Quantifier(ltn.fuzzy_ops.Aggreg_pMean(p=2),semantics=\"exists\")"
   ]
  },
  {
   "cell_type": "code",
   "execution_count": 15,
   "id": "07a3d6d6-a072-41fc-9af0-dbb84ceab774",
   "metadata": {},
   "outputs": [],
   "source": [
    "@tf.function\n",
    "def axioms(x_data, y_data):\n",
    "    x = ltn.Variable(\"x\", x_data)\n",
    "    y = ltn.Variable(\"y\", y_data)\n",
    "    return Forall(ltn.diag(x,y), eq([f(x),y])).tensor"
   ]
  },
  {
   "cell_type": "code",
   "execution_count": 16,
   "id": "c6732d31-0b31-49c4-ad80-ec80fb0e8524",
   "metadata": {},
   "outputs": [
    {
     "name": "stdout",
     "output_type": "stream",
     "text": [
      "Initial sat level 0.65055\n"
     ]
    },
    {
     "name": "stderr",
     "output_type": "stream",
     "text": [
      "2022-06-16 13:04:09.526874: W tensorflow/core/platform/profile_utils/cpu_utils.cc:128] Failed to get CPU frequency: 0 Hz\n",
      "2022-06-16 13:04:09.526930: I tensorflow/core/grappler/optimizers/custom_graph_optimizer_registry.cc:112] Plugin optimizer for device_type GPU is enabled.\n"
     ]
    }
   ],
   "source": [
    "for x, y in ds_test:\n",
    "    print(\"Initial sat level %.5f\"%axioms(x,y))\n",
    "    break"
   ]
  },
  {
   "cell_type": "code",
   "execution_count": 17,
   "id": "b23fd2dc-c1c1-49d5-8332-807578663f8d",
   "metadata": {},
   "outputs": [],
   "source": [
    "metrics_dict = {\n",
    "    'train_sat': tf.keras.metrics.Mean(name='train_sat'),\n",
    "    'test_sat': tf.keras.metrics.Mean(name='test_sat'),\n",
    "    'train_accuracy': tf.keras.metrics.RootMeanSquaredError(name=\"train_accuracy\"),\n",
    "    'test_accuracy': tf.keras.metrics.RootMeanSquaredError(name=\"test_accuracy\")\n",
    "}"
   ]
  },
  {
   "cell_type": "code",
   "execution_count": 18,
   "id": "49ca2f66-ad7b-4110-8e5b-9ed73680f610",
   "metadata": {},
   "outputs": [],
   "source": [
    "optimizer = tf.keras.optimizers.Adam(learning_rate=0.01)\n",
    "@tf.function\n",
    "def train_step(x, y):\n",
    "    # sat and update\n",
    "    with tf.GradientTape() as tape:\n",
    "        sat = axioms(x, y)\n",
    "        loss = 1.-sat\n",
    "    gradients = tape.gradient(loss, f.trainable_variables)\n",
    "    optimizer.apply_gradients(zip(gradients, f.trainable_variables))\n",
    "    sat = axioms(x, y)\n",
    "    metrics_dict['train_sat'](sat)\n",
    "    # accuracy\n",
    "    metrics_dict['train_accuracy'](y,f.model(x))\n",
    "    \n",
    "@tf.function\n",
    "def test_step(x, y):\n",
    "    # sat\n",
    "    sat = axioms(x, y)\n",
    "    metrics_dict['test_sat'](sat)\n",
    "    # accuracy\n",
    "    metrics_dict['test_accuracy'](y,f.model(x))"
   ]
  },
  {
   "cell_type": "code",
   "execution_count": 19,
   "id": "4f4b8cf5-4626-4c6d-93f4-5480de07b8a9",
   "metadata": {},
   "outputs": [],
   "source": [
    "from collections import defaultdict\n",
    "\n",
    "def train(\n",
    "        epochs,\n",
    "        metrics_dict, \n",
    "        ds_train, \n",
    "        ds_test, \n",
    "        train_step, \n",
    "        test_step,\n",
    "        track_metrics=1,\n",
    "        csv_path=None,\n",
    "        scheduled_parameters=defaultdict(lambda : {})\n",
    "    ):\n",
    "    \"\"\"\n",
    "    Args:\n",
    "        epochs: int, number of training epochs.\n",
    "        metrics_dict: dict, {\"metrics_label\": tf.keras.metrics instance}.\n",
    "        ds_train: iterable dataset, e.g. using tf.data.Dataset.\n",
    "        ds_test: iterable dataset, e.g. using tf.data.Dataset.\n",
    "        train_step: callable function. the arguments passed to the function\n",
    "            are the itered elements of ds_train.\n",
    "        test_step: callable function. the arguments passed to the function\n",
    "            are the itered elements of ds_test.\n",
    "        csv_path: (optional) path to create a csv file, to save the metrics.\n",
    "        scheduled_parameters: (optional) a dictionary that returns kwargs for\n",
    "            the train_step and test_step functions, for each epoch.\n",
    "            Call using scheduled_parameters[epoch].\n",
    "    \"\"\"\n",
    "    template = \"Epoch {}\"\n",
    "    for metrics_label in metrics_dict.keys():\n",
    "        template += \", %s: {:.4f}\" % metrics_label\n",
    "    if csv_path is not None:\n",
    "        csv_file = open(csv_path,\"w+\")\n",
    "        headers = \",\".join([\"Epoch\"]+list(metrics_dict.keys()))\n",
    "        csv_template = \",\".join([\"{}\" for _ in range(len(metrics_dict)+1)])\n",
    "        csv_file.write(headers+\"\\n\")\n",
    "    \n",
    "    for epoch in range(epochs):\n",
    "        for metrics in metrics_dict.values():\n",
    "            metrics.reset_states()\n",
    "\n",
    "        for batch_elements in ds_train:\n",
    "            train_step(*batch_elements,**scheduled_parameters[epoch])\n",
    "        for batch_elements in ds_test:\n",
    "            test_step(*batch_elements,**scheduled_parameters[epoch])\n",
    "\n",
    "        metrics_results = [metrics.result() for metrics in metrics_dict.values()]\n",
    "        if epoch%track_metrics == 0:\n",
    "            print(template.format(epoch,*metrics_results))\n",
    "        if csv_path is not None:\n",
    "            csv_file.write(csv_template.format(epoch,*metrics_results)+\"\\n\")\n",
    "            csv_file.flush()\n",
    "    if csv_path is not None:\n",
    "        csv_file.close()"
   ]
  },
  {
   "cell_type": "code",
   "execution_count": 20,
   "id": "59dc367f-c0b5-4e5e-99cd-47fdf8d0a41c",
   "metadata": {},
   "outputs": [
    {
     "name": "stderr",
     "output_type": "stream",
     "text": [
      "2022-06-16 13:04:09.750434: I tensorflow/core/grappler/optimizers/custom_graph_optimizer_registry.cc:112] Plugin optimizer for device_type GPU is enabled.\n",
      "2022-06-16 13:04:10.225660: I tensorflow/core/grappler/optimizers/custom_graph_optimizer_registry.cc:112] Plugin optimizer for device_type GPU is enabled.\n",
      "2022-06-16 13:04:10.388607: I tensorflow/core/grappler/optimizers/custom_graph_optimizer_registry.cc:112] Plugin optimizer for device_type GPU is enabled.\n",
      "2022-06-16 13:04:10.511233: I tensorflow/core/grappler/optimizers/custom_graph_optimizer_registry.cc:112] Plugin optimizer for device_type GPU is enabled.\n"
     ]
    },
    {
     "name": "stdout",
     "output_type": "stream",
     "text": [
      "Epoch 0, train_sat: 0.7020, test_sat: 0.7518, train_accuracy: 0.2036, test_accuracy: 0.1642\n",
      "Epoch 200, train_sat: 0.9041, test_sat: 0.9075, train_accuracy: 0.0682, test_accuracy: 0.0625\n",
      "Epoch 400, train_sat: 0.9312, test_sat: 0.9304, train_accuracy: 0.0498, test_accuracy: 0.0490\n",
      "Epoch 600, train_sat: 0.9377, test_sat: 0.9390, train_accuracy: 0.0411, test_accuracy: 0.0394\n",
      "Epoch 800, train_sat: 0.9475, test_sat: 0.9583, train_accuracy: 0.0375, test_accuracy: 0.0263\n",
      "Epoch 1000, train_sat: 0.9436, test_sat: 0.9329, train_accuracy: 0.0297, test_accuracy: 0.0338\n",
      "Epoch 1200, train_sat: 0.9557, test_sat: 0.9485, train_accuracy: 0.0291, test_accuracy: 0.0326\n",
      "Epoch 1400, train_sat: 0.9618, test_sat: 0.9485, train_accuracy: 0.0233, test_accuracy: 0.0299\n",
      "Epoch 1600, train_sat: 0.9643, test_sat: 0.9563, train_accuracy: 0.0224, test_accuracy: 0.0284\n",
      "Epoch 1800, train_sat: 0.9628, test_sat: 0.9502, train_accuracy: 0.0230, test_accuracy: 0.0333\n",
      "Epoch 2000, train_sat: 0.9575, test_sat: 0.9617, train_accuracy: 0.0232, test_accuracy: 0.0199\n",
      "Epoch 2200, train_sat: 0.9666, test_sat: 0.9699, train_accuracy: 0.0197, test_accuracy: 0.0165\n",
      "Epoch 2400, train_sat: 0.9187, test_sat: 0.9114, train_accuracy: 0.0380, test_accuracy: 0.0424\n",
      "Epoch 2600, train_sat: 0.9461, test_sat: 0.9442, train_accuracy: 0.0259, test_accuracy: 0.0256\n",
      "Epoch 2800, train_sat: 0.9681, test_sat: 0.9625, train_accuracy: 0.0204, test_accuracy: 0.0258\n",
      "Epoch 3000, train_sat: 0.9704, test_sat: 0.9739, train_accuracy: 0.0180, test_accuracy: 0.0170\n",
      "Epoch 3200, train_sat: 0.8978, test_sat: 0.9120, train_accuracy: 0.0502, test_accuracy: 0.0407\n",
      "Epoch 3400, train_sat: 0.9713, test_sat: 0.9705, train_accuracy: 0.0183, test_accuracy: 0.0168\n",
      "Epoch 3600, train_sat: 0.9553, test_sat: 0.9411, train_accuracy: 0.0230, test_accuracy: 0.0281\n",
      "Epoch 3800, train_sat: 0.9607, test_sat: 0.9514, train_accuracy: 0.0202, test_accuracy: 0.0251\n",
      "Epoch 4000, train_sat: 0.9732, test_sat: 0.9766, train_accuracy: 0.0170, test_accuracy: 0.0146\n",
      "Epoch 4200, train_sat: 0.9644, test_sat: 0.9586, train_accuracy: 0.0188, test_accuracy: 0.0206\n",
      "Epoch 4400, train_sat: 0.9602, test_sat: 0.9490, train_accuracy: 0.0296, test_accuracy: 0.0368\n",
      "Epoch 4600, train_sat: 0.9637, test_sat: 0.9663, train_accuracy: 0.0189, test_accuracy: 0.0176\n",
      "Epoch 4800, train_sat: 0.9346, test_sat: 0.9339, train_accuracy: 0.0317, test_accuracy: 0.0317\n"
     ]
    }
   ],
   "source": [
    "EPOCHS = 5000\n",
    "\n",
    "modelul = train(\n",
    "    EPOCHS,\n",
    "    metrics_dict,\n",
    "    ds_train,\n",
    "    ds_test,\n",
    "    train_step,\n",
    "    test_step,\n",
    "    csv_path=\"regression_results_kfold4_1_norm.csv\",\n",
    "    track_metrics=200\n",
    ")"
   ]
  },
  {
   "cell_type": "code",
   "execution_count": 21,
   "id": "3d8920f2-689a-474f-bc49-1d39deba97a8",
   "metadata": {},
   "outputs": [],
   "source": [
    "import seaborn as sns\n",
    "sns.set(font_scale=1.2)"
   ]
  },
  {
   "cell_type": "code",
   "execution_count": 22,
   "id": "1acda274-adbb-4557-9beb-e51aba177b8c",
   "metadata": {},
   "outputs": [
    {
     "name": "stderr",
     "output_type": "stream",
     "text": [
      "/Users/eduard.hogea/miniforge3/envs/tensorflow/lib/python3.9/site-packages/seaborn/_decorators.py:36: FutureWarning: Pass the following variables as keyword args: x, y. From version 0.12, the only valid positional argument will be `data`, and passing other arguments without an explicit keyword will result in an error or misinterpretation.\n",
      "  warnings.warn(\n",
      "/Users/eduard.hogea/miniforge3/envs/tensorflow/lib/python3.9/site-packages/seaborn/_decorators.py:36: FutureWarning: Pass the following variables as keyword args: x, y. From version 0.12, the only valid positional argument will be `data`, and passing other arguments without an explicit keyword will result in an error or misinterpretation.\n",
      "  warnings.warn(\n"
     ]
    },
    {
     "data": {
      "image/png": "[encoded data removed]",
      "text/plain": [
       "<Figure size 864x432 with 2 Axes>"
      ]
     },
     "metadata": {},
     "output_type": "display_data"
    }
   ],
   "source": [
    "fig, axs = plt.subplots(1,2,figsize=(12,6))\n",
    "ax = axs[0]\n",
    "data = {'y_pred':[],'y_true':[]}\n",
    "for x,y in ds_train:\n",
    "    data['y_pred'].extend(f.model(x)[:,2].numpy())\n",
    "    data['y_true'].extend(y[:,2].numpy())\n",
    "df = pd.DataFrame(data,columns=['y_pred','y_true'])\n",
    "ax.set_xlim(0,80)\n",
    "ax.set_ylim(0,80)\n",
    "sns.regplot(\"y_true\",\"y_pred\",data=df,ax=ax,truncate=False,\n",
    "            scatter_kws={'alpha':0.5},line_kws={'color':'r','alpha':0.3,'linestyle':'--','linewidth':2})\n",
    "ax.plot([0,100],[0,100],color=\"gray\",linestyle=\"--\")\n",
    "ax.set_xlabel(\"Actual y values\")\n",
    "ax.set_ylabel(\"Fitted y values\")\n",
    "ax.set_title(\"Training Data\")\n",
    "\n",
    "ax = axs[1]\n",
    "data = {'y_pred':[],'y_true':[]}\n",
    "for x,y in ds_test:\n",
    "    data['y_pred'].extend(f.model(x)[:,2].numpy())\n",
    "    data['y_true'].extend(y[:,2].numpy())\n",
    "df = pd.DataFrame(data,columns=['y_pred','y_true'])\n",
    "ax.set_ylim(0,80)\n",
    "ax.set_xlim(0,80)\n",
    "sns.regplot(\"y_true\",\"y_pred\",data=df,ax=ax,truncate=False,\n",
    "            scatter_kws={'alpha':0.5},line_kws={'color':'r','alpha':0.3,'linestyle':'--','linewidth':2})\n",
    "ax.plot([0,100],[0,100],color=\"gray\",linestyle=\"--\")\n",
    "ax.set_xlabel(\"Actual y values\")\n",
    "ax.set_ylabel(\"Fitted y values\")\n",
    "ax.set_title(\"Test Data\")\n",
    "plt.tight_layout()\n",
    "plt.savefig(\"LTN_regresie_kfold4_1_1_norm.png\")"
   ]
  },
  {
   "cell_type": "code",
   "execution_count": 23,
   "id": "2234560e-d9a7-4fb1-888c-c34c9ecccc56",
   "metadata": {},
   "outputs": [
    {
     "data": {
      "image/png": "[encoded data removed]",
      "text/plain": [
       "<Figure size 720x720 with 1 Axes>"
      ]
     },
     "metadata": {},
     "output_type": "display_data"
    }
   ],
   "source": [
    "plt.figure(figsize=(10,10))\n",
    "plt.scatter(df['y_true'], df['y_pred'], c='crimson')\n",
    "plt.yscale('log')\n",
    "plt.xscale('log')\n",
    "\n",
    "p1 = max(max(df['y_pred']), max(df['y_true']))\n",
    "p2 = min(min(df['y_pred']), min(df['y_true']))\n",
    "plt.plot([p1, p2], [p1, p2], 'b-')\n",
    "plt.xlabel('True Values', fontsize=15)\n",
    "plt.ylabel('Predictions', fontsize=15)\n",
    "plt.axis('equal')\n",
    "plt.savefig(\"LTN_regresie_kfold4_1_2_norm.png\")\n",
    "plt.show()"
   ]
  },
  {
   "cell_type": "code",
   "execution_count": 24,
   "id": "b79b5d27-7741-4c02-87f8-ccc8e5363d10",
   "metadata": {},
   "outputs": [],
   "source": [
    "df = pd.read_csv(\"/Users/eduard.hogea/Documents/Facultate/Internship/explorare/KNN99---LTN/datesets/Cantilever/date_test_corectate.csv\", on_bad_lines='skip')"
   ]
  },
  {
   "cell_type": "code",
   "execution_count": 25,
   "id": "31d82e36-d843-4868-8ce0-1a98df04c9ab",
   "metadata": {},
   "outputs": [],
   "source": [
    "df = df.sample(frac=1) #shuffle\n",
    "x = df[['Mod 1', 'Mod 2','Mod 3','Mod 4','Mod 5','Mod 6','Mod 7','Mod 8']]\n",
    "y = df[['Severitate def', 'Severitate inc.','Pozitie']]\n",
    "batch_size= 32\n",
    "ds_test = tf.data.Dataset.from_tensor_slices((x,y)).batch(batch_size)\n",
    "\n",
    "data = {'y_pred':[],'y_true':[],'def':[],'inc':[],'Mod 1':[],'Mod 2':[],'Mod 3':[],'Mod 4':[],'Mod 5':[],'Mod 6':[],'Mod 7':[],'Mod 8':[]}\n",
    "for x,y in ds_test:\n",
    "    data['y_pred'].extend(f.model(x)[:,2].numpy())\n",
    "    data['y_true'].extend(y[:,2].numpy())\n",
    "    data['def'].extend(y[:,0].numpy())\n",
    "    data['inc'].extend(y[:,1].numpy())\n",
    "    data['Mod 1'].extend(x[:,0].numpy())\n",
    "    data['Mod 2'].extend(x[:,1].numpy())\n",
    "    data['Mod 3'].extend(x[:,2].numpy())\n",
    "    data['Mod 4'].extend(x[:,3].numpy())\n",
    "    data['Mod 5'].extend(x[:,4].numpy())\n",
    "    data['Mod 6'].extend(x[:,5].numpy())\n",
    "    data['Mod 7'].extend(x[:,6].numpy())\n",
    "    data['Mod 8'].extend(x[:,7].numpy())\n",
    "#'Severitate def', 'Severitate inc.'"
   ]
  },
  {
   "cell_type": "code",
   "execution_count": 26,
   "id": "b64c6ac1-8207-4c08-b91f-299bf9e0486d",
   "metadata": {},
   "outputs": [],
   "source": [
    "data_plot = pd.DataFrame(data,columns=['y_pred','y_true','def','inc','Mod 1', 'Mod 2','Mod 3','Mod 4','Mod 5','Mod 6','Mod 7','Mod 8'])"
   ]
  },
  {
   "cell_type": "code",
   "execution_count": 27,
   "id": "7c1cd0ea-7b0c-422f-a687-089cd34abfa7",
   "metadata": {},
   "outputs": [],
   "source": [
    "dif =data_plot[\"y_true\"] - data_plot[\"y_pred\"]"
   ]
  },
  {
   "cell_type": "code",
   "execution_count": 28,
   "id": "773fcabd-7b97-4006-9454-da0c45a8f670",
   "metadata": {},
   "outputs": [
    {
     "data": {
      "image/png": "[encoded data removed]",
      "text/plain": [
       "<Figure size 842.4x595.44 with 1 Axes>"
      ]
     },
     "metadata": {},
     "output_type": "display_data"
    }
   ],
   "source": [
    "plt.stem(dif)\n",
    "plt.xlabel(\"Predicted values\", size = \"20\")\n",
    "plt.ylabel(\"Residuals\", size = \"20\")\n",
    "plt.savefig(\"residuals_kfold4_1_norm.png\")"
   ]
  },
  {
   "cell_type": "code",
   "execution_count": 29,
   "id": "98e1553e-5f16-40e5-a152-1fc7ebc308ab",
   "metadata": {},
   "outputs": [
    {
     "name": "stdout",
     "output_type": "stream",
     "text": [
      "Requirement already satisfied: openpyxl in /Users/eduard.hogea/miniforge3/envs/tensorflow/lib/python3.9/site-packages (3.0.10)\n",
      "Requirement already satisfied: et-xmlfile in /Users/eduard.hogea/miniforge3/envs/tensorflow/lib/python3.9/site-packages (from openpyxl) (1.1.0)\n"
     ]
    }
   ],
   "source": [
    "from openpyxl import Workbook\n",
    "!pip install openpyxl\n",
    "data_plot.to_excel(\"output_kfold4_1_norm.xlsx\")"
   ]
  },
  {
   "cell_type": "markdown",
   "id": "530ed0ff-fdb8-4601-adc2-cc497cbd33eb",
   "metadata": {},
   "source": [
    "# Fold 2"
   ]
  },
  {
   "cell_type": "code",
   "execution_count": 30,
   "id": "c6260ccf-effe-484a-b539-27a511950446",
   "metadata": {},
   "outputs": [],
   "source": [
    "f = ltn.Function.MLP(input_shapes=[8],output_shape=[3],hidden_layer_sizes=(100,100,50))"
   ]
  },
  {
   "cell_type": "code",
   "execution_count": 31,
   "id": "0d70a809-3485-44f1-8613-cd209c78a93c",
   "metadata": {},
   "outputs": [],
   "source": [
    "eq = ltn.Predicate.Lambda(\n",
    "    #lambda args: tf.exp(-0.05*tf.sqrt(tf.reduce_sum(tf.square(args[0]-args[1]),axis=1)))        \n",
    "    lambda args: 1/(1+(tf.reduce_sum(abs(args[0]-args[1]),axis=1)))\n",
    ")"
   ]
  },
  {
   "cell_type": "code",
   "execution_count": 32,
   "id": "762872b6-06a7-47e6-9e53-23d4be34457e",
   "metadata": {},
   "outputs": [],
   "source": [
    "Not = ltn.Wrapper_Connective(ltn.fuzzy_ops.Not_Std())\n",
    "And = ltn.Wrapper_Connective(ltn.fuzzy_ops.And_Prod())\n",
    "Or = ltn.Wrapper_Connective(ltn.fuzzy_ops.Or_ProbSum())\n",
    "Implies = ltn.Wrapper_Connective(ltn.fuzzy_ops.Implies_Reichenbach())\n",
    "Forall = ltn.Wrapper_Quantifier(ltn.fuzzy_ops.Aggreg_pMeanError(p=2),semantics=\"forall\")\n",
    "Exists = ltn.Wrapper_Quantifier(ltn.fuzzy_ops.Aggreg_pMean(p=2),semantics=\"exists\")"
   ]
  },
  {
   "cell_type": "code",
   "execution_count": 33,
   "id": "4cdbd3a9-1c63-4523-9cc8-6677865cd886",
   "metadata": {},
   "outputs": [],
   "source": [
    "@tf.function\n",
    "def axioms(x_data, y_data):\n",
    "    x = ltn.Variable(\"x\", x_data)\n",
    "    y = ltn.Variable(\"y\", y_data)\n",
    "    return Forall(ltn.diag(x,y), eq([f(x),y])).tensor"
   ]
  },
  {
   "cell_type": "code",
   "execution_count": 34,
   "id": "a94b9e94-f02d-4c83-89ce-904fc970b3dc",
   "metadata": {},
   "outputs": [
    {
     "name": "stdout",
     "output_type": "stream",
     "text": [
      "Initial sat level 0.65358\n"
     ]
    },
    {
     "name": "stderr",
     "output_type": "stream",
     "text": [
      "2022-06-16 13:31:35.898597: I tensorflow/core/grappler/optimizers/custom_graph_optimizer_registry.cc:112] Plugin optimizer for device_type GPU is enabled.\n"
     ]
    }
   ],
   "source": [
    "for x, y in ds_test_2:\n",
    "    print(\"Initial sat level %.5f\"%axioms(x,y))\n",
    "    break"
   ]
  },
  {
   "cell_type": "code",
   "execution_count": 35,
   "id": "d55a99ed-0110-4ce0-830c-d2ff1ce3d1d2",
   "metadata": {},
   "outputs": [],
   "source": [
    "metrics_dict = {\n",
    "    'train_sat': tf.keras.metrics.Mean(name='train_sat'),\n",
    "    'test_sat': tf.keras.metrics.Mean(name='test_sat'),\n",
    "    'train_accuracy': tf.keras.metrics.RootMeanSquaredError(name=\"train_accuracy\"),\n",
    "    'test_accuracy': tf.keras.metrics.RootMeanSquaredError(name=\"test_accuracy\")\n",
    "}"
   ]
  },
  {
   "cell_type": "code",
   "execution_count": 36,
   "id": "f91184bd-851b-4665-a663-4a6beb4d0686",
   "metadata": {},
   "outputs": [],
   "source": [
    "optimizer = tf.keras.optimizers.Adam(learning_rate=0.01)\n",
    "@tf.function\n",
    "def train_step(x, y):\n",
    "    # sat and update\n",
    "    with tf.GradientTape() as tape:\n",
    "        sat = axioms(x, y)\n",
    "        loss = 1.-sat\n",
    "    gradients = tape.gradient(loss, f.trainable_variables)\n",
    "    optimizer.apply_gradients(zip(gradients, f.trainable_variables))\n",
    "    sat = axioms(x, y)\n",
    "    metrics_dict['train_sat'](sat)\n",
    "    # accuracy\n",
    "    metrics_dict['train_accuracy'](y,f.model(x))\n",
    "    \n",
    "@tf.function\n",
    "def test_step(x, y):\n",
    "    # sat\n",
    "    sat = axioms(x, y)\n",
    "    metrics_dict['test_sat'](sat)\n",
    "    # accuracy\n",
    "    metrics_dict['test_accuracy'](y,f.model(x))"
   ]
  },
  {
   "cell_type": "code",
   "execution_count": 37,
   "id": "0b5731f5-9c15-493a-a2aa-9d47f1acd47d",
   "metadata": {},
   "outputs": [],
   "source": [
    "from collections import defaultdict\n",
    "\n",
    "def train(\n",
    "        epochs,\n",
    "        metrics_dict, \n",
    "        ds_train_2, \n",
    "        ds_test_2, \n",
    "        train_step, \n",
    "        test_step,\n",
    "        track_metrics=1,\n",
    "        csv_path=None,\n",
    "        scheduled_parameters=defaultdict(lambda : {})\n",
    "    ):\n",
    "    \"\"\"\n",
    "    Args:\n",
    "        epochs: int, number of training epochs.\n",
    "        metrics_dict: dict, {\"metrics_label\": tf.keras.metrics instance}.\n",
    "        ds_train: iterable dataset, e.g. using tf.data.Dataset.\n",
    "        ds_test: iterable dataset, e.g. using tf.data.Dataset.\n",
    "        train_step: callable function. the arguments passed to the function\n",
    "            are the itered elements of ds_train.\n",
    "        test_step: callable function. the arguments passed to the function\n",
    "            are the itered elements of ds_test.\n",
    "        csv_path: (optional) path to create a csv file, to save the metrics.\n",
    "        scheduled_parameters: (optional) a dictionary that returns kwargs for\n",
    "            the train_step and test_step functions, for each epoch.\n",
    "            Call using scheduled_parameters[epoch].\n",
    "    \"\"\"\n",
    "    template = \"Epoch {}\"\n",
    "    for metrics_label in metrics_dict.keys():\n",
    "        template += \", %s: {:.4f}\" % metrics_label\n",
    "    if csv_path is not None:\n",
    "        csv_file = open(csv_path,\"w+\")\n",
    "        headers = \",\".join([\"Epoch\"]+list(metrics_dict.keys()))\n",
    "        csv_template = \",\".join([\"{}\" for _ in range(len(metrics_dict)+1)])\n",
    "        csv_file.write(headers+\"\\n\")\n",
    "    \n",
    "    for epoch in range(epochs):\n",
    "        for metrics in metrics_dict.values():\n",
    "            metrics.reset_states()\n",
    "\n",
    "        for batch_elements in ds_train_2:\n",
    "            train_step(*batch_elements,**scheduled_parameters[epoch])\n",
    "        for batch_elements in ds_test_2:\n",
    "            test_step(*batch_elements,**scheduled_parameters[epoch])\n",
    "\n",
    "        metrics_results = [metrics.result() for metrics in metrics_dict.values()]\n",
    "        if epoch%track_metrics == 0:\n",
    "            print(template.format(epoch,*metrics_results))\n",
    "        if csv_path is not None:\n",
    "            csv_file.write(csv_template.format(epoch,*metrics_results)+\"\\n\")\n",
    "            csv_file.flush()\n",
    "    if csv_path is not None:\n",
    "        csv_file.close()"
   ]
  },
  {
   "cell_type": "code",
   "execution_count": 38,
   "id": "6e95c08e-2bdc-451d-a26a-22f65115aa18",
   "metadata": {},
   "outputs": [
    {
     "name": "stderr",
     "output_type": "stream",
     "text": [
      "2022-06-16 13:31:36.163576: I tensorflow/core/grappler/optimizers/custom_graph_optimizer_registry.cc:112] Plugin optimizer for device_type GPU is enabled.\n",
      "2022-06-16 13:31:36.623578: I tensorflow/core/grappler/optimizers/custom_graph_optimizer_registry.cc:112] Plugin optimizer for device_type GPU is enabled.\n",
      "2022-06-16 13:31:36.791606: I tensorflow/core/grappler/optimizers/custom_graph_optimizer_registry.cc:112] Plugin optimizer for device_type GPU is enabled.\n",
      "2022-06-16 13:31:36.901524: I tensorflow/core/grappler/optimizers/custom_graph_optimizer_registry.cc:112] Plugin optimizer for device_type GPU is enabled.\n"
     ]
    },
    {
     "name": "stdout",
     "output_type": "stream",
     "text": [
      "Epoch 0, train_sat: 0.7033, test_sat: 0.7642, train_accuracy: 0.2050, test_accuracy: 0.1617\n",
      "Epoch 200, train_sat: 0.9086, test_sat: 0.9141, train_accuracy: 0.0652, test_accuracy: 0.0627\n",
      "Epoch 400, train_sat: 0.9277, test_sat: 0.9276, train_accuracy: 0.0510, test_accuracy: 0.0477\n",
      "Epoch 600, train_sat: 0.9354, test_sat: 0.9345, train_accuracy: 0.0429, test_accuracy: 0.0463\n",
      "Epoch 800, train_sat: 0.9359, test_sat: 0.9381, train_accuracy: 0.0427, test_accuracy: 0.0389\n",
      "Epoch 1000, train_sat: 0.9536, test_sat: 0.9522, train_accuracy: 0.0303, test_accuracy: 0.0290\n",
      "Epoch 1200, train_sat: 0.9064, test_sat: 0.8487, train_accuracy: 0.0458, test_accuracy: 0.0735\n",
      "Epoch 1400, train_sat: 0.9602, test_sat: 0.9588, train_accuracy: 0.0242, test_accuracy: 0.0240\n"
     ]
    },
    {
     "ename": "KeyboardInterrupt",
     "evalue": "",
     "output_type": "error",
     "traceback": [
      "\u001b[0;31m---------------------------------------------------------------------------\u001b[0m",
      "\u001b[0;31mKeyboardInterrupt\u001b[0m                         Traceback (most recent call last)",
      "\u001b[0;32m/var/folders/9m/k3vyv4317cz56g6f681k4jnm0000gn/T/ipykernel_25857/1573337806.py\u001b[0m in \u001b[0;36m<module>\u001b[0;34m\u001b[0m\n\u001b[1;32m      1\u001b[0m \u001b[0mEPOCHS\u001b[0m \u001b[0;34m=\u001b[0m \u001b[0;36m5000\u001b[0m\u001b[0;34m\u001b[0m\u001b[0;34m\u001b[0m\u001b[0m\n\u001b[1;32m      2\u001b[0m \u001b[0;34m\u001b[0m\u001b[0m\n\u001b[0;32m----> 3\u001b[0;31m modelul2 = train(\n\u001b[0m\u001b[1;32m      4\u001b[0m     \u001b[0mEPOCHS\u001b[0m\u001b[0;34m,\u001b[0m\u001b[0;34m\u001b[0m\u001b[0;34m\u001b[0m\u001b[0m\n\u001b[1;32m      5\u001b[0m     \u001b[0mmetrics_dict\u001b[0m\u001b[0;34m,\u001b[0m\u001b[0;34m\u001b[0m\u001b[0;34m\u001b[0m\u001b[0m\n",
      "\u001b[0;32m/var/folders/9m/k3vyv4317cz56g6f681k4jnm0000gn/T/ipykernel_25857/2234549053.py\u001b[0m in \u001b[0;36mtrain\u001b[0;34m(epochs, metrics_dict, ds_train_2, ds_test_2, train_step, test_step, track_metrics, csv_path, scheduled_parameters)\u001b[0m\n\u001b[1;32m     41\u001b[0m \u001b[0;34m\u001b[0m\u001b[0m\n\u001b[1;32m     42\u001b[0m         \u001b[0;32mfor\u001b[0m \u001b[0mbatch_elements\u001b[0m \u001b[0;32min\u001b[0m \u001b[0mds_train_2\u001b[0m\u001b[0;34m:\u001b[0m\u001b[0;34m\u001b[0m\u001b[0;34m\u001b[0m\u001b[0m\n\u001b[0;32m---> 43\u001b[0;31m             \u001b[0mtrain_step\u001b[0m\u001b[0;34m(\u001b[0m\u001b[0;34m*\u001b[0m\u001b[0mbatch_elements\u001b[0m\u001b[0;34m,\u001b[0m\u001b[0;34m**\u001b[0m\u001b[0mscheduled_parameters\u001b[0m\u001b[0;34m[\u001b[0m\u001b[0mepoch\u001b[0m\u001b[0;34m]\u001b[0m\u001b[0;34m)\u001b[0m\u001b[0;34m\u001b[0m\u001b[0;34m\u001b[0m\u001b[0m\n\u001b[0m\u001b[1;32m     44\u001b[0m         \u001b[0;32mfor\u001b[0m \u001b[0mbatch_elements\u001b[0m \u001b[0;32min\u001b[0m \u001b[0mds_test_2\u001b[0m\u001b[0;34m:\u001b[0m\u001b[0;34m\u001b[0m\u001b[0;34m\u001b[0m\u001b[0m\n\u001b[1;32m     45\u001b[0m             \u001b[0mtest_step\u001b[0m\u001b[0;34m(\u001b[0m\u001b[0;34m*\u001b[0m\u001b[0mbatch_elements\u001b[0m\u001b[0;34m,\u001b[0m\u001b[0;34m**\u001b[0m\u001b[0mscheduled_parameters\u001b[0m\u001b[0;34m[\u001b[0m\u001b[0mepoch\u001b[0m\u001b[0;34m]\u001b[0m\u001b[0;34m)\u001b[0m\u001b[0;34m\u001b[0m\u001b[0;34m\u001b[0m\u001b[0m\n",
      "\u001b[0;32m~/miniforge3/envs/tensorflow/lib/python3.9/site-packages/tensorflow/python/util/traceback_utils.py\u001b[0m in \u001b[0;36merror_handler\u001b[0;34m(*args, **kwargs)\u001b[0m\n\u001b[1;32m    148\u001b[0m     \u001b[0mfiltered_tb\u001b[0m \u001b[0;34m=\u001b[0m \u001b[0;32mNone\u001b[0m\u001b[0;34m\u001b[0m\u001b[0;34m\u001b[0m\u001b[0m\n\u001b[1;32m    149\u001b[0m     \u001b[0;32mtry\u001b[0m\u001b[0;34m:\u001b[0m\u001b[0;34m\u001b[0m\u001b[0;34m\u001b[0m\u001b[0m\n\u001b[0;32m--> 150\u001b[0;31m       \u001b[0;32mreturn\u001b[0m \u001b[0mfn\u001b[0m\u001b[0;34m(\u001b[0m\u001b[0;34m*\u001b[0m\u001b[0margs\u001b[0m\u001b[0;34m,\u001b[0m \u001b[0;34m**\u001b[0m\u001b[0mkwargs\u001b[0m\u001b[0;34m)\u001b[0m\u001b[0;34m\u001b[0m\u001b[0;34m\u001b[0m\u001b[0m\n\u001b[0m\u001b[1;32m    151\u001b[0m     \u001b[0;32mexcept\u001b[0m \u001b[0mException\u001b[0m \u001b[0;32mas\u001b[0m \u001b[0me\u001b[0m\u001b[0;34m:\u001b[0m\u001b[0;34m\u001b[0m\u001b[0;34m\u001b[0m\u001b[0m\n\u001b[1;32m    152\u001b[0m       \u001b[0mfiltered_tb\u001b[0m \u001b[0;34m=\u001b[0m \u001b[0m_process_traceback_frames\u001b[0m\u001b[0;34m(\u001b[0m\u001b[0me\u001b[0m\u001b[0;34m.\u001b[0m\u001b[0m__traceback__\u001b[0m\u001b[0;34m)\u001b[0m\u001b[0;34m\u001b[0m\u001b[0;34m\u001b[0m\u001b[0m\n",
      "\u001b[0;32m~/miniforge3/envs/tensorflow/lib/python3.9/site-packages/tensorflow/python/eager/def_function.py\u001b[0m in \u001b[0;36m__call__\u001b[0;34m(self, *args, **kwds)\u001b[0m\n\u001b[1;32m    908\u001b[0m \u001b[0;34m\u001b[0m\u001b[0m\n\u001b[1;32m    909\u001b[0m       \u001b[0;32mwith\u001b[0m \u001b[0mOptionalXlaContext\u001b[0m\u001b[0;34m(\u001b[0m\u001b[0mself\u001b[0m\u001b[0;34m.\u001b[0m\u001b[0m_jit_compile\u001b[0m\u001b[0;34m)\u001b[0m\u001b[0;34m:\u001b[0m\u001b[0;34m\u001b[0m\u001b[0;34m\u001b[0m\u001b[0m\n\u001b[0;32m--> 910\u001b[0;31m         \u001b[0mresult\u001b[0m \u001b[0;34m=\u001b[0m \u001b[0mself\u001b[0m\u001b[0;34m.\u001b[0m\u001b[0m_call\u001b[0m\u001b[0;34m(\u001b[0m\u001b[0;34m*\u001b[0m\u001b[0margs\u001b[0m\u001b[0;34m,\u001b[0m \u001b[0;34m**\u001b[0m\u001b[0mkwds\u001b[0m\u001b[0;34m)\u001b[0m\u001b[0;34m\u001b[0m\u001b[0;34m\u001b[0m\u001b[0m\n\u001b[0m\u001b[1;32m    911\u001b[0m \u001b[0;34m\u001b[0m\u001b[0m\n\u001b[1;32m    912\u001b[0m       \u001b[0mnew_tracing_count\u001b[0m \u001b[0;34m=\u001b[0m \u001b[0mself\u001b[0m\u001b[0;34m.\u001b[0m\u001b[0mexperimental_get_tracing_count\u001b[0m\u001b[0;34m(\u001b[0m\u001b[0;34m)\u001b[0m\u001b[0;34m\u001b[0m\u001b[0;34m\u001b[0m\u001b[0m\n",
      "\u001b[0;32m~/miniforge3/envs/tensorflow/lib/python3.9/site-packages/tensorflow/python/eager/def_function.py\u001b[0m in \u001b[0;36m_call\u001b[0;34m(self, *args, **kwds)\u001b[0m\n\u001b[1;32m    940\u001b[0m       \u001b[0;31m# In this case we have created variables on the first call, so we run the\u001b[0m\u001b[0;34m\u001b[0m\u001b[0;34m\u001b[0m\u001b[0m\n\u001b[1;32m    941\u001b[0m       \u001b[0;31m# defunned version which is guaranteed to never create variables.\u001b[0m\u001b[0;34m\u001b[0m\u001b[0;34m\u001b[0m\u001b[0m\n\u001b[0;32m--> 942\u001b[0;31m       \u001b[0;32mreturn\u001b[0m \u001b[0mself\u001b[0m\u001b[0;34m.\u001b[0m\u001b[0m_stateless_fn\u001b[0m\u001b[0;34m(\u001b[0m\u001b[0;34m*\u001b[0m\u001b[0margs\u001b[0m\u001b[0;34m,\u001b[0m \u001b[0;34m**\u001b[0m\u001b[0mkwds\u001b[0m\u001b[0;34m)\u001b[0m  \u001b[0;31m# pylint: disable=not-callable\u001b[0m\u001b[0;34m\u001b[0m\u001b[0;34m\u001b[0m\u001b[0m\n\u001b[0m\u001b[1;32m    943\u001b[0m     \u001b[0;32melif\u001b[0m \u001b[0mself\u001b[0m\u001b[0;34m.\u001b[0m\u001b[0m_stateful_fn\u001b[0m \u001b[0;32mis\u001b[0m \u001b[0;32mnot\u001b[0m \u001b[0;32mNone\u001b[0m\u001b[0;34m:\u001b[0m\u001b[0;34m\u001b[0m\u001b[0;34m\u001b[0m\u001b[0m\n\u001b[1;32m    944\u001b[0m       \u001b[0;31m# Release the lock early so that multiple threads can perform the call\u001b[0m\u001b[0;34m\u001b[0m\u001b[0;34m\u001b[0m\u001b[0m\n",
      "\u001b[0;32m~/miniforge3/envs/tensorflow/lib/python3.9/site-packages/tensorflow/python/eager/function.py\u001b[0m in \u001b[0;36m__call__\u001b[0;34m(self, *args, **kwargs)\u001b[0m\n\u001b[1;32m   3128\u001b[0m       (graph_function,\n\u001b[1;32m   3129\u001b[0m        filtered_flat_args) = self._maybe_define_function(args, kwargs)\n\u001b[0;32m-> 3130\u001b[0;31m     return graph_function._call_flat(\n\u001b[0m\u001b[1;32m   3131\u001b[0m         filtered_flat_args, captured_inputs=graph_function.captured_inputs)  # pylint: disable=protected-access\n\u001b[1;32m   3132\u001b[0m \u001b[0;34m\u001b[0m\u001b[0m\n",
      "\u001b[0;32m~/miniforge3/envs/tensorflow/lib/python3.9/site-packages/tensorflow/python/eager/function.py\u001b[0m in \u001b[0;36m_call_flat\u001b[0;34m(self, args, captured_inputs, cancellation_manager)\u001b[0m\n\u001b[1;32m   1957\u001b[0m         and executing_eagerly):\n\u001b[1;32m   1958\u001b[0m       \u001b[0;31m# No tape is watching; skip to running the function.\u001b[0m\u001b[0;34m\u001b[0m\u001b[0;34m\u001b[0m\u001b[0m\n\u001b[0;32m-> 1959\u001b[0;31m       return self._build_call_outputs(self._inference_function.call(\n\u001b[0m\u001b[1;32m   1960\u001b[0m           ctx, args, cancellation_manager=cancellation_manager))\n\u001b[1;32m   1961\u001b[0m     forward_backward = self._select_forward_and_backward_functions(\n",
      "\u001b[0;32m~/miniforge3/envs/tensorflow/lib/python3.9/site-packages/tensorflow/python/eager/function.py\u001b[0m in \u001b[0;36mcall\u001b[0;34m(self, ctx, args, cancellation_manager)\u001b[0m\n\u001b[1;32m    596\u001b[0m       \u001b[0;32mwith\u001b[0m \u001b[0m_InterpolateFunctionError\u001b[0m\u001b[0;34m(\u001b[0m\u001b[0mself\u001b[0m\u001b[0;34m)\u001b[0m\u001b[0;34m:\u001b[0m\u001b[0;34m\u001b[0m\u001b[0;34m\u001b[0m\u001b[0m\n\u001b[1;32m    597\u001b[0m         \u001b[0;32mif\u001b[0m \u001b[0mcancellation_manager\u001b[0m \u001b[0;32mis\u001b[0m \u001b[0;32mNone\u001b[0m\u001b[0;34m:\u001b[0m\u001b[0;34m\u001b[0m\u001b[0;34m\u001b[0m\u001b[0m\n\u001b[0;32m--> 598\u001b[0;31m           outputs = execute.execute(\n\u001b[0m\u001b[1;32m    599\u001b[0m               \u001b[0mstr\u001b[0m\u001b[0;34m(\u001b[0m\u001b[0mself\u001b[0m\u001b[0;34m.\u001b[0m\u001b[0msignature\u001b[0m\u001b[0;34m.\u001b[0m\u001b[0mname\u001b[0m\u001b[0;34m)\u001b[0m\u001b[0;34m,\u001b[0m\u001b[0;34m\u001b[0m\u001b[0;34m\u001b[0m\u001b[0m\n\u001b[1;32m    600\u001b[0m               \u001b[0mnum_outputs\u001b[0m\u001b[0;34m=\u001b[0m\u001b[0mself\u001b[0m\u001b[0;34m.\u001b[0m\u001b[0m_num_outputs\u001b[0m\u001b[0;34m,\u001b[0m\u001b[0;34m\u001b[0m\u001b[0;34m\u001b[0m\u001b[0m\n",
      "\u001b[0;32m~/miniforge3/envs/tensorflow/lib/python3.9/site-packages/tensorflow/python/eager/execute.py\u001b[0m in \u001b[0;36mquick_execute\u001b[0;34m(op_name, num_outputs, inputs, attrs, ctx, name)\u001b[0m\n\u001b[1;32m     56\u001b[0m   \u001b[0;32mtry\u001b[0m\u001b[0;34m:\u001b[0m\u001b[0;34m\u001b[0m\u001b[0;34m\u001b[0m\u001b[0m\n\u001b[1;32m     57\u001b[0m     \u001b[0mctx\u001b[0m\u001b[0;34m.\u001b[0m\u001b[0mensure_initialized\u001b[0m\u001b[0;34m(\u001b[0m\u001b[0;34m)\u001b[0m\u001b[0;34m\u001b[0m\u001b[0;34m\u001b[0m\u001b[0m\n\u001b[0;32m---> 58\u001b[0;31m     tensors = pywrap_tfe.TFE_Py_Execute(ctx._handle, device_name, op_name,\n\u001b[0m\u001b[1;32m     59\u001b[0m                                         inputs, attrs, num_outputs)\n\u001b[1;32m     60\u001b[0m   \u001b[0;32mexcept\u001b[0m \u001b[0mcore\u001b[0m\u001b[0;34m.\u001b[0m\u001b[0m_NotOkStatusException\u001b[0m \u001b[0;32mas\u001b[0m \u001b[0me\u001b[0m\u001b[0;34m:\u001b[0m\u001b[0;34m\u001b[0m\u001b[0;34m\u001b[0m\u001b[0m\n",
      "\u001b[0;31mKeyboardInterrupt\u001b[0m: "
     ]
    }
   ],
   "source": [
    "EPOCHS = 5000\n",
    "\n",
    "modelul2 = train(\n",
    "    EPOCHS,\n",
    "    metrics_dict,\n",
    "    ds_train_2,\n",
    "    ds_test_2,\n",
    "    train_step,\n",
    "    test_step,\n",
    "    csv_path=\"regression_results_kfold4_2_norm.csv\",\n",
    "    track_metrics=200\n",
    ")"
   ]
  },
  {
   "cell_type": "code",
   "execution_count": null,
   "id": "e458aab5-3d7a-4d93-ba9a-e714c903a3eb",
   "metadata": {},
   "outputs": [],
   "source": [
    "fig, axs = plt.subplots(1,2,figsize=(12,6))\n",
    "ax = axs[0]\n",
    "data = {'y_pred':[],'y_true':[]}\n",
    "for x,y in ds_train_2:\n",
    "    data['y_pred'].extend(f.model(x)[:,2].numpy())\n",
    "    data['y_true'].extend(y[:,2].numpy())\n",
    "df = pd.DataFrame(data,columns=['y_pred','y_true'])\n",
    "ax.set_xlim(0,80)\n",
    "ax.set_ylim(0,80)\n",
    "sns.regplot(\"y_true\",\"y_pred\",data=df,ax=ax,truncate=False,\n",
    "            scatter_kws={'alpha':0.5},line_kws={'color':'r','alpha':0.3,'linestyle':'--','linewidth':2})\n",
    "ax.plot([0,100],[0,100],color=\"gray\",linestyle=\"--\")\n",
    "ax.set_xlabel(\"Actual y values\")\n",
    "ax.set_ylabel(\"Fitted y values\")\n",
    "ax.set_title(\"Training Data\")\n",
    "\n",
    "ax = axs[1]\n",
    "data = {'y_pred':[],'y_true':[]}\n",
    "for x,y in ds_test_2:\n",
    "    data['y_pred'].extend(f.model(x)[:,2].numpy())\n",
    "    data['y_true'].extend(y[:,2].numpy())\n",
    "df = pd.DataFrame(data,columns=['y_pred','y_true'])\n",
    "ax.set_ylim(0,80)\n",
    "ax.set_xlim(0,80)\n",
    "sns.regplot(\"y_true\",\"y_pred\",data=df,ax=ax,truncate=False,\n",
    "            scatter_kws={'alpha':0.5},line_kws={'color':'r','alpha':0.3,'linestyle':'--','linewidth':2})\n",
    "ax.plot([0,100],[0,100],color=\"gray\",linestyle=\"--\")\n",
    "ax.set_xlabel(\"Actual y values\")\n",
    "ax.set_ylabel(\"Fitted y values\")\n",
    "ax.set_title(\"Test Data\")\n",
    "plt.tight_layout()\n",
    "plt.savefig(\"LTN_regresie_kfold4_2_1_norm.png\")"
   ]
  },
  {
   "cell_type": "code",
   "execution_count": null,
   "id": "17debd27-cde9-43ee-a0fa-1f67411dbea7",
   "metadata": {},
   "outputs": [],
   "source": [
    "plt.figure(figsize=(10,10))\n",
    "plt.scatter(df['y_true'], df['y_pred'], c='crimson')\n",
    "plt.yscale('log')\n",
    "plt.xscale('log')\n",
    "\n",
    "p1 = max(max(df['y_pred']), max(df['y_true']))\n",
    "p2 = min(min(df['y_pred']), min(df['y_true']))\n",
    "plt.plot([p1, p2], [p1, p2], 'b-')\n",
    "plt.xlabel('True Values', fontsize=15)\n",
    "plt.ylabel('Predictions', fontsize=15)\n",
    "plt.axis('equal')\n",
    "plt.savefig(\"LTN_regresie_kfold4_2_2_norm.png\")\n",
    "plt.show()"
   ]
  },
  {
   "cell_type": "code",
   "execution_count": null,
   "id": "48807abe-e891-4fd6-9994-9b3406bf91e5",
   "metadata": {},
   "outputs": [],
   "source": [
    "df = pd.read_csv(\"/Users/eduard.hogea/Documents/Facultate/Internship/explorare/KNN99---LTN/datesets/Cantilever/date_test_corectate.csv\", on_bad_lines='skip')"
   ]
  },
  {
   "cell_type": "code",
   "execution_count": null,
   "id": "1e0ba9d6-0e75-426a-82fd-1ba5491d9ec9",
   "metadata": {},
   "outputs": [],
   "source": [
    "df = df.sample(frac=1) #shuffle\n",
    "x = df[['Mod 1', 'Mod 2','Mod 3','Mod 4','Mod 5','Mod 6','Mod 7','Mod 8']]\n",
    "y = df[['Severitate def', 'Severitate inc.','Pozitie']]\n",
    "batch_size= 32\n",
    "ds_test = tf.data.Dataset.from_tensor_slices((x,y)).batch(batch_size)\n",
    "\n",
    "data = {'y_pred':[],'y_true':[],'def':[],'inc':[],'Mod 1':[],'Mod 2':[],'Mod 3':[],'Mod 4':[],'Mod 5':[],'Mod 6':[],'Mod 7':[],'Mod 8':[]}\n",
    "for x,y in ds_test:\n",
    "    data['y_pred'].extend(f.model(x)[:,2].numpy())\n",
    "    data['y_true'].extend(y[:,2].numpy())\n",
    "    data['def'].extend(y[:,0].numpy())\n",
    "    data['inc'].extend(y[:,1].numpy())\n",
    "    data['Mod 1'].extend(x[:,0].numpy())\n",
    "    data['Mod 2'].extend(x[:,1].numpy())\n",
    "    data['Mod 3'].extend(x[:,2].numpy())\n",
    "    data['Mod 4'].extend(x[:,3].numpy())\n",
    "    data['Mod 5'].extend(x[:,4].numpy())\n",
    "    data['Mod 6'].extend(x[:,5].numpy())\n",
    "    data['Mod 7'].extend(x[:,6].numpy())\n",
    "    data['Mod 8'].extend(x[:,7].numpy())\n",
    "#'Severitate def', 'Severitate inc.'"
   ]
  },
  {
   "cell_type": "code",
   "execution_count": null,
   "id": "0069fe39-3f46-433f-be4c-c8ba27bb838a",
   "metadata": {},
   "outputs": [],
   "source": [
    "data_plot = pd.DataFrame(data,columns=['y_pred','y_true','def','inc','Mod 1', 'Mod 2','Mod 3','Mod 4','Mod 5','Mod 6','Mod 7','Mod 8'])"
   ]
  },
  {
   "cell_type": "code",
   "execution_count": null,
   "id": "fe297431-0f4f-4bda-865a-2f44073eb496",
   "metadata": {},
   "outputs": [],
   "source": [
    "dif =data_plot[\"y_true\"] - data_plot[\"y_pred\"]"
   ]
  },
  {
   "cell_type": "code",
   "execution_count": null,
   "id": "2a80a368-5695-4238-8be7-ef528abb3840",
   "metadata": {},
   "outputs": [],
   "source": [
    "plt.stem(dif)\n",
    "plt.xlabel(\"Predicted values\", size = \"20\")\n",
    "plt.ylabel(\"Residuals\", size = \"20\")\n",
    "plt.savefig(\"residuals_kfold4_2_norm.png\")"
   ]
  },
  {
   "cell_type": "code",
   "execution_count": null,
   "id": "b8672c3d-f54d-4c28-925e-a310efc4e73e",
   "metadata": {},
   "outputs": [],
   "source": [
    "from openpyxl import Workbook\n",
    "!pip install openpyxl\n",
    "data_plot.to_excel(\"output_kfold4_2_norm.xlsx\")"
   ]
  },
  {
   "cell_type": "markdown",
   "id": "e35949f8-ed79-499b-9cae-e71159df78fa",
   "metadata": {},
   "source": [
    "# Fold 3"
   ]
  },
  {
   "cell_type": "code",
   "execution_count": null,
   "id": "ef931bec-8761-4192-9c2e-d691931ad2d5",
   "metadata": {},
   "outputs": [],
   "source": [
    "f = ltn.Function.MLP(input_shapes=[8],output_shape=[3],hidden_layer_sizes=(100,100,50))"
   ]
  },
  {
   "cell_type": "code",
   "execution_count": null,
   "id": "693ff0f3-3b0f-4ee9-b79d-be3805ddd373",
   "metadata": {},
   "outputs": [],
   "source": [
    "eq = ltn.Predicate.Lambda(\n",
    "    #lambda args: tf.exp(-0.05*tf.sqrt(tf.reduce_sum(tf.square(args[0]-args[1]),axis=1)))        \n",
    "    lambda args: 1/(1+(tf.reduce_sum(abs(args[0]-args[1]),axis=1)))\n",
    ")"
   ]
  },
  {
   "cell_type": "code",
   "execution_count": null,
   "id": "ed38a9db-2a02-4bd7-844c-2583dfd60aa2",
   "metadata": {},
   "outputs": [],
   "source": [
    "Not = ltn.Wrapper_Connective(ltn.fuzzy_ops.Not_Std())\n",
    "And = ltn.Wrapper_Connective(ltn.fuzzy_ops.And_Prod())\n",
    "Or = ltn.Wrapper_Connective(ltn.fuzzy_ops.Or_ProbSum())\n",
    "Implies = ltn.Wrapper_Connective(ltn.fuzzy_ops.Implies_Reichenbach())\n",
    "Forall = ltn.Wrapper_Quantifier(ltn.fuzzy_ops.Aggreg_pMeanError(p=2),semantics=\"forall\")\n",
    "Exists = ltn.Wrapper_Quantifier(ltn.fuzzy_ops.Aggreg_pMean(p=2),semantics=\"exists\")"
   ]
  },
  {
   "cell_type": "code",
   "execution_count": null,
   "id": "7a16f2bf-0312-4bd3-8a65-14f1707d5218",
   "metadata": {},
   "outputs": [],
   "source": [
    "@tf.function\n",
    "def axioms(x_data, y_data):\n",
    "    x = ltn.Variable(\"x\", x_data)\n",
    "    y = ltn.Variable(\"y\", y_data)\n",
    "    return Forall(ltn.diag(x,y), eq([f(x),y])).tensor"
   ]
  },
  {
   "cell_type": "code",
   "execution_count": null,
   "id": "62a58c8f-1df9-45fd-b067-9b3b658cbc90",
   "metadata": {},
   "outputs": [],
   "source": [
    "for x, y in ds_test_3:\n",
    "    print(\"Initial sat level %.5f\"%axioms(x,y))\n",
    "    break"
   ]
  },
  {
   "cell_type": "code",
   "execution_count": null,
   "id": "cd07edca-4904-4d39-bdc5-9f3608e0f034",
   "metadata": {},
   "outputs": [],
   "source": [
    "metrics_dict = {\n",
    "    'train_sat': tf.keras.metrics.Mean(name='train_sat'),\n",
    "    'test_sat': tf.keras.metrics.Mean(name='test_sat'),\n",
    "    'train_accuracy': tf.keras.metrics.RootMeanSquaredError(name=\"train_accuracy\"),\n",
    "    'test_accuracy': tf.keras.metrics.RootMeanSquaredError(name=\"test_accuracy\")\n",
    "}"
   ]
  },
  {
   "cell_type": "code",
   "execution_count": null,
   "id": "276cdf01-e127-4141-85a5-e01910b3acf0",
   "metadata": {},
   "outputs": [],
   "source": [
    "optimizer = tf.keras.optimizers.Adam(learning_rate=0.01)\n",
    "@tf.function\n",
    "def train_step(x, y):\n",
    "    # sat and update\n",
    "    with tf.GradientTape() as tape:\n",
    "        sat = axioms(x, y)\n",
    "        loss = 1.-sat\n",
    "    gradients = tape.gradient(loss, f.trainable_variables)\n",
    "    optimizer.apply_gradients(zip(gradients, f.trainable_variables))\n",
    "    sat = axioms(x, y)\n",
    "    metrics_dict['train_sat'](sat)\n",
    "    # accuracy\n",
    "    metrics_dict['train_accuracy'](y,f.model(x))\n",
    "    \n",
    "@tf.function\n",
    "def test_step(x, y):\n",
    "    # sat\n",
    "    sat = axioms(x, y)\n",
    "    metrics_dict['test_sat'](sat)\n",
    "    # accuracy\n",
    "    metrics_dict['test_accuracy'](y,f.model(x))"
   ]
  },
  {
   "cell_type": "code",
   "execution_count": null,
   "id": "715c7652-86b9-4bc7-905e-6124c3c79fd4",
   "metadata": {},
   "outputs": [],
   "source": [
    "from collections import defaultdict\n",
    "\n",
    "def train(\n",
    "        epochs,\n",
    "        metrics_dict, \n",
    "        ds_train_3, \n",
    "        ds_test_3, \n",
    "        train_step, \n",
    "        test_step,\n",
    "        track_metrics=1,\n",
    "        csv_path=None,\n",
    "        scheduled_parameters=defaultdict(lambda : {})\n",
    "    ):\n",
    "    \"\"\"\n",
    "    Args:\n",
    "        epochs: int, number of training epochs.\n",
    "        metrics_dict: dict, {\"metrics_label\": tf.keras.metrics instance}.\n",
    "        ds_train: iterable dataset, e.g. using tf.data.Dataset.\n",
    "        ds_test: iterable dataset, e.g. using tf.data.Dataset.\n",
    "        train_step: callable function. the arguments passed to the function\n",
    "            are the itered elements of ds_train.\n",
    "        test_step: callable function. the arguments passed to the function\n",
    "            are the itered elements of ds_test.\n",
    "        csv_path: (optional) path to create a csv file, to save the metrics.\n",
    "        scheduled_parameters: (optional) a dictionary that returns kwargs for\n",
    "            the train_step and test_step functions, for each epoch.\n",
    "            Call using scheduled_parameters[epoch].\n",
    "    \"\"\"\n",
    "    template = \"Epoch {}\"\n",
    "    for metrics_label in metrics_dict.keys():\n",
    "        template += \", %s: {:.4f}\" % metrics_label\n",
    "    if csv_path is not None:\n",
    "        csv_file = open(csv_path,\"w+\")\n",
    "        headers = \",\".join([\"Epoch\"]+list(metrics_dict.keys()))\n",
    "        csv_template = \",\".join([\"{}\" for _ in range(len(metrics_dict)+1)])\n",
    "        csv_file.write(headers+\"\\n\")\n",
    "    \n",
    "    for epoch in range(epochs):\n",
    "        for metrics in metrics_dict.values():\n",
    "            metrics.reset_states()\n",
    "\n",
    "        for batch_elements in ds_train_3:\n",
    "            train_step(*batch_elements,**scheduled_parameters[epoch])\n",
    "        for batch_elements in ds_test_3:\n",
    "            test_step(*batch_elements,**scheduled_parameters[epoch])\n",
    "\n",
    "        metrics_results = [metrics.result() for metrics in metrics_dict.values()]\n",
    "        if epoch%track_metrics == 0:\n",
    "            print(template.format(epoch,*metrics_results))\n",
    "        if csv_path is not None:\n",
    "            csv_file.write(csv_template.format(epoch,*metrics_results)+\"\\n\")\n",
    "            csv_file.flush()\n",
    "    if csv_path is not None:\n",
    "        csv_file.close()"
   ]
  },
  {
   "cell_type": "code",
   "execution_count": null,
   "id": "da22e9c6-6581-4537-bf1f-83c23da969e9",
   "metadata": {},
   "outputs": [],
   "source": [
    "EPOCHS = 5000\n",
    "\n",
    "modelul3 = train(\n",
    "    EPOCHS,\n",
    "    metrics_dict,\n",
    "    ds_train_3,\n",
    "    ds_test_3,\n",
    "    train_step,\n",
    "    test_step,\n",
    "    csv_path=\"regression_results_kfold4_3_norm.csv\",\n",
    "    track_metrics=200\n",
    ")"
   ]
  },
  {
   "cell_type": "code",
   "execution_count": null,
   "id": "45816c63-3b0d-4d28-b9f3-bea385b69426",
   "metadata": {},
   "outputs": [],
   "source": [
    "fig, axs = plt.subplots(1,2,figsize=(12,6))\n",
    "ax = axs[0]\n",
    "data = {'y_pred':[],'y_true':[]}\n",
    "for x,y in ds_train_3:\n",
    "    data['y_pred'].extend(f.model(x)[:,2].numpy())\n",
    "    data['y_true'].extend(y[:,2].numpy())\n",
    "df = pd.DataFrame(data,columns=['y_pred','y_true'])\n",
    "ax.set_xlim(0,80)\n",
    "ax.set_ylim(0,80)\n",
    "sns.regplot(\"y_true\",\"y_pred\",data=df,ax=ax,truncate=False,\n",
    "            scatter_kws={'alpha':0.5},line_kws={'color':'r','alpha':0.3,'linestyle':'--','linewidth':2})\n",
    "ax.plot([0,100],[0,100],color=\"gray\",linestyle=\"--\")\n",
    "ax.set_xlabel(\"Actual y values\")\n",
    "ax.set_ylabel(\"Fitted y values\")\n",
    "ax.set_title(\"Training Data\")\n",
    "\n",
    "ax = axs[1]\n",
    "data = {'y_pred':[],'y_true':[]}\n",
    "for x,y in ds_test_3:\n",
    "    data['y_pred'].extend(f.model(x)[:,2].numpy())\n",
    "    data['y_true'].extend(y[:,2].numpy())\n",
    "df = pd.DataFrame(data,columns=['y_pred','y_true'])\n",
    "ax.set_ylim(0,80)\n",
    "ax.set_xlim(0,80)\n",
    "sns.regplot(\"y_true\",\"y_pred\",data=df,ax=ax,truncate=False,\n",
    "            scatter_kws={'alpha':0.5},line_kws={'color':'r','alpha':0.3,'linestyle':'--','linewidth':2})\n",
    "ax.plot([0,100],[0,100],color=\"gray\",linestyle=\"--\")\n",
    "ax.set_xlabel(\"Actual y values\")\n",
    "ax.set_ylabel(\"Fitted y values\")\n",
    "ax.set_title(\"Test Data\")\n",
    "plt.tight_layout()\n",
    "plt.savefig(\"LTN_regresie_kfold4_3_1_norm.png\")"
   ]
  },
  {
   "cell_type": "code",
   "execution_count": null,
   "id": "5aaaab0c-abc0-4486-b1cb-a9ee3c46a793",
   "metadata": {},
   "outputs": [],
   "source": [
    "plt.figure(figsize=(10,10))\n",
    "plt.scatter(df['y_true'], df['y_pred'], c='crimson')\n",
    "plt.yscale('log')\n",
    "plt.xscale('log')\n",
    "\n",
    "p1 = max(max(df['y_pred']), max(df['y_true']))\n",
    "p2 = min(min(df['y_pred']), min(df['y_true']))\n",
    "plt.plot([p1, p2], [p1, p2], 'b-')\n",
    "plt.xlabel('True Values', fontsize=15)\n",
    "plt.ylabel('Predictions', fontsize=15)\n",
    "plt.axis('equal')\n",
    "plt.savefig(\"LTN_regresie_kfold4_3_2_norm.png\")\n",
    "plt.show()"
   ]
  },
  {
   "cell_type": "code",
   "execution_count": null,
   "id": "4c5ead5e-f646-4dd1-b758-3b821026d9d2",
   "metadata": {},
   "outputs": [],
   "source": [
    "df = pd.read_csv(\"/Users/eduard.hogea/Documents/Facultate/Internship/explorare/KNN99---LTN/datesets/Cantilever/date_test_corectate.csv\", on_bad_lines='skip')"
   ]
  },
  {
   "cell_type": "code",
   "execution_count": null,
   "id": "46679b8a-71c9-4d54-8793-ce8b76197d27",
   "metadata": {},
   "outputs": [],
   "source": [
    "df = df.sample(frac=1) #shuffle\n",
    "x = df[['Mod 1', 'Mod 2','Mod 3','Mod 4','Mod 5','Mod 6','Mod 7','Mod 8']]\n",
    "y = df[['Severitate def', 'Severitate inc.','Pozitie']]\n",
    "batch_size= 32\n",
    "ds_test = tf.data.Dataset.from_tensor_slices((x,y)).batch(batch_size)\n",
    "\n",
    "data = {'y_pred':[],'y_true':[],'def':[],'inc':[],'Mod 1':[],'Mod 2':[],'Mod 3':[],'Mod 4':[],'Mod 5':[],'Mod 6':[],'Mod 7':[],'Mod 8':[]}\n",
    "for x,y in ds_test:\n",
    "    data['y_pred'].extend(f.model(x)[:,2].numpy())\n",
    "    data['y_true'].extend(y[:,2].numpy())\n",
    "    data['def'].extend(y[:,0].numpy())\n",
    "    data['inc'].extend(y[:,1].numpy())\n",
    "    data['Mod 1'].extend(x[:,0].numpy())\n",
    "    data['Mod 2'].extend(x[:,1].numpy())\n",
    "    data['Mod 3'].extend(x[:,2].numpy())\n",
    "    data['Mod 4'].extend(x[:,3].numpy())\n",
    "    data['Mod 5'].extend(x[:,4].numpy())\n",
    "    data['Mod 6'].extend(x[:,5].numpy())\n",
    "    data['Mod 7'].extend(x[:,6].numpy())\n",
    "    data['Mod 8'].extend(x[:,7].numpy())\n",
    "#'Severitate def', 'Severitate inc.'"
   ]
  },
  {
   "cell_type": "code",
   "execution_count": null,
   "id": "762d1a81-56c2-4024-b5cb-c56d2dde5e72",
   "metadata": {},
   "outputs": [],
   "source": [
    "data_plot = pd.DataFrame(data,columns=['y_pred','y_true','def','inc','Mod 1', 'Mod 2','Mod 3','Mod 4','Mod 5','Mod 6','Mod 7','Mod 8'])"
   ]
  },
  {
   "cell_type": "code",
   "execution_count": null,
   "id": "e27934f0-76c4-42ec-8c50-c27633c2bdc7",
   "metadata": {},
   "outputs": [],
   "source": [
    "dif =data_plot[\"y_true\"] - data_plot[\"y_pred\"]"
   ]
  },
  {
   "cell_type": "code",
   "execution_count": null,
   "id": "c24532a3-63a6-4296-a338-d8e71d8b4dbc",
   "metadata": {},
   "outputs": [],
   "source": [
    "plt.stem(dif)\n",
    "plt.xlabel(\"Predicted values\", size = \"20\")\n",
    "plt.ylabel(\"Residuals\", size = \"20\")\n",
    "plt.savefig(\"residuals_kfold4_3_norm.png\")"
   ]
  },
  {
   "cell_type": "code",
   "execution_count": null,
   "id": "77623335-7cac-4a76-8a36-a9a97f9c9c06",
   "metadata": {},
   "outputs": [],
   "source": [
    "from openpyxl import Workbook\n",
    "!pip install openpyxl\n",
    "data_plot.to_excel(\"output_kfold4_3_norm.xlsx\")"
   ]
  },
  {
   "cell_type": "markdown",
   "id": "d77dcd07-ed23-4aa1-bcae-b077a8573949",
   "metadata": {},
   "source": [
    "# Fold 4"
   ]
  },
  {
   "cell_type": "code",
   "execution_count": null,
   "id": "81f547d9-1588-4be7-94a5-133ba99d367a",
   "metadata": {},
   "outputs": [],
   "source": []
  },
  {
   "cell_type": "code",
   "execution_count": null,
   "id": "1c924dd6-6a92-42ea-a88c-a7e69be3791a",
   "metadata": {},
   "outputs": [],
   "source": [
    "f = ltn.Function.MLP(input_shapes=[8],output_shape=[3],hidden_layer_sizes=(100,100,50))"
   ]
  },
  {
   "cell_type": "code",
   "execution_count": null,
   "id": "510e2cc5-1a2f-4624-a8bd-bc571f982ddc",
   "metadata": {},
   "outputs": [],
   "source": [
    "eq = ltn.Predicate.Lambda(\n",
    "    #lambda args: tf.exp(-0.05*tf.sqrt(tf.reduce_sum(tf.square(args[0]-args[1]),axis=1)))        \n",
    "    lambda args: 1/(1+(tf.reduce_sum(abs(args[0]-args[1]),axis=1)))\n",
    ")"
   ]
  },
  {
   "cell_type": "code",
   "execution_count": null,
   "id": "24515692-4ca2-4e93-8f42-f3eb234a2d72",
   "metadata": {},
   "outputs": [],
   "source": [
    "Not = ltn.Wrapper_Connective(ltn.fuzzy_ops.Not_Std())\n",
    "And = ltn.Wrapper_Connective(ltn.fuzzy_ops.And_Prod())\n",
    "Or = ltn.Wrapper_Connective(ltn.fuzzy_ops.Or_ProbSum())\n",
    "Implies = ltn.Wrapper_Connective(ltn.fuzzy_ops.Implies_Reichenbach())\n",
    "Forall = ltn.Wrapper_Quantifier(ltn.fuzzy_ops.Aggreg_pMeanError(p=2),semantics=\"forall\")\n",
    "Exists = ltn.Wrapper_Quantifier(ltn.fuzzy_ops.Aggreg_pMean(p=2),semantics=\"exists\")"
   ]
  },
  {
   "cell_type": "code",
   "execution_count": null,
   "id": "2c00745e-6114-4f9e-91ee-28acf035ebe0",
   "metadata": {},
   "outputs": [],
   "source": [
    "@tf.function\n",
    "def axioms(x_data, y_data):\n",
    "    x = ltn.Variable(\"x\", x_data)\n",
    "    y = ltn.Variable(\"y\", y_data)\n",
    "    return Forall(ltn.diag(x,y), eq([f(x),y])).tensor"
   ]
  },
  {
   "cell_type": "code",
   "execution_count": null,
   "id": "cf68bdba-3702-4707-9f75-8873d72c58a8",
   "metadata": {},
   "outputs": [],
   "source": [
    "for x, y in ds_test_4:\n",
    "    print(\"Initial sat level %.5f\"%axioms(x,y))\n",
    "    break"
   ]
  },
  {
   "cell_type": "code",
   "execution_count": null,
   "id": "c065cb8c-8665-424b-a11a-695e0b9d4935",
   "metadata": {},
   "outputs": [],
   "source": [
    "metrics_dict = {\n",
    "    'train_sat': tf.keras.metrics.Mean(name='train_sat'),\n",
    "    'test_sat': tf.keras.metrics.Mean(name='test_sat'),\n",
    "    'train_accuracy': tf.keras.metrics.RootMeanSquaredError(name=\"train_accuracy\"),\n",
    "    'test_accuracy': tf.keras.metrics.RootMeanSquaredError(name=\"test_accuracy\")\n",
    "}"
   ]
  },
  {
   "cell_type": "code",
   "execution_count": null,
   "id": "7e16bbd2-58a8-436f-a887-4b9d81a20070",
   "metadata": {},
   "outputs": [],
   "source": [
    "optimizer = tf.keras.optimizers.Adam(learning_rate=0.01)\n",
    "@tf.function\n",
    "def train_step(x, y):\n",
    "    # sat and update\n",
    "    with tf.GradientTape() as tape:\n",
    "        sat = axioms(x, y)\n",
    "        loss = 1.-sat\n",
    "    gradients = tape.gradient(loss, f.trainable_variables)\n",
    "    optimizer.apply_gradients(zip(gradients, f.trainable_variables))\n",
    "    sat = axioms(x, y)\n",
    "    metrics_dict['train_sat'](sat)\n",
    "    # accuracy\n",
    "    metrics_dict['train_accuracy'](y,f.model(x))\n",
    "    \n",
    "@tf.function\n",
    "def test_step(x, y):\n",
    "    # sat\n",
    "    sat = axioms(x, y)\n",
    "    metrics_dict['test_sat'](sat)\n",
    "    # accuracy\n",
    "    metrics_dict['test_accuracy'](y,f.model(x))"
   ]
  },
  {
   "cell_type": "code",
   "execution_count": null,
   "id": "132e5756-3afe-495b-9223-17fc3d4551fe",
   "metadata": {},
   "outputs": [],
   "source": [
    "from collections import defaultdict\n",
    "\n",
    "def train(\n",
    "        epochs,\n",
    "        metrics_dict, \n",
    "        ds_train_4, \n",
    "        ds_test_4, \n",
    "        train_step, \n",
    "        test_step,\n",
    "        track_metrics=1,\n",
    "        csv_path=None,\n",
    "        scheduled_parameters=defaultdict(lambda : {})\n",
    "    ):\n",
    "    \"\"\"\n",
    "    Args:\n",
    "        epochs: int, number of training epochs.\n",
    "        metrics_dict: dict, {\"metrics_label\": tf.keras.metrics instance}.\n",
    "        ds_train: iterable dataset, e.g. using tf.data.Dataset.\n",
    "        ds_test: iterable dataset, e.g. using tf.data.Dataset.\n",
    "        train_step: callable function. the arguments passed to the function\n",
    "            are the itered elements of ds_train.\n",
    "        test_step: callable function. the arguments passed to the function\n",
    "            are the itered elements of ds_test.\n",
    "        csv_path: (optional) path to create a csv file, to save the metrics.\n",
    "        scheduled_parameters: (optional) a dictionary that returns kwargs for\n",
    "            the train_step and test_step functions, for each epoch.\n",
    "            Call using scheduled_parameters[epoch].\n",
    "    \"\"\"\n",
    "    template = \"Epoch {}\"\n",
    "    for metrics_label in metrics_dict.keys():\n",
    "        template += \", %s: {:.4f}\" % metrics_label\n",
    "    if csv_path is not None:\n",
    "        csv_file = open(csv_path,\"w+\")\n",
    "        headers = \",\".join([\"Epoch\"]+list(metrics_dict.keys()))\n",
    "        csv_template = \",\".join([\"{}\" for _ in range(len(metrics_dict)+1)])\n",
    "        csv_file.write(headers+\"\\n\")\n",
    "    \n",
    "    for epoch in range(epochs):\n",
    "        for metrics in metrics_dict.values():\n",
    "            metrics.reset_states()\n",
    "\n",
    "        for batch_elements in ds_train_4:\n",
    "            train_step(*batch_elements,**scheduled_parameters[epoch])\n",
    "        for batch_elements in ds_test_4:\n",
    "            test_step(*batch_elements,**scheduled_parameters[epoch])\n",
    "\n",
    "        metrics_results = [metrics.result() for metrics in metrics_dict.values()]\n",
    "        if epoch%track_metrics == 0:\n",
    "            print(template.format(epoch,*metrics_results))\n",
    "        if csv_path is not None:\n",
    "            csv_file.write(csv_template.format(epoch,*metrics_results)+\"\\n\")\n",
    "            csv_file.flush()\n",
    "    if csv_path is not None:\n",
    "        csv_file.close()"
   ]
  },
  {
   "cell_type": "code",
   "execution_count": null,
   "id": "fac6064a-c4c8-41e0-8ac1-97f39940993c",
   "metadata": {},
   "outputs": [],
   "source": [
    "EPOCHS = 5000\n",
    "\n",
    "modelul4 = train(\n",
    "    EPOCHS,\n",
    "    metrics_dict,\n",
    "    ds_train_4,\n",
    "    ds_test_4,\n",
    "    train_step,\n",
    "    test_step,\n",
    "    csv_path=\"regression_results_kfold4_4_norm.csv\",\n",
    "    track_metrics=200\n",
    ")"
   ]
  },
  {
   "cell_type": "code",
   "execution_count": null,
   "id": "4ea0baf9-a0c2-474c-a43e-1398c9ebdf1c",
   "metadata": {},
   "outputs": [],
   "source": [
    "fig, axs = plt.subplots(1,2,figsize=(12,6))\n",
    "ax = axs[0]\n",
    "data = {'y_pred':[],'y_true':[]}\n",
    "for x,y in ds_train_4:\n",
    "    data['y_pred'].extend(f.model(x)[:,2].numpy())\n",
    "    data['y_true'].extend(y[:,2].numpy())\n",
    "df = pd.DataFrame(data,columns=['y_pred','y_true'])\n",
    "ax.set_xlim(0,80)\n",
    "ax.set_ylim(0,80)\n",
    "sns.regplot(\"y_true\",\"y_pred\",data=df,ax=ax,truncate=False,\n",
    "            scatter_kws={'alpha':0.5},line_kws={'color':'r','alpha':0.3,'linestyle':'--','linewidth':2})\n",
    "ax.plot([0,100],[0,100],color=\"gray\",linestyle=\"--\")\n",
    "ax.set_xlabel(\"Actual y values\")\n",
    "ax.set_ylabel(\"Fitted y values\")\n",
    "ax.set_title(\"Training Data\")\n",
    "\n",
    "ax = axs[1]\n",
    "data = {'y_pred':[],'y_true':[]}\n",
    "for x,y in ds_test_4:\n",
    "    data['y_pred'].extend(f.model(x)[:,2].numpy())\n",
    "    data['y_true'].extend(y[:,2].numpy())\n",
    "df = pd.DataFrame(data,columns=['y_pred','y_true'])\n",
    "ax.set_ylim(0,80)\n",
    "ax.set_xlim(0,80)\n",
    "sns.regplot(\"y_true\",\"y_pred\",data=df,ax=ax,truncate=False,\n",
    "            scatter_kws={'alpha':0.5},line_kws={'color':'r','alpha':0.3,'linestyle':'--','linewidth':2})\n",
    "ax.plot([0,100],[0,100],color=\"gray\",linestyle=\"--\")\n",
    "ax.set_xlabel(\"Actual y values\")\n",
    "ax.set_ylabel(\"Fitted y values\")\n",
    "ax.set_title(\"Test Data\")\n",
    "plt.tight_layout()\n",
    "plt.savefig(\"LTN_regresie_kfold4_4_1_norm.png\")"
   ]
  },
  {
   "cell_type": "code",
   "execution_count": null,
   "id": "c0bd58d6-5389-46fa-9466-18f5a5b7f6d1",
   "metadata": {},
   "outputs": [],
   "source": [
    "plt.figure(figsize=(10,10))\n",
    "plt.scatter(df['y_true'], df['y_pred'], c='crimson')\n",
    "plt.yscale('log')\n",
    "plt.xscale('log')\n",
    "\n",
    "p1 = max(max(df['y_pred']), max(df['y_true']))\n",
    "p2 = min(min(df['y_pred']), min(df['y_true']))\n",
    "plt.plot([p1, p2], [p1, p2], 'b-')\n",
    "plt.xlabel('True Values', fontsize=15)\n",
    "plt.ylabel('Predictions', fontsize=15)\n",
    "plt.axis('equal')\n",
    "plt.savefig(\"LTN_regresie_kfold4_4_2_norm.png\")\n",
    "plt.show()"
   ]
  },
  {
   "cell_type": "code",
   "execution_count": null,
   "id": "7f7a2d26-7b48-4c12-8e83-02d4d38cf44e",
   "metadata": {},
   "outputs": [],
   "source": [
    "df = pd.read_csv(\"/Users/eduard.hogea/Documents/Facultate/Internship/explorare/KNN99---LTN/datesets/Cantilever/date_test_corectate.csv\", on_bad_lines='skip')"
   ]
  },
  {
   "cell_type": "code",
   "execution_count": null,
   "id": "23301180-8b6b-4304-959b-a181c2a1255d",
   "metadata": {},
   "outputs": [],
   "source": [
    "df = df.sample(frac=1) #shuffle\n",
    "x = df[['Mod 1', 'Mod 2','Mod 3','Mod 4','Mod 5','Mod 6','Mod 7','Mod 8']]\n",
    "y = df[['Severitate def', 'Severitate inc.','Pozitie']]\n",
    "batch_size= 32\n",
    "ds_test = tf.data.Dataset.from_tensor_slices((x,y)).batch(batch_size)\n",
    "\n",
    "data = {'y_pred':[],'y_true':[],'def':[],'inc':[],'Mod 1':[],'Mod 2':[],'Mod 3':[],'Mod 4':[],'Mod 5':[],'Mod 6':[],'Mod 7':[],'Mod 8':[]}\n",
    "for x,y in ds_test:\n",
    "    data['y_pred'].extend(f.model(x)[:,2].numpy())\n",
    "    data['y_true'].extend(y[:,2].numpy())\n",
    "    data['def'].extend(y[:,0].numpy())\n",
    "    data['inc'].extend(y[:,1].numpy())\n",
    "    data['Mod 1'].extend(x[:,0].numpy())\n",
    "    data['Mod 2'].extend(x[:,1].numpy())\n",
    "    data['Mod 3'].extend(x[:,2].numpy())\n",
    "    data['Mod 4'].extend(x[:,3].numpy())\n",
    "    data['Mod 5'].extend(x[:,4].numpy())\n",
    "    data['Mod 6'].extend(x[:,5].numpy())\n",
    "    data['Mod 7'].extend(x[:,6].numpy())\n",
    "    data['Mod 8'].extend(x[:,7].numpy())\n",
    "#'Severitate def', 'Severitate inc.'"
   ]
  },
  {
   "cell_type": "code",
   "execution_count": null,
   "id": "cb41b86b-2d33-43ce-b0cb-14c245b71fbe",
   "metadata": {},
   "outputs": [],
   "source": [
    "data_plot = pd.DataFrame(data,columns=['y_pred','y_true','def','inc','Mod 1', 'Mod 2','Mod 3','Mod 4','Mod 5','Mod 6','Mod 7','Mod 8'])"
   ]
  },
  {
   "cell_type": "code",
   "execution_count": null,
   "id": "a5d61da4-b0be-44fd-b633-6c5848ab6033",
   "metadata": {},
   "outputs": [],
   "source": [
    "dif =data_plot[\"y_true\"] - data_plot[\"y_pred\"]"
   ]
  },
  {
   "cell_type": "code",
   "execution_count": null,
   "id": "a35c8020-54d7-4b50-8033-6e6d279d0550",
   "metadata": {},
   "outputs": [],
   "source": [
    "plt.stem(dif)\n",
    "plt.xlabel(\"Predicted values\", size = \"20\")\n",
    "plt.ylabel(\"Residuals\", size = \"20\")\n",
    "plt.savefig(\"residuals_kfold4_4_norm.png\")"
   ]
  },
  {
   "cell_type": "code",
   "execution_count": null,
   "id": "f4068534-278d-45f9-b65e-644e293eefd6",
   "metadata": {},
   "outputs": [],
   "source": [
    "from openpyxl import Workbook\n",
    "!pip install openpyxl\n",
    "data_plot.to_excel(\"output_kfold4_4_norm.xlsx\")"
   ]
  },
  {
   "cell_type": "code",
   "execution_count": null,
   "id": "617d1851-0f1e-455d-87b6-78be0fc20994",
   "metadata": {},
   "outputs": [],
   "source": []
  }
 ],
 "metadata": {
  "kernelspec": {
   "display_name": "Python 3 (ipykernel)",
   "language": "python",
   "name": "python3"
  },
  "language_info": {
   "codemirror_mode": {
    "name": "ipython",
    "version": 3
   },
   "file_extension": ".py",
   "mimetype": "text/x-python",
   "name": "python",
   "nbconvert_exporter": "python",
   "pygments_lexer": "ipython3",
   "version": "3.9.7"
  }
 },
 "nbformat": 4,
 "nbformat_minor": 5
}
