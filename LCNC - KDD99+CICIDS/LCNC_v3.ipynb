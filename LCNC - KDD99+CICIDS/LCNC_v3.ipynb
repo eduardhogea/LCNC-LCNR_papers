{
 "cells": [
  {
   "cell_type": "code",
   "execution_count": 1,
   "id": "31108c7a-2b7c-41f0-9498-53ef5b3fcf99",
   "metadata": {},
   "outputs": [],
   "source": [
    "import glob\n",
    "import matplotlib.pyplot as plt\n",
    "import numpy as np\n",
    "import pandas as pd \n",
    "import seaborn\n",
    "import keras\n",
    "from tensorflow.keras.layers import Dense, Input\n",
    "from tensorflow.keras.models import Model\n",
    "from numpy import array\n",
    "from sklearn import preprocessing\n",
    "from sklearn.preprocessing import RobustScaler\n",
    "from sklearn.feature_selection import SelectKBest\n",
    "from sklearn.feature_selection import chi2\n",
    "from sklearn.feature_selection import mutual_info_classif\n",
    "from sklearn.model_selection import train_test_split\n",
    "import tensorflow as tf\n",
    "from sklearn.model_selection import train_test_split\n",
    "from tensorflow.keras.layers import Flatten\n",
    "from tensorflow.keras.layers import Dropout\n",
    "import json\n",
    "import numpy as np\n",
    "import pandas as pd\n",
    "from pandas.io.json import json_normalize\n",
    "import gc\n",
    "from scipy import stats\n",
    "import warnings\n",
    "import logictensornetworks as ltn\n",
    "import re\n",
    "from keras.models import Sequential, Model\n",
    "from keras.layers import Conv1D, MaxPool1D, Dense, Dropout, Flatten, \\\n",
    "BatchNormalization, Input, concatenate, Activation\n",
    "warnings.filterwarnings(\"ignore\")\n",
    "get_ipython().run_line_magic('matplotlib', 'inline')"
   ]
  },
  {
   "cell_type": "markdown",
   "id": "e00271f1-c12c-4148-9c03-6e29a1474eb3",
   "metadata": {},
   "source": [
    "# Data pre-processing"
   ]
  },
  {
   "cell_type": "code",
   "execution_count": 3,
   "id": "18f5fcf1-cd18-4eac-b50f-240f9a0ff39f",
   "metadata": {},
   "outputs": [],
   "source": [
    "df1 = pd.read_csv(\"/Users/eduard.hogea/Documents/Facultate/Internship/explorare/KNN99---LTN/datesets/CICIDS2017/Friday-WorkingHours-Afternoon-DDos.pcap_ISCX.csv\", skipinitialspace = True)\n",
    "df2 = pd.read_csv(\"/Users/eduard.hogea/Documents/Facultate/Internship/explorare/KNN99---LTN/datesets/CICIDS2017/Friday-WorkingHours-Afternoon-PortScan.pcap_ISCX.csv\", skipinitialspace = True)\n",
    "\n",
    "#df1 - dataset cu conexiuni DDoS si Benign\n",
    "#df2 - dataset cu conexiuni PortScan si Benign\n",
    "\n",
    "dataset = pd.concat([df1,df2]).drop_duplicates(keep=False)\n",
    "dataset.reset_index(drop=True, inplace = True)"
   ]
  },
  {
   "cell_type": "code",
   "execution_count": 4,
   "id": "da561f73-ed02-4ff5-81be-0d23122e38b2",
   "metadata": {},
   "outputs": [
    {
     "data": {
      "text/html": [
       "<div>\n",
       "<style scoped>\n",
       "    .dataframe tbody tr th:only-of-type {\n",
       "        vertical-align: middle;\n",
       "    }\n",
       "\n",
       "    .dataframe tbody tr th {\n",
       "        vertical-align: top;\n",
       "    }\n",
       "\n",
       "    .dataframe thead th {\n",
       "        text-align: right;\n",
       "    }\n",
       "</style>\n",
       "<table border=\"1\" class=\"dataframe\">\n",
       "  <thead>\n",
       "    <tr style=\"text-align: right;\">\n",
       "      <th></th>\n",
       "      <th>DestinationPort</th>\n",
       "      <th>FlowDuration</th>\n",
       "      <th>TotalFwdPackets</th>\n",
       "      <th>TotalBackwardPackets</th>\n",
       "      <th>TotalLengthofFwdPackets</th>\n",
       "      <th>TotalLengthofBwdPackets</th>\n",
       "      <th>FwdPacketLengthMax</th>\n",
       "      <th>FwdPacketLengthMin</th>\n",
       "      <th>FwdPacketLengthMean</th>\n",
       "      <th>FwdPacketLengthStd</th>\n",
       "      <th>...</th>\n",
       "      <th>min_seg_size_forward</th>\n",
       "      <th>ActiveMean</th>\n",
       "      <th>ActiveStd</th>\n",
       "      <th>ActiveMax</th>\n",
       "      <th>ActiveMin</th>\n",
       "      <th>IdleMean</th>\n",
       "      <th>IdleStd</th>\n",
       "      <th>IdleMax</th>\n",
       "      <th>IdleMin</th>\n",
       "      <th>Label</th>\n",
       "    </tr>\n",
       "  </thead>\n",
       "  <tbody>\n",
       "    <tr>\n",
       "      <th>0</th>\n",
       "      <td>54865</td>\n",
       "      <td>3</td>\n",
       "      <td>2</td>\n",
       "      <td>0</td>\n",
       "      <td>12</td>\n",
       "      <td>0</td>\n",
       "      <td>6</td>\n",
       "      <td>6</td>\n",
       "      <td>6.0</td>\n",
       "      <td>0.0</td>\n",
       "      <td>...</td>\n",
       "      <td>20</td>\n",
       "      <td>0.0</td>\n",
       "      <td>0.0</td>\n",
       "      <td>0</td>\n",
       "      <td>0</td>\n",
       "      <td>0.0</td>\n",
       "      <td>0.0</td>\n",
       "      <td>0</td>\n",
       "      <td>0</td>\n",
       "      <td>BENIGN</td>\n",
       "    </tr>\n",
       "    <tr>\n",
       "      <th>1</th>\n",
       "      <td>55054</td>\n",
       "      <td>109</td>\n",
       "      <td>1</td>\n",
       "      <td>1</td>\n",
       "      <td>6</td>\n",
       "      <td>6</td>\n",
       "      <td>6</td>\n",
       "      <td>6</td>\n",
       "      <td>6.0</td>\n",
       "      <td>0.0</td>\n",
       "      <td>...</td>\n",
       "      <td>20</td>\n",
       "      <td>0.0</td>\n",
       "      <td>0.0</td>\n",
       "      <td>0</td>\n",
       "      <td>0</td>\n",
       "      <td>0.0</td>\n",
       "      <td>0.0</td>\n",
       "      <td>0</td>\n",
       "      <td>0</td>\n",
       "      <td>BENIGN</td>\n",
       "    </tr>\n",
       "    <tr>\n",
       "      <th>2</th>\n",
       "      <td>55055</td>\n",
       "      <td>52</td>\n",
       "      <td>1</td>\n",
       "      <td>1</td>\n",
       "      <td>6</td>\n",
       "      <td>6</td>\n",
       "      <td>6</td>\n",
       "      <td>6</td>\n",
       "      <td>6.0</td>\n",
       "      <td>0.0</td>\n",
       "      <td>...</td>\n",
       "      <td>20</td>\n",
       "      <td>0.0</td>\n",
       "      <td>0.0</td>\n",
       "      <td>0</td>\n",
       "      <td>0</td>\n",
       "      <td>0.0</td>\n",
       "      <td>0.0</td>\n",
       "      <td>0</td>\n",
       "      <td>0</td>\n",
       "      <td>BENIGN</td>\n",
       "    </tr>\n",
       "    <tr>\n",
       "      <th>3</th>\n",
       "      <td>46236</td>\n",
       "      <td>34</td>\n",
       "      <td>1</td>\n",
       "      <td>1</td>\n",
       "      <td>6</td>\n",
       "      <td>6</td>\n",
       "      <td>6</td>\n",
       "      <td>6</td>\n",
       "      <td>6.0</td>\n",
       "      <td>0.0</td>\n",
       "      <td>...</td>\n",
       "      <td>20</td>\n",
       "      <td>0.0</td>\n",
       "      <td>0.0</td>\n",
       "      <td>0</td>\n",
       "      <td>0</td>\n",
       "      <td>0.0</td>\n",
       "      <td>0.0</td>\n",
       "      <td>0</td>\n",
       "      <td>0</td>\n",
       "      <td>BENIGN</td>\n",
       "    </tr>\n",
       "    <tr>\n",
       "      <th>4</th>\n",
       "      <td>54863</td>\n",
       "      <td>3</td>\n",
       "      <td>2</td>\n",
       "      <td>0</td>\n",
       "      <td>12</td>\n",
       "      <td>0</td>\n",
       "      <td>6</td>\n",
       "      <td>6</td>\n",
       "      <td>6.0</td>\n",
       "      <td>0.0</td>\n",
       "      <td>...</td>\n",
       "      <td>20</td>\n",
       "      <td>0.0</td>\n",
       "      <td>0.0</td>\n",
       "      <td>0</td>\n",
       "      <td>0</td>\n",
       "      <td>0.0</td>\n",
       "      <td>0.0</td>\n",
       "      <td>0</td>\n",
       "      <td>0</td>\n",
       "      <td>BENIGN</td>\n",
       "    </tr>\n",
       "  </tbody>\n",
       "</table>\n",
       "<p>5 rows × 79 columns</p>\n",
       "</div>"
      ],
      "text/plain": [
       "   DestinationPort  FlowDuration  TotalFwdPackets  TotalBackwardPackets  \\\n",
       "0            54865             3                2                     0   \n",
       "1            55054           109                1                     1   \n",
       "2            55055            52                1                     1   \n",
       "3            46236            34                1                     1   \n",
       "4            54863             3                2                     0   \n",
       "\n",
       "   TotalLengthofFwdPackets  TotalLengthofBwdPackets  FwdPacketLengthMax  \\\n",
       "0                       12                        0                   6   \n",
       "1                        6                        6                   6   \n",
       "2                        6                        6                   6   \n",
       "3                        6                        6                   6   \n",
       "4                       12                        0                   6   \n",
       "\n",
       "   FwdPacketLengthMin  FwdPacketLengthMean  FwdPacketLengthStd  ...  \\\n",
       "0                   6                  6.0                 0.0  ...   \n",
       "1                   6                  6.0                 0.0  ...   \n",
       "2                   6                  6.0                 0.0  ...   \n",
       "3                   6                  6.0                 0.0  ...   \n",
       "4                   6                  6.0                 0.0  ...   \n",
       "\n",
       "   min_seg_size_forward  ActiveMean  ActiveStd  ActiveMax  ActiveMin  \\\n",
       "0                    20         0.0        0.0          0          0   \n",
       "1                    20         0.0        0.0          0          0   \n",
       "2                    20         0.0        0.0          0          0   \n",
       "3                    20         0.0        0.0          0          0   \n",
       "4                    20         0.0        0.0          0          0   \n",
       "\n",
       "   IdleMean  IdleStd  IdleMax  IdleMin   Label  \n",
       "0       0.0      0.0        0        0  BENIGN  \n",
       "1       0.0      0.0        0        0  BENIGN  \n",
       "2       0.0      0.0        0        0  BENIGN  \n",
       "3       0.0      0.0        0        0  BENIGN  \n",
       "4       0.0      0.0        0        0  BENIGN  \n",
       "\n",
       "[5 rows x 79 columns]"
      ]
     },
     "execution_count": 4,
     "metadata": {},
     "output_type": "execute_result"
    }
   ],
   "source": [
    "col_names = [col.replace(' ', '') for col in dataset.columns]\n",
    "dataset.columns = col_names\n",
    "dataset.head()"
   ]
  },
  {
   "cell_type": "code",
   "execution_count": 5,
   "id": "d0931cc3-66b5-4417-9210-74c883e34487",
   "metadata": {},
   "outputs": [
    {
     "data": {
      "text/plain": [
       "(['BENIGN', 'DDoS', 'PortScan'], 3)"
      ]
     },
     "execution_count": 5,
     "metadata": {},
     "output_type": "execute_result"
    }
   ],
   "source": [
    "label_names = dataset['Label'].unique()\n",
    "\n",
    "label_names = [re.sub(\"[^a-zA-Z ]+\", \"\", l) for l in label_names]\n",
    "label_names = [re.sub(\"[\\s\\s]\", '_', l) for l in label_names]\n",
    "label_names = [lab.replace(\"__\", \"_\") for lab in label_names]\n",
    "\n",
    "label_names, len(label_names)"
   ]
  },
  {
   "cell_type": "code",
   "execution_count": 6,
   "id": "c8eb47b6-9794-4ab4-a33b-1e2dc64b8eab",
   "metadata": {},
   "outputs": [
    {
     "data": {
      "text/plain": [
       "array(['BENIGN', 'DDoS', 'PortScan'], dtype=object)"
      ]
     },
     "execution_count": 6,
     "metadata": {},
     "output_type": "execute_result"
    }
   ],
   "source": [
    "labels = dataset['Label'].unique()\n",
    "\n",
    "for i in range(0,len(label_names)):\n",
    "    dataset['Label'] = dataset['Label'].replace({labels[i] : label_names[i]})\n",
    "    \n",
    "dataset['Label'].unique()"
   ]
  },
  {
   "cell_type": "code",
   "execution_count": 7,
   "id": "617977ef-1842-45eb-93c4-074843f14ef5",
   "metadata": {},
   "outputs": [],
   "source": [
    "dataset.dropna(inplace=True)"
   ]
  },
  {
   "cell_type": "code",
   "execution_count": 8,
   "id": "46d7463c-f2f1-4dc9-a6c1-08df1539137f",
   "metadata": {},
   "outputs": [],
   "source": [
    "labl = dataset[['Label']]\n",
    "dataset = dataset.loc[:, dataset.columns != 'Label'].astype('float64')"
   ]
  },
  {
   "cell_type": "code",
   "execution_count": 9,
   "id": "3c43a6c9-3460-489c-bfbb-d93a24a692f1",
   "metadata": {},
   "outputs": [],
   "source": [
    "dataset = dataset.replace([np.inf, -np.inf], np.nan)"
   ]
  },
  {
   "cell_type": "code",
   "execution_count": 10,
   "id": "a1bbf23d-5f96-4837-89a5-f1b44c997200",
   "metadata": {},
   "outputs": [],
   "source": [
    "dataset = dataset.merge(labl, how='outer', left_index=True, right_index=True)"
   ]
  },
  {
   "cell_type": "code",
   "execution_count": 11,
   "id": "4b080859-ca20-42ec-ae12-1be1743c63d2",
   "metadata": {},
   "outputs": [],
   "source": [
    "dataset.dropna(inplace=True)"
   ]
  },
  {
   "cell_type": "code",
   "execution_count": 12,
   "id": "17a64fd4-32bc-453a-b42a-af81b5fa6bf1",
   "metadata": {},
   "outputs": [
    {
     "data": {
      "text/plain": [
       "BENIGN      212718\n",
       "DDoS        128005\n",
       "PortScan     57305\n",
       "Name: Label, dtype: int64"
      ]
     },
     "execution_count": 12,
     "metadata": {},
     "output_type": "execute_result"
    }
   ],
   "source": [
    "dataset.Label.value_counts()"
   ]
  },
  {
   "cell_type": "code",
   "execution_count": 13,
   "id": "41931e2a-ddbd-4af3-8aa3-bc4835bd6156",
   "metadata": {},
   "outputs": [
    {
     "data": {
      "image/png": "[encoded data removed]",
      "text/plain": [
       "<Figure size 720x720 with 1 Axes>"
      ]
     },
     "metadata": {},
     "output_type": "display_data"
    }
   ],
   "source": [
    "\n",
    "import matplotlib.pyplot as plt\n",
    "\n",
    "labels= ['DDoS', 'BENIGN', 'PortScan']\n",
    "\n",
    "colors=['lightgreen', 'yellow', 'green']\n",
    "\n",
    "x= [212718, 128005, 57305]\n",
    "explode = [0, 0, 0]\n",
    "fig, ax = plt.subplots()\n",
    "ax.pie(x, labels = labels,\n",
    "          textprops={'fontsize': 18},\n",
    "          colors = colors,\n",
    "          autopct='%.2f%%',\n",
    "          explode = explode,\n",
    "          shadow = True,\n",
    "          startangle = 180)\n",
    "fig = plt.gcf()\n",
    "fig.set_size_inches(10,10)\n",
    "plt.title('Attack Types', fontsize = 20)\n",
    "#plt.savefig('Pie_chart_multi.png')\n",
    "plt.axis('equal')\n",
    "\n",
    "\n",
    "plt.show()"
   ]
  },
  {
   "cell_type": "code",
   "execution_count": 14,
   "id": "0dc33c37-20f6-49b2-a2c5-b7ef795941d8",
   "metadata": {},
   "outputs": [],
   "source": [
    "features = dataset.loc[:, dataset.columns != 'Label'].astype('float64')"
   ]
  },
  {
   "cell_type": "code",
   "execution_count": 15,
   "id": "57fd9d2b-5c27-4ea5-b136-65246b484c3f",
   "metadata": {},
   "outputs": [],
   "source": [
    "labels=pd.DataFrame()\n",
    "labels[\"Label\"] = dataset['Label']\n",
    "features = dataset.loc[:, dataset.columns != 'Label'].astype('float64')"
   ]
  },
  {
   "cell_type": "code",
   "execution_count": 16,
   "id": "621624b3-9bb2-41db-bc4a-c87257425b6f",
   "metadata": {},
   "outputs": [],
   "source": [
    "scaler = RobustScaler()\n",
    "scaler.fit(features)\n",
    "\n",
    "features = scaler.transform(features)"
   ]
  },
  {
   "cell_type": "markdown",
   "id": "3f285182-63a3-4c1b-bb39-78b2570c08cb",
   "metadata": {},
   "source": [
    "### DDoS -> 0\n",
    "### BENIGN -> 1"
   ]
  },
  {
   "cell_type": "code",
   "execution_count": 17,
   "id": "591c467d-86f9-4560-893a-135ce0ed16bd",
   "metadata": {},
   "outputs": [],
   "source": [
    "from sklearn.preprocessing import LabelEncoder\n",
    "LE = LabelEncoder()\n",
    "\n",
    "LE.fit(labels[\"Label\"])\n",
    "labels[\"Label\"] = LE.transform(labels[\"Label\"])"
   ]
  },
  {
   "cell_type": "code",
   "execution_count": 18,
   "id": "72700a38-2b9d-4420-b0ad-97ebcf47103c",
   "metadata": {},
   "outputs": [
    {
     "data": {
      "text/plain": [
       "Label\n",
       "0        212718\n",
       "1        128005\n",
       "2         57305\n",
       "dtype: int64"
      ]
     },
     "execution_count": 18,
     "metadata": {},
     "output_type": "execute_result"
    }
   ],
   "source": [
    "labels.value_counts()"
   ]
  },
  {
   "cell_type": "markdown",
   "id": "b6c60ff2-3798-4a61-b831-3b2dfab2f4dd",
   "metadata": {},
   "source": [
    "### Split data 80% training, 20% testing"
   ]
  },
  {
   "cell_type": "code",
   "execution_count": 19,
   "id": "cb0d2253-f753-43b5-bfc6-faa31218fad3",
   "metadata": {},
   "outputs": [
    {
     "data": {
      "text/plain": [
       "((318422, 78), (79606, 78), (318422,), (79606,))"
      ]
     },
     "execution_count": 19,
     "metadata": {},
     "output_type": "execute_result"
    }
   ],
   "source": [
    "label_label = labels[\"Label\"]\n",
    "\n",
    "features_train, features_test, labels_train, labels_test = train_test_split(features, label_label, test_size=.2)\n",
    "\n",
    "features_train.shape, features_test.shape, labels_train.shape, labels_test.shape"
   ]
  },
  {
   "cell_type": "markdown",
   "id": "75e194e6-b7f0-485e-906a-5c15b05246c9",
   "metadata": {},
   "source": [
    "### 2D input -> 3D input\n",
    "### [nr. of samples in dataset, nr. features, 1]"
   ]
  },
  {
   "cell_type": "code",
   "execution_count": 20,
   "id": "ca5c5699-60b9-432f-855c-1b7a94edc591",
   "metadata": {},
   "outputs": [],
   "source": [
    "sample_size = features_train.shape[0] # number of samples in train set\n",
    "time_steps  = features_train.shape[1] # number of features in train set\n",
    "input_dimension = 1               # each feature is represented by 1 number\n",
    "\n",
    "features_train_reshaped = features_train.reshape(sample_size,time_steps,input_dimension)\n",
    "features_test_reshaped = features_test.reshape(features_test.shape[0],features_test.shape[1],1)"
   ]
  },
  {
   "cell_type": "code",
   "execution_count": 21,
   "id": "8e6d60a0-88ed-4cbd-9e20-a4024bc19a88",
   "metadata": {},
   "outputs": [
    {
     "name": "stdout",
     "output_type": "stream",
     "text": [
      "After reshape train data set shape:\n",
      " (318422, 78, 1)\n",
      "1 Sample shape:\n",
      " (78, 1)\n"
     ]
    }
   ],
   "source": [
    "print(\"After reshape train data set shape:\\n\", features_train_reshaped.shape)\n",
    "print(\"1 Sample shape:\\n\",features_train_reshaped[0].shape)"
   ]
  },
  {
   "cell_type": "code",
   "execution_count": 22,
   "id": "32f48169-8bb7-4350-bc7a-8644815a3284",
   "metadata": {},
   "outputs": [
    {
     "data": {
      "text/plain": [
       "1"
      ]
     },
     "execution_count": 22,
     "metadata": {},
     "output_type": "execute_result"
    }
   ],
   "source": [
    "features_train_reshaped.shape[2] "
   ]
  },
  {
   "cell_type": "markdown",
   "id": "4cfd9bb5-7552-4349-9aa3-1fbf66b12bee",
   "metadata": {},
   "source": [
    "### Create batches of tensors from input data"
   ]
  },
  {
   "cell_type": "code",
   "execution_count": 23,
   "id": "1e9e7522-fbaf-4e61-845f-f91664d3eeea",
   "metadata": {},
   "outputs": [
    {
     "name": "stdout",
     "output_type": "stream",
     "text": [
      "Metal device set to: Apple M1\n"
     ]
    },
    {
     "name": "stderr",
     "output_type": "stream",
     "text": [
      "2022-07-26 21:04:42.907872: I tensorflow/core/common_runtime/pluggable_device/pluggable_device_factory.cc:305] Could not identify NUMA node of platform GPU ID 0, defaulting to 0. Your kernel may not have been built with NUMA support.\n",
      "2022-07-26 21:04:42.907969: I tensorflow/core/common_runtime/pluggable_device/pluggable_device_factory.cc:271] Created TensorFlow device (/job:localhost/replica:0/task:0/device:GPU:0 with 0 MB memory) -> physical PluggableDevice (device: 0, name: METAL, pci bus id: <undefined>)\n"
     ]
    }
   ],
   "source": [
    "batch_size = 5096\n",
    "ds_train = tf.data.Dataset.from_tensor_slices((features_train_reshaped,labels_train)).batch(batch_size)\n",
    "ds_test = tf.data.Dataset.from_tensor_slices((features_test_reshaped,labels_test)).batch(batch_size)"
   ]
  },
  {
   "cell_type": "code",
   "execution_count": 24,
   "id": "c8acbab9-2b31-4def-ac42-396239240098",
   "metadata": {},
   "outputs": [],
   "source": [
    "def build_conv1D_model():\n",
    "\n",
    "    n_timesteps = features_train_reshaped.shape[1] #78 - nr. of features\n",
    "    n_features  = features_train_reshaped.shape[2] #1 \n",
    "    model = keras.Sequential(name=\"model_conv1D\")\n",
    "    model.add(keras.layers.Input(shape=(n_timesteps,n_features)))\n",
    "    model.add(keras.layers.Conv1D(filters=128, kernel_size=14, activation='relu', name=\"Conv1D_1\"))\n",
    "    model.add(keras.layers.Dropout(0.5))\n",
    "    model.add(keras.layers.Conv1D(filters=64, kernel_size=7, activation='relu', name=\"Conv1D_2\"))\n",
    "    model.add(keras.layers.Conv1D(filters=32, kernel_size=3, activation='relu', name=\"Conv1D_3\"))\n",
    "  \n",
    "    model.add(keras.layers.Conv1D(filters=16, kernel_size=2, activation='relu', name=\"Conv1D_4\"))\n",
    "  \n",
    "    model.add(keras.layers.MaxPooling1D(pool_size=3, name=\"MaxPooling1D\"))\n",
    "    model.add(keras.layers.Flatten())\n",
    "    model.add(keras.layers.Dense(3, activation='relu', name=\"Dense_1\"))# 3, pentru fiecare tip de atac\n",
    "    \n",
    "    #rezultate mai bune si un timp de antrenare mai scazut cu 'relu', comparativ cu 'elu'\n",
    "    return model\n",
    "\n",
    "\n",
    "logits_model = build_conv1D_model()\n",
    "p = ltn.Predicate(ltn.utils.LogitsToPredicateModel(logits_model,single_label=True))\n",
    "# p are rolul unui layer softmax\n",
    "# fiind softmax, nu este nevoie de constrangeri precum o conexiune DDoS nu poate sa fie BENIGN.."
   ]
  },
  {
   "cell_type": "code",
   "execution_count": 25,
   "id": "cb32ccfe-64cf-454e-929d-87891f7f8ceb",
   "metadata": {},
   "outputs": [
    {
     "name": "stdout",
     "output_type": "stream",
     "text": [
      "Model: \"model_conv1D\"\n",
      "_________________________________________________________________\n",
      " Layer (type)                Output Shape              Param #   \n",
      "=================================================================\n",
      " Conv1D_1 (Conv1D)           (None, 65, 128)           1920      \n",
      "                                                                 \n",
      " dropout (Dropout)           (None, 65, 128)           0         \n",
      "                                                                 \n",
      " Conv1D_2 (Conv1D)           (None, 59, 64)            57408     \n",
      "                                                                 \n",
      " Conv1D_3 (Conv1D)           (None, 57, 32)            6176      \n",
      "                                                                 \n",
      " Conv1D_4 (Conv1D)           (None, 56, 16)            1040      \n",
      "                                                                 \n",
      " MaxPooling1D (MaxPooling1D)  (None, 18, 16)           0         \n",
      "                                                                 \n",
      " flatten (Flatten)           (None, 288)               0         \n",
      "                                                                 \n",
      " Dense_1 (Dense)             (None, 3)                 867       \n",
      "                                                                 \n",
      "=================================================================\n",
      "Total params: 67,411\n",
      "Trainable params: 67,411\n",
      "Non-trainable params: 0\n",
      "_________________________________________________________________\n",
      "None\n"
     ]
    }
   ],
   "source": [
    "print(logits_model.summary())"
   ]
  },
  {
   "cell_type": "code",
   "execution_count": 26,
   "id": "d6656f7c-b33f-48b6-b8b4-934a0ad30aa2",
   "metadata": {},
   "outputs": [],
   "source": [
    "class_A = ltn.Constant(0, trainable=False)\n",
    "class_B = ltn.Constant(1, trainable=False)\n",
    "class_C = ltn.Constant(2, trainable=False)"
   ]
  },
  {
   "cell_type": "markdown",
   "id": "dd2368ff-da3b-4d19-b8ba-36d9b4dc1b48",
   "metadata": {},
   "source": [
    "### Connectors and quantifier"
   ]
  },
  {
   "cell_type": "code",
   "execution_count": 27,
   "id": "eb3444ad-2dfa-4972-90f4-0033eb4ef022",
   "metadata": {},
   "outputs": [],
   "source": [
    "Not = ltn.Wrapper_Connective(ltn.fuzzy_ops.Not_Std())\n",
    "And = ltn.Wrapper_Connective(ltn.fuzzy_ops.And_Prod())\n",
    "Or = ltn.Wrapper_Connective(ltn.fuzzy_ops.Or_ProbSum())\n",
    "Implies = ltn.Wrapper_Connective(ltn.fuzzy_ops.Implies_Reichenbach())\n",
    "Forall = ltn.Wrapper_Quantifier(ltn.fuzzy_ops.Aggreg_pMeanError(p=2),semantics=\"forall\")"
   ]
  },
  {
   "cell_type": "markdown",
   "id": "b4d76f00-e7dc-4edb-96f4-3450016dfec6",
   "metadata": {},
   "source": [
    "### Axioms - Knowledge Base\n"
   ]
  },
  {
   "cell_type": "code",
   "execution_count": 28,
   "id": "9790a862-1c4f-4ab9-ae59-f65d52671458",
   "metadata": {},
   "outputs": [],
   "source": [
    "formula_aggregator = ltn.Wrapper_Formula_Aggregator(ltn.fuzzy_ops.Aggreg_pMeanError(p=2))\n",
    "# valoarea lui p schimba mult rezultatele, este explicata mai bine in articolul nostru de pe overleaf\n",
    "# cu o valoare mai mica sunt si rezultate mai slabe in acest caz unde sunt doar doua clase\n",
    "\n",
    "@tf.function\n",
    "def axioms(features, labels, training=False):\n",
    "    x_A = ltn.Variable(\"x_A\",features[labels==0])\n",
    "    x_B = ltn.Variable(\"x_B\",features[labels==1])\n",
    "    x_C = ltn.Variable(\"x_C\",features[labels==2])\n",
    "    axioms = [\n",
    "        Forall(x_A,p([x_A,class_A],training=training)),\n",
    "        Forall(x_B,p([x_B,class_B],training=training)),\n",
    "        Forall(x_C,p([x_C,class_C],training=training)),\n",
    "        # lipsesc constrangerile, fiind un numar mic de clase\n",
    "    ]\n",
    "    sat_level = formula_aggregator(axioms).tensor\n",
    "    return sat_level"
   ]
  },
  {
   "cell_type": "code",
   "execution_count": 29,
   "id": "3c168926-943a-498e-87d3-521b1a2e82d5",
   "metadata": {},
   "outputs": [
    {
     "name": "stderr",
     "output_type": "stream",
     "text": [
      "2022-07-26 21:04:43.845676: W tensorflow/core/platform/profile_utils/cpu_utils.cc:128] Failed to get CPU frequency: 0 Hz\n",
      "2022-07-26 21:04:43.845793: I tensorflow/core/grappler/optimizers/custom_graph_optimizer_registry.cc:112] Plugin optimizer for device_type GPU is enabled.\n"
     ]
    },
    {
     "name": "stdout",
     "output_type": "stream",
     "text": [
      "Initial sat level 0.37542\n"
     ]
    }
   ],
   "source": [
    "# este necesara initializarea aceasta inainte de antrenare\n",
    "for features, labels in ds_test:\n",
    "    print(\"Initial sat level %.5f\"%axioms(features,labels))\n",
    "    break"
   ]
  },
  {
   "cell_type": "code",
   "execution_count": 30,
   "id": "4b7bed92-b95e-4aca-bd38-f6fcfb0a8f31",
   "metadata": {},
   "outputs": [],
   "source": [
    "metrics_dict = {\n",
    "    'train_sat_kb': tf.keras.metrics.Mean(name='train_sat_kb'),\n",
    "    'test_sat_kb': tf.keras.metrics.Mean(name='test_sat_kb'),\n",
    "    'train_accuracy': tf.keras.metrics.CategoricalAccuracy(name=\"train_accuracy\"),\n",
    "    'test_accuracy': tf.keras.metrics.CategoricalAccuracy(name=\"test_accuracy\")\n",
    "}"
   ]
  },
  {
   "cell_type": "code",
   "execution_count": 31,
   "id": "b5a8c6f0-5919-46fe-8dda-0de8f2fb9444",
   "metadata": {},
   "outputs": [],
   "source": [
    "optimizer = tf.keras.optimizers.Adam(learning_rate=0.001)\n",
    "@tf.function\n",
    "def train_step(features, labels):\n",
    "    # sat and update\n",
    "    with tf.GradientTape() as tape:\n",
    "        sat = axioms(features, labels, training=True)\n",
    "        loss = 1.-sat\n",
    "    gradients = tape.gradient(loss, p.trainable_variables)\n",
    "    optimizer.apply_gradients(zip(gradients, p.trainable_variables))\n",
    "    sat = axioms(features, labels) # compute sat without dropout\n",
    "    metrics_dict['train_sat_kb'](sat)\n",
    "    # accuracy\n",
    "    predictions = logits_model(features)\n",
    "    metrics_dict['train_accuracy'](tf.one_hot(labels,3),predictions)\n",
    "    \n",
    "@tf.function\n",
    "def test_step(features, labels):\n",
    "    # sat\n",
    "    sat = axioms(features, labels)\n",
    "    metrics_dict['test_sat_kb'](sat)\n",
    "    # accuracy\n",
    "    predictions = logits_model(features)\n",
    "    metrics_dict['test_accuracy'](tf.one_hot(labels,3),predictions)"
   ]
  },
  {
   "cell_type": "code",
   "execution_count": 32,
   "id": "39468307-2a6f-44a3-966d-bdfced74ab08",
   "metadata": {},
   "outputs": [],
   "source": [
    "from collections import defaultdict\n",
    "\n",
    "def train(\n",
    "        epochs,\n",
    "        metrics_dict, \n",
    "        ds_train, \n",
    "        ds_test, \n",
    "        train_step, \n",
    "        test_step,\n",
    "        track_metrics=1,\n",
    "        csv_path=None,\n",
    "        scheduled_parameters=defaultdict(lambda : {})\n",
    "    ):\n",
    "    \"\"\"\n",
    "    Args:\n",
    "        epochs: int, number of training epochs.\n",
    "        metrics_dict: dict, {\"metrics_label\": tf.keras.metrics instance}.\n",
    "        ds_train: iterable dataset, e.g. using tf.data.Dataset.\n",
    "        ds_test: iterable dataset, e.g. using tf.data.Dataset.\n",
    "        train_step: callable function. the arguments passed to the function\n",
    "            are the itered elements of ds_train.\n",
    "        test_step: callable function. the arguments passed to the function\n",
    "            are the itered elements of ds_test.\n",
    "        csv_path: (optional) path to create a csv file, to save the metrics.\n",
    "        scheduled_parameters: (optional) a dictionary that returns kwargs for\n",
    "            the train_step and test_step functions, for each epoch.\n",
    "            Call using scheduled_parameters[epoch].\n",
    "    \"\"\"\n",
    "    template = \"Epoch {}\"\n",
    "    for metrics_label in metrics_dict.keys():\n",
    "        template += \", %s: {:.4f}\" % metrics_label\n",
    "    if csv_path is not None:\n",
    "        csv_file = open(csv_path,\"w+\")\n",
    "        headers = \",\".join([\"Epoch\"]+list(metrics_dict.keys()))\n",
    "        csv_template = \",\".join([\"{}\" for _ in range(len(metrics_dict)+1)])\n",
    "        csv_file.write(headers+\"\\n\")\n",
    "    \n",
    "    for epoch in range(epochs):\n",
    "        for metrics in metrics_dict.values():\n",
    "            metrics.reset_states()\n",
    "\n",
    "        for batch_elements in ds_train:\n",
    "            train_step(*batch_elements,**scheduled_parameters[epoch])\n",
    "        for batch_elements in ds_test:\n",
    "            test_step(*batch_elements,**scheduled_parameters[epoch])\n",
    "\n",
    "        metrics_results = [metrics.result() for metrics in metrics_dict.values()]\n",
    "        if epoch%track_metrics == 0:\n",
    "            print(template.format(epoch,*metrics_results))\n",
    "        if csv_path is not None:\n",
    "            csv_file.write(csv_template.format(epoch,*metrics_results)+\"\\n\")\n",
    "            csv_file.flush()\n",
    "    if csv_path is not None:\n",
    "        csv_file.close()"
   ]
  },
  {
   "cell_type": "code",
   "execution_count": 33,
   "id": "d3efe4dd-f1e6-43dc-b232-ae815171a390",
   "metadata": {},
   "outputs": [
    {
     "name": "stderr",
     "output_type": "stream",
     "text": [
      "2022-07-26 21:04:44.583869: I tensorflow/core/grappler/optimizers/custom_graph_optimizer_registry.cc:112] Plugin optimizer for device_type GPU is enabled.\n",
      "2022-07-26 21:05:15.785885: I tensorflow/core/grappler/optimizers/custom_graph_optimizer_registry.cc:112] Plugin optimizer for device_type GPU is enabled.\n",
      "2022-07-26 21:05:16.949637: I tensorflow/core/grappler/optimizers/custom_graph_optimizer_registry.cc:112] Plugin optimizer for device_type GPU is enabled.\n",
      "2022-07-26 21:05:19.892210: I tensorflow/core/grappler/optimizers/custom_graph_optimizer_registry.cc:112] Plugin optimizer for device_type GPU is enabled.\n"
     ]
    },
    {
     "name": "stdout",
     "output_type": "stream",
     "text": [
      "Epoch 0, train_sat_kb: 0.5819, test_sat_kb: 0.6141, train_accuracy: 0.8122, test_accuracy: 0.8463\n",
      "Epoch 1, train_sat_kb: 0.6085, test_sat_kb: 0.6201, train_accuracy: 0.8475, test_accuracy: 0.8592\n",
      "Epoch 2, train_sat_kb: 0.6446, test_sat_kb: 0.7145, train_accuracy: 0.8739, test_accuracy: 0.9006\n",
      "Epoch 3, train_sat_kb: 0.7215, test_sat_kb: 0.7307, train_accuracy: 0.9036, test_accuracy: 0.9089\n",
      "Epoch 4, train_sat_kb: 0.7392, test_sat_kb: 0.7304, train_accuracy: 0.9202, test_accuracy: 0.9077\n",
      "Epoch 5, train_sat_kb: 0.7204, test_sat_kb: 0.7122, train_accuracy: 0.9085, test_accuracy: 0.9144\n",
      "Epoch 6, train_sat_kb: 0.7533, test_sat_kb: 0.7357, train_accuracy: 0.9367, test_accuracy: 0.9121\n",
      "Epoch 7, train_sat_kb: 0.7277, test_sat_kb: 0.7376, train_accuracy: 0.9054, test_accuracy: 0.9137\n",
      "Epoch 8, train_sat_kb: 0.7368, test_sat_kb: 0.7416, train_accuracy: 0.9134, test_accuracy: 0.9169\n",
      "Epoch 9, train_sat_kb: 0.7509, test_sat_kb: 0.7511, train_accuracy: 0.9328, test_accuracy: 0.9403\n",
      "Epoch 10, train_sat_kb: 0.7638, test_sat_kb: 0.7400, train_accuracy: 0.9384, test_accuracy: 0.9348\n",
      "Epoch 11, train_sat_kb: 0.7521, test_sat_kb: 0.7874, train_accuracy: 0.9360, test_accuracy: 0.9531\n",
      "Epoch 12, train_sat_kb: 0.7541, test_sat_kb: 0.7684, train_accuracy: 0.9304, test_accuracy: 0.9380\n",
      "Epoch 13, train_sat_kb: 0.7537, test_sat_kb: 0.7422, train_accuracy: 0.9362, test_accuracy: 0.9353\n",
      "Epoch 14, train_sat_kb: 0.7691, test_sat_kb: 0.7894, train_accuracy: 0.9447, test_accuracy: 0.9532\n",
      "Epoch 15, train_sat_kb: 0.7461, test_sat_kb: 0.7481, train_accuracy: 0.9380, test_accuracy: 0.9392\n",
      "Epoch 16, train_sat_kb: 0.7650, test_sat_kb: 0.7724, train_accuracy: 0.9404, test_accuracy: 0.9411\n",
      "Epoch 17, train_sat_kb: 0.7749, test_sat_kb: 0.7941, train_accuracy: 0.9434, test_accuracy: 0.9562\n",
      "Epoch 18, train_sat_kb: 0.7955, test_sat_kb: 0.8299, train_accuracy: 0.9497, test_accuracy: 0.9580\n",
      "Epoch 19, train_sat_kb: 0.7823, test_sat_kb: 0.8002, train_accuracy: 0.9470, test_accuracy: 0.9552\n",
      "Epoch 20, train_sat_kb: 0.8165, test_sat_kb: 0.8205, train_accuracy: 0.9582, test_accuracy: 0.9538\n",
      "Epoch 21, train_sat_kb: 0.8346, test_sat_kb: 0.8399, train_accuracy: 0.9612, test_accuracy: 0.9641\n",
      "Epoch 22, train_sat_kb: 0.8543, test_sat_kb: 0.8831, train_accuracy: 0.9706, test_accuracy: 0.9830\n",
      "Epoch 23, train_sat_kb: 0.8380, test_sat_kb: 0.8091, train_accuracy: 0.9706, test_accuracy: 0.9643\n",
      "Epoch 24, train_sat_kb: 0.8085, test_sat_kb: 0.8448, train_accuracy: 0.9611, test_accuracy: 0.9738\n",
      "Epoch 25, train_sat_kb: 0.8625, test_sat_kb: 0.7941, train_accuracy: 0.9779, test_accuracy: 0.9564\n",
      "Epoch 26, train_sat_kb: 0.7954, test_sat_kb: 0.8150, train_accuracy: 0.9583, test_accuracy: 0.9656\n",
      "Epoch 27, train_sat_kb: 0.8192, test_sat_kb: 0.8230, train_accuracy: 0.9683, test_accuracy: 0.9700\n",
      "Epoch 28, train_sat_kb: 0.8316, test_sat_kb: 0.8402, train_accuracy: 0.9655, test_accuracy: 0.9632\n",
      "Epoch 29, train_sat_kb: 0.8640, test_sat_kb: 0.8734, train_accuracy: 0.9757, test_accuracy: 0.9786\n",
      "Epoch 30, train_sat_kb: 0.8727, test_sat_kb: 0.8690, train_accuracy: 0.9793, test_accuracy: 0.9775\n",
      "Epoch 31, train_sat_kb: 0.8642, test_sat_kb: 0.8717, train_accuracy: 0.9750, test_accuracy: 0.9781\n",
      "Epoch 32, train_sat_kb: 0.8597, test_sat_kb: 0.8638, train_accuracy: 0.9737, test_accuracy: 0.9761\n",
      "Epoch 33, train_sat_kb: 0.8837, test_sat_kb: 0.8983, train_accuracy: 0.9832, test_accuracy: 0.9882\n",
      "Epoch 34, train_sat_kb: 0.8341, test_sat_kb: 0.8352, train_accuracy: 0.9598, test_accuracy: 0.9607\n",
      "Epoch 35, train_sat_kb: 0.8638, test_sat_kb: 0.9036, train_accuracy: 0.9793, test_accuracy: 0.9895\n",
      "Epoch 36, train_sat_kb: 0.8954, test_sat_kb: 0.8663, train_accuracy: 0.9865, test_accuracy: 0.9756\n",
      "Epoch 37, train_sat_kb: 0.8919, test_sat_kb: 0.9152, train_accuracy: 0.9859, test_accuracy: 0.9930\n",
      "Epoch 38, train_sat_kb: 0.8974, test_sat_kb: 0.8867, train_accuracy: 0.9868, test_accuracy: 0.9835\n",
      "Epoch 39, train_sat_kb: 0.9113, test_sat_kb: 0.8987, train_accuracy: 0.9920, test_accuracy: 0.9882\n",
      "Epoch 40, train_sat_kb: 0.8945, test_sat_kb: 0.9181, train_accuracy: 0.9864, test_accuracy: 0.9939\n",
      "Epoch 41, train_sat_kb: 0.9083, test_sat_kb: 0.9111, train_accuracy: 0.9911, test_accuracy: 0.9918\n",
      "Epoch 42, train_sat_kb: 0.9092, test_sat_kb: 0.9077, train_accuracy: 0.9914, test_accuracy: 0.9909\n",
      "Epoch 43, train_sat_kb: 0.9140, test_sat_kb: 0.8815, train_accuracy: 0.9930, test_accuracy: 0.9900\n",
      "Epoch 44, train_sat_kb: 0.8941, test_sat_kb: 0.8227, train_accuracy: 0.9891, test_accuracy: 0.9694\n",
      "Epoch 45, train_sat_kb: 0.8537, test_sat_kb: 0.9229, train_accuracy: 0.9782, test_accuracy: 0.9949\n",
      "Epoch 46, train_sat_kb: 0.9237, test_sat_kb: 0.9238, train_accuracy: 0.9951, test_accuracy: 0.9949\n",
      "Epoch 47, train_sat_kb: 0.8928, test_sat_kb: 0.9124, train_accuracy: 0.9872, test_accuracy: 0.9921\n",
      "Epoch 48, train_sat_kb: 0.8778, test_sat_kb: 0.8584, train_accuracy: 0.9773, test_accuracy: 0.9701\n",
      "Epoch 49, train_sat_kb: 0.9008, test_sat_kb: 0.9210, train_accuracy: 0.9882, test_accuracy: 0.9944\n"
     ]
    }
   ],
   "source": [
    "EPOCHS = 50\n",
    "\n",
    "train(\n",
    "    EPOCHS,\n",
    "    metrics_dict,\n",
    "    ds_train,\n",
    "    ds_test,\n",
    "    train_step,\n",
    "    test_step,\n",
    "    csv_path=\"results_new.csv\",\n",
    "    track_metrics=1\n",
    ")"
   ]
  },
  {
   "cell_type": "code",
   "execution_count": 4,
   "id": "fb4bdbb8-190e-4f79-b060-7fd2e6779079",
   "metadata": {},
   "outputs": [
    {
     "data": {
      "image/png": "[encoded data removed]",
      "text/plain": [
       "<Figure size 432x576 with 2 Axes>"
      ]
     },
     "metadata": {
      "needs_background": "light"
     },
     "output_type": "display_data"
    }
   ],
   "source": [
    "from pylab import rcParams\n",
    "import matplotlib\n",
    "import pandas as pd\n",
    "import matplotlib.pyplot as plt\n",
    "rcParams['figure.figsize'] = 6, 8\n",
    "\n",
    "results = pd.read_csv(\"results_new.csv\", skipinitialspace = True)\n",
    "fig, ax = plt.subplots(2,1)\n",
    "fig.tight_layout()\n",
    "#figure(figsize=(10, 6), dpi=150)\n",
    "ax[0].plot(results['train_accuracy'], color='b', label=\"Train accuracy\")\n",
    "ax[0].plot(results['test_accuracy'], color='r', label=\"Validation data accuracy\",axes =ax[0])\n",
    "legend = ax[0].legend(loc='best', shadow=True)\n",
    "ax[0].set_xlabel('Epochs')\n",
    "ax[0].set_ylabel('Accuracy')\n",
    "\n",
    "ax[1].plot(results['train_sat_kb'], color='b', label=\"Train sat\")\n",
    "ax[1].plot(results['test_sat_kb'], color='r',label=\"Validation data sat\")\n",
    "legend = ax[1].legend(loc='best', shadow=True)\n",
    "ax[1].set_xlabel('Epochs')\n",
    "ax[1].set_ylabel('Satisfiability')\n",
    "\n",
    "plt.savefig('my_plot.png')\n"
   ]
  },
  {
   "cell_type": "code",
   "execution_count": null,
   "id": "cb5cdb33-cd85-4eea-b938-12e77c6372ce",
   "metadata": {},
   "outputs": [],
   "source": []
  }
 ],
 "metadata": {
  "kernelspec": {
   "display_name": "Python 3 (ipykernel)",
   "language": "python",
   "name": "python3"
  },
  "language_info": {
   "codemirror_mode": {
    "name": "ipython",
    "version": 3
   },
   "file_extension": ".py",
   "mimetype": "text/x-python",
   "name": "python",
   "nbconvert_exporter": "python",
   "pygments_lexer": "ipython3",
   "version": "3.9.7"
  }
 },
 "nbformat": 4,
 "nbformat_minor": 5
}
